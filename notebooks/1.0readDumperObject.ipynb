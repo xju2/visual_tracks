{
 "cells": [
  {
   "cell_type": "code",
   "execution_count": 1,
   "metadata": {},
   "outputs": [],
   "source": [
    "import uproot\n",
    "import numpy as np\n",
    "import matplotlib.pyplot as plt"
   ]
  },
  {
   "cell_type": "code",
   "execution_count": 2,
   "metadata": {},
   "outputs": [],
   "source": [
    "def matching_counts(filename):\n",
    "    tree_name = \"GNN4ITk\"\n",
    "    events = uproot.open(f\"{filename}:{tree_name}\")\n",
    "    tracks_info = events.arrays(\n",
    "        [\n",
    "            \"TRKperigee_position\",\n",
    "            \"TRKperigee_momentum\",\n",
    "            \"TRKmot\",\n",
    "            \"TRKoot\",\n",
    "            \"TRKcharge\",\n",
    "            \"TRKmeasurementsOnTrack_pixcl_sctcl_index\",\n",
    "            \"TTCindex\",\n",
    "            \"TTCevent_index\",\n",
    "            \"TTCparticle_link\",\n",
    "            \"Part_event_number\",\n",
    "            \"Part_barcode\",\n",
    "            \"Part_px\",\n",
    "            \"Part_py\",\n",
    "            \"SPx\",\n",
    "            \"SPy\",\n",
    "        ]\n",
    "    )\n",
    "    event_info = events.arrays([\"event_number\", \"run_number\"])\n",
    "    num_events = len(event_info[\"event_number\"])\n",
    "    print(f\"Number of events: {num_events}\")\n",
    "\n",
    "    def count_one_event(event_id):\n",
    "        track_info = tracks_info[event_id]\n",
    "        matched_pid_event_index = track_info[\"TTCevent_index\"].to_numpy()\n",
    "        matched_pid_barcodes = track_info[\"TTCparticle_link\"].to_numpy()\n",
    "        matched_final_barcodes = matched_pid_event_index * 10_000_000 + matched_pid_barcodes\n",
    "\n",
    "        pid_event_index = track_info[\"Part_event_number\"].to_numpy()\n",
    "        pid_barcodes = track_info[\"Part_barcode\"].to_numpy()\n",
    "        pid_final_barcodes = pid_event_index * 10_000_000 + pid_barcodes\n",
    "\n",
    "        mask_matched = np.isin(pid_final_barcodes, matched_final_barcodes)\n",
    "        part_px = track_info[\"Part_px\"].to_numpy()\n",
    "        part_py = track_info[\"Part_py\"].to_numpy()\n",
    "        part_pt = np.sqrt(part_px ** 2 + part_py ** 2)\n",
    "        high_pt_matched = sum((part_pt > 1000) & mask_matched)\n",
    "        low_pt_matched = sum((part_pt <= 1000) & mask_matched)\n",
    "\n",
    "        sp_x = track_info[\"SPx\"].to_numpy()\n",
    "        return high_pt_matched, low_pt_matched, len(sp_x)\n",
    "\n",
    "    print(count_one_event(0))"
   ]
  },
  {
   "cell_type": "code",
   "execution_count": null,
   "metadata": {},
   "outputs": [],
   "source": []
  },
  {
   "cell_type": "code",
   "execution_count": 71,
   "metadata": {},
   "outputs": [
    {
     "name": "stdout",
     "output_type": "stream",
     "text": [
      "Number of events: 1\n",
      "(851, 637, 271663)\n"
     ]
    }
   ],
   "source": [
    "gnn_filename = \"/pscratch/sd/x/xju/ITk/ForFinalPaper/run_athena/run/GNN4Pixel/Dump_GNN4Itk.root\"\n",
    "matching_counts(gnn_filename)"
   ]
  },
  {
   "cell_type": "code",
   "execution_count": 73,
   "metadata": {},
   "outputs": [
    {
     "name": "stdout",
     "output_type": "stream",
     "text": [
      "Number of events: 1\n",
      "(932, 669, 271663)\n"
     ]
    }
   ],
   "source": [
    "ckf_filename = \"/pscratch/sd/x/xju/ITk/ForFinalPaper/run_athena/run/ckfOneEvt/Dump_GNN4Itk.root\"\n",
    "matching_counts(ckf_filename)"
   ]
  },
  {
   "cell_type": "code",
   "execution_count": 3,
   "metadata": {},
   "outputs": [],
   "source": [
    "filename = \"/pscratch/sd/x/xju/ITk/ForFinalPaper/run_athena/run/GNN4Pixel/Dump_GNN4Itk.root\"\n",
    "tree_name = \"GNN4ITk\"\n",
    "events = uproot.open(f\"{filename}:{tree_name}\")\n",
    "tracks_info = events.arrays(\n",
    "    [\n",
    "        \"TRKperigee_position\",\n",
    "        \"TRKperigee_momentum\",\n",
    "        \"TRKmot\",\n",
    "        \"TRKoot\",\n",
    "        \"TRKcharge\",\n",
    "        \"TRKmeasurementsOnTrack_pixcl_sctcl_index\",\n",
    "        \"TTCindex\",\n",
    "        \"TTCevent_index\",\n",
    "        \"TTCparticle_link\",\n",
    "        \"Part_event_number\",\n",
    "        \"Part_barcode\",\n",
    "        \"Part_px\",\n",
    "        \"Part_py\",\n",
    "    ]\n",
    ")\n",
    "track_info = tracks_info[0]"
   ]
  },
  {
   "cell_type": "code",
   "execution_count": 4,
   "metadata": {},
   "outputs": [
    {
     "name": "stdout",
     "output_type": "stream",
     "text": [
      "<class 'awkward.highlevel.Array'>\n"
     ]
    }
   ],
   "source": [
    "print(type(tracks_info))"
   ]
  },
  {
   "cell_type": "code",
   "execution_count": null,
   "metadata": {},
   "outputs": [],
   "source": [
    "part_px = track_info[\"Part_px\"].to_numpy()\n",
    "part_py = track_info[\"Part_py\"].to_numpy()\n",
    "part_pt = np.sqrt(part_px ** 2 + part_py ** 2)"
   ]
  },
  {
   "cell_type": "code",
   "execution_count": 69,
   "metadata": {},
   "outputs": [
    {
     "ename": "NameError",
     "evalue": "name 'torch' is not defined",
     "output_type": "error",
     "traceback": [
      "\u001b[0;31m---------------------------------------------------------------------------\u001b[0m",
      "\u001b[0;31mNameError\u001b[0m                                 Traceback (most recent call last)",
      "Cell \u001b[0;32mIn[69], line 2\u001b[0m\n\u001b[1;32m      1\u001b[0m data_filename \u001b[38;5;241m=\u001b[39m \u001b[38;5;124m\"\u001b[39m\u001b[38;5;124m/pscratch/sd/x/xju/ITk/ForFinalPaper/CHEP2024_data/feature_store/valset/event000006800-graph.pyg\u001b[39m\u001b[38;5;124m\"\u001b[39m\n\u001b[0;32m----> 2\u001b[0m in_data \u001b[38;5;241m=\u001b[39m \u001b[43mtorch\u001b[49m\u001b[38;5;241m.\u001b[39mload(data_filename)\n",
      "\u001b[0;31mNameError\u001b[0m: name 'torch' is not defined"
     ]
    }
   ],
   "source": [
    "\n",
    "data_filename = \"/pscratch/sd/x/xju/ITk/ForFinalPaper/CHEP2024_data/feature_store/valset/event000006800-graph.pyg\"\n",
    "in_data = torch.load(data_filename)"
   ]
  }
 ],
 "metadata": {
  "kernelspec": {
   "display_name": ".venv",
   "language": "python",
   "name": "python3"
  },
  "language_info": {
   "codemirror_mode": {
    "name": "ipython",
    "version": 3
   },
   "file_extension": ".py",
   "mimetype": "text/x-python",
   "name": "python",
   "nbconvert_exporter": "python",
   "pygments_lexer": "ipython3",
   "version": "3.11.7"
  }
 },
 "nbformat": 4,
 "nbformat_minor": 2
}
