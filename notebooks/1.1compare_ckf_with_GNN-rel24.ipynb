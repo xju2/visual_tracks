{
 "cells": [
  {
   "cell_type": "code",
   "execution_count": 6,
   "metadata": {},
   "outputs": [],
   "source": [
    "%load_ext autoreload\n",
    "%autoreload 2"
   ]
  },
  {
   "cell_type": "code",
   "execution_count": 7,
   "metadata": {},
   "outputs": [],
   "source": [
    "import pandas as pd\n",
    "import numpy as np\n",
    "import matplotlib.pyplot as plt\n",
    "import seaborn as sns\n",
    "\n",
    "import pprint\n",
    "pp = pprint.PrettyPrinter(indent=4)\n",
    "\n",
    "import acctrack.utils.ctd2021_data as data_helper\n",
    "from acctrack.io.athena_raw_root import AthenaRawRootReader\n",
    "from acctrack.tools.compare_tracking_algs import TrackAlgComparator\n",
    "from acctrack.tools.analyze_track_data import TrackAnalyzer\n"
   ]
  },
  {
   "cell_type": "code",
   "execution_count": 8,
   "metadata": {},
   "outputs": [],
   "source": [
    "run_number = 242020\n",
    "event_number = 6800"
   ]
  },
  {
   "cell_type": "code",
   "execution_count": 62,
   "metadata": {},
   "outputs": [
    {
     "name": "stdout",
     "output_type": "stream",
     "text": [
      "Tree GNN4ITk is not in /pscratch/sd/x/xju/ITk/ForFinalPaper/run_athena/run/GNN4Pixel/physval.root\n",
      "Tree GNN4ITk is not in /pscratch/sd/x/xju/ITk/ForFinalPaper/run_athena/run/GNN4Pixel/test.aod.gnnreader.debug.root\n",
      "/pscratch/sd/x/xju/ITk/ForFinalPaper/run_athena/run/GNN4Pixel contains  1 files and total 1 events.\n"
     ]
    }
   ],
   "source": [
    "gnn_path = \"/pscratch/sd/x/xju/ITk/ForFinalPaper/run_athena/run/GNN4Pixel\"\n",
    "gnn_reader = AthenaRawRootReader(gnn_path)\n",
    "gnn_reader.read_file(0)"
   ]
  },
  {
   "cell_type": "code",
   "execution_count": 65,
   "metadata": {},
   "outputs": [
    {
     "name": "stdout",
     "output_type": "stream",
     "text": [
      "Tree GNN4ITk is not in /pscratch/sd/x/xju/ITk/ForFinalPaper/run_athena/run/ckfOneEvt/physval.root\n",
      "Tree GNN4ITk is not in /pscratch/sd/x/xju/ITk/ForFinalPaper/run_athena/run/ckfOneEvt/test.aod.ckf.debug.root\n",
      "/pscratch/sd/x/xju/ITk/ForFinalPaper/run_athena/run/ckfOneEvt contains  1 files and total 1 events.\n",
      "Reading file: /pscratch/sd/x/xju/ITk/ForFinalPaper/run_athena/run/ckfOneEvt/Dump_GNN4Itk.root\n",
      "Number of events: 1 in file /pscratch/sd/x/xju/ITk/ForFinalPaper/run_athena/run/ckfOneEvt/Dump_GNN4Itk.root.\n"
     ]
    },
    {
     "data": {
      "text/plain": [
       "[6800]"
      ]
     },
     "execution_count": 65,
     "metadata": {},
     "output_type": "execute_result"
    }
   ],
   "source": [
    "ckf_path = \"/pscratch/sd/x/xju/ITk/ForFinalPaper/run_athena/run/ckfOneEvt\"\n",
    "ckf_reader = AthenaRawRootReader(ckf_path)\n",
    "ckf_reader.read_file(0)"
   ]
  },
  {
   "cell_type": "code",
   "execution_count": 66,
   "metadata": {},
   "outputs": [
    {
     "ename": "AttributeError",
     "evalue": "'AthenaRawRootReader' object has no attribute 'match_to_truth'",
     "output_type": "error",
     "traceback": [
      "\u001b[0;31m---------------------------------------------------------------------------\u001b[0m",
      "\u001b[0;31mAttributeError\u001b[0m                            Traceback (most recent call last)",
      "Cell \u001b[0;32mIn[66], line 1\u001b[0m\n\u001b[0;32m----> 1\u001b[0m \u001b[43mgnn_reader\u001b[49m\u001b[38;5;241;43m.\u001b[39;49m\u001b[43mmatch_to_truth\u001b[49m()\n",
      "\u001b[0;31mAttributeError\u001b[0m: 'AthenaRawRootReader' object has no attribute 'match_to_truth'"
     ]
    }
   ],
   "source": [
    "gnn_reader.match_to_truth()"
   ]
  },
  {
   "cell_type": "code",
   "execution_count": null,
   "metadata": {},
   "outputs": [],
   "source": []
  },
  {
   "cell_type": "code",
   "execution_count": 67,
   "metadata": {},
   "outputs": [],
   "source": [
    "from acctrack.io import utils_athena_raw_root as utils_raw_root\n",
    "from acctrack.io import utils_athena_raw as utils_raw_csv\n",
    "\n",
    "in_file_name = \"/pscratch/sd/x/xju/ITk/ForFinalPaper/run_athena/run/GNN4Pixel/Dump_GNN4Itk.root\"\n"
   ]
  },
  {
   "cell_type": "code",
   "execution_count": 68,
   "metadata": {},
   "outputs": [],
   "source": [
    "import uproot\n",
    "\n",
    "tree_name = \"GNN4ITk\"\n",
    "tree = uproot.open(in_file_name)[tree_name]\n"
   ]
  },
  {
   "cell_type": "code",
   "execution_count": 32,
   "metadata": {},
   "outputs": [],
   "source": [
    "all_event_info = tree.arrays(utils_raw_root.all_branches)"
   ]
  },
  {
   "cell_type": "code",
   "execution_count": 100,
   "metadata": {},
   "outputs": [],
   "source": [
    "detailed_truth = tree.arrays(utils_raw_root.detailed_truth_branch_names + [\"nTRK\"])[0]"
   ]
  },
  {
   "cell_type": "code",
   "execution_count": 101,
   "metadata": {},
   "outputs": [
    {
     "data": {
      "text/plain": [
       "1503"
      ]
     },
     "execution_count": 101,
     "metadata": {},
     "output_type": "execute_result"
    }
   ],
   "source": [
    "detailed_truth[\"nTRK\"]"
   ]
  },
  {
   "cell_type": "code",
   "execution_count": 102,
   "metadata": {},
   "outputs": [],
   "source": [
    "my_arrays = [detailed_truth[x].to_numpy() for x in utils_raw_root.detailed_truth_branch_names if \"trajectory\" not in x]"
   ]
  },
  {
   "cell_type": "code",
   "execution_count": 106,
   "metadata": {},
   "outputs": [
    {
     "data": {
      "text/plain": [
       "(1740, 2)"
      ]
     },
     "execution_count": 106,
     "metadata": {},
     "output_type": "execute_result"
    }
   ],
   "source": [
    "my_arrays[2][:, :2].shape"
   ]
  },
  {
   "cell_type": "code",
   "execution_count": 115,
   "metadata": {},
   "outputs": [],
   "source": [
    "full_arrays = np.array([my_arrays[0], my_arrays[1], my_arrays[2][:, 0], my_arrays[2][:, 1],\n",
    "                              my_arrays[3][:, 0], my_arrays[3][:, 1],\n",
    "                              my_arrays[4][:, 0], my_arrays[4][:, 1]]).T"
   ]
  },
  {
   "cell_type": "code",
   "execution_count": 118,
   "metadata": {},
   "outputs": [],
   "source": [
    "df_num_matched = pd.DataFrame(full_arrays, columns=[\"trkid\", \"num_matched\",\n",
    "                                        \"true_pixel_hits\", \"true_sct_hits\",\n",
    "                                        \"reco_pixel_hits\", \"reco_sct_hits\",\n",
    "                                        \"common_pixel_hits\", \"common_sct_hits\"])"
   ]
  },
  {
   "cell_type": "code",
   "execution_count": 117,
   "metadata": {},
   "outputs": [
    {
     "ename": "ValueError",
     "evalue": "all the input arrays must have same number of dimensions, but the array at index 0 has 1 dimension(s) and the array at index 2 has 2 dimension(s)",
     "output_type": "error",
     "traceback": [
      "\u001b[0;31m---------------------------------------------------------------------------\u001b[0m",
      "\u001b[0;31mValueError\u001b[0m                                Traceback (most recent call last)",
      "Cell \u001b[0;32mIn[117], line 1\u001b[0m\n\u001b[0;32m----> 1\u001b[0m full_arrays \u001b[38;5;241m=\u001b[39m \u001b[43mnp\u001b[49m\u001b[38;5;241;43m.\u001b[39;49m\u001b[43mconcatenate\u001b[49m\u001b[43m(\u001b[49m\u001b[43m[\u001b[49m\u001b[43mmy_arrays\u001b[49m\u001b[43m[\u001b[49m\u001b[38;5;241;43m0\u001b[39;49m\u001b[43m]\u001b[49m\u001b[43m,\u001b[49m\u001b[43m \u001b[49m\u001b[43mmy_arrays\u001b[49m\u001b[43m[\u001b[49m\u001b[38;5;241;43m1\u001b[39;49m\u001b[43m]\u001b[49m\u001b[43m,\u001b[49m\u001b[43m \u001b[49m\u001b[43mmy_arrays\u001b[49m\u001b[43m[\u001b[49m\u001b[38;5;241;43m2\u001b[39;49m\u001b[43m]\u001b[49m\u001b[43m[\u001b[49m\u001b[43m:\u001b[49m\u001b[43m,\u001b[49m\u001b[43m \u001b[49m\u001b[43m:\u001b[49m\u001b[38;5;241;43m2\u001b[39;49m\u001b[43m]\u001b[49m\u001b[43m,\u001b[49m\n\u001b[1;32m      2\u001b[0m \u001b[43m                              \u001b[49m\u001b[43mmy_arrays\u001b[49m\u001b[43m[\u001b[49m\u001b[38;5;241;43m3\u001b[39;49m\u001b[43m]\u001b[49m\u001b[43m[\u001b[49m\u001b[43m:\u001b[49m\u001b[43m,\u001b[49m\u001b[43m \u001b[49m\u001b[43m:\u001b[49m\u001b[38;5;241;43m2\u001b[39;49m\u001b[43m]\u001b[49m\u001b[43m,\u001b[49m\u001b[43m \u001b[49m\u001b[43mmy_arrays\u001b[49m\u001b[43m[\u001b[49m\u001b[38;5;241;43m4\u001b[39;49m\u001b[43m]\u001b[49m\u001b[43m[\u001b[49m\u001b[43m:\u001b[49m\u001b[43m,\u001b[49m\u001b[43m \u001b[49m\u001b[43m:\u001b[49m\u001b[38;5;241;43m2\u001b[39;49m\u001b[43m]\u001b[49m\u001b[43m]\u001b[49m\u001b[43m)\u001b[49m\n\u001b[1;32m      3\u001b[0m df_num_matched \u001b[38;5;241m=\u001b[39m pd\u001b[38;5;241m.\u001b[39mDataFrame(\u001b[38;5;28mdict\u001b[39m(\u001b[38;5;28mzip\u001b[39m([\u001b[38;5;124m\"\u001b[39m\u001b[38;5;124mtrkid\u001b[39m\u001b[38;5;124m\"\u001b[39m, \u001b[38;5;124m\"\u001b[39m\u001b[38;5;124mnum_matched\u001b[39m\u001b[38;5;124m\"\u001b[39m,\n\u001b[1;32m      4\u001b[0m                                         \u001b[38;5;124m\"\u001b[39m\u001b[38;5;124mtrue_pixel_hits\u001b[39m\u001b[38;5;124m\"\u001b[39m, \u001b[38;5;124m\"\u001b[39m\u001b[38;5;124mtrue_sct_hits\u001b[39m\u001b[38;5;124m\"\u001b[39m,\n\u001b[1;32m      5\u001b[0m                                         \u001b[38;5;124m\"\u001b[39m\u001b[38;5;124mreco_pixel_hits\u001b[39m\u001b[38;5;124m\"\u001b[39m, \u001b[38;5;124m\"\u001b[39m\u001b[38;5;124mreco_sct_hits\u001b[39m\u001b[38;5;124m\"\u001b[39m,\n\u001b[0;32m   (...)\u001b[0m\n\u001b[1;32m      8\u001b[0m                               my_arrays[\u001b[38;5;241m3\u001b[39m][:, \u001b[38;5;241m0\u001b[39m], my_arrays[\u001b[38;5;241m3\u001b[39m][:, \u001b[38;5;241m1\u001b[39m],\n\u001b[1;32m      9\u001b[0m                               my_arrays[\u001b[38;5;241m4\u001b[39m][:, \u001b[38;5;241m0\u001b[39m], my_arrays[\u001b[38;5;241m4\u001b[39m][:, \u001b[38;5;241m1\u001b[39m]])))\n",
      "\u001b[0;31mValueError\u001b[0m: all the input arrays must have same number of dimensions, but the array at index 0 has 1 dimension(s) and the array at index 2 has 2 dimension(s)"
     ]
    }
   ],
   "source": [
    "full_arrays = np.concatenate([my_arrays[0], my_arrays[1], my_arrays[2][:, :2],\n",
    "                              my_arrays[3][:, :2], my_arrays[4][:, :2]])\n",
    "df_num_matched = pd.DataFrame(dict(zip([\"trkid\", \"num_matched\",\n",
    "                                        \"true_pixel_hits\", \"true_sct_hits\",\n",
    "                                        \"reco_pixel_hits\", \"reco_sct_hits\",\n",
    "                                        \"common_pixel_hits\", \"common_sct_hits\"],\n",
    "                                        [my_arrays[0], my_arrays[1], my_arrays[2][:, 0], my_arrays[2][:, 1],\n",
    "                              my_arrays[3][:, 0], my_arrays[3][:, 1],\n",
    "                              my_arrays[4][:, 0], my_arrays[4][:, 1]])))"
   ]
  },
  {
   "cell_type": "code",
   "execution_count": 76,
   "metadata": {},
   "outputs": [],
   "source": [
    "num_matched_arrays = [detailed_truth[x] for x in [\"DTTindex\", \"DTTsize\"]]\n",
    "df_num_matched = pd.DataFrame(dict(zip([\"dtt_trkid\", \"dtt_num_matched\"], num_matched_arrays)))"
   ]
  },
  {
   "cell_type": "code",
   "execution_count": 83,
   "metadata": {},
   "outputs": [
    {
     "data": {
      "text/plain": [
       "(1740, 2)"
      ]
     },
     "execution_count": 83,
     "metadata": {},
     "output_type": "execute_result"
    }
   ],
   "source": [
    "df_num_matched.shape"
   ]
  },
  {
   "cell_type": "code",
   "execution_count": 73,
   "metadata": {},
   "outputs": [
    {
     "data": {
      "text/plain": [
       "[<Array [[0, 1, 2, 3, 4, ..., 1500, 1501, 1502, 1502]] type='1 * var * int32'>,\n",
       " <Array [[3, 1, 1, 1, 1, 1, 1, ..., 1, 1, 1, 1, 1, 1, 2]] type='1 * var * int32'>]"
      ]
     },
     "execution_count": 73,
     "metadata": {},
     "output_type": "execute_result"
    }
   ],
   "source": [
    "num_matched_arrays"
   ]
  },
  {
   "cell_type": "code",
   "execution_count": 33,
   "metadata": {},
   "outputs": [],
   "source": [
    "tracks_info = all_event_info[0]"
   ]
  },
  {
   "cell_type": "code",
   "execution_count": 35,
   "metadata": {},
   "outputs": [],
   "source": [
    "clusters = gnn_reader._read(\"clusters\", event_number)\n",
    "spacepoints = gnn_reader._read(\"spacepoints\", event_number)"
   ]
  },
  {
   "cell_type": "code",
   "execution_count": 39,
   "metadata": {},
   "outputs": [
    {
     "data": {
      "text/plain": [
       "Index(['hit_id', 'x', 'y', 'z', 'cluster_index_1', 'cluster_index_2',\n",
       "       'SPisOverlap'],\n",
       "      dtype='object')"
      ]
     },
     "execution_count": 39,
     "metadata": {},
     "output_type": "execute_result"
    }
   ],
   "source": [
    "spacepoints.columns"
   ]
  },
  {
   "cell_type": "code",
   "execution_count": 36,
   "metadata": {},
   "outputs": [],
   "source": [
    "pixel_hits = spacepoints[spacepoints[\"cluster_index_2\"] == -1]\n",
    "strip_hits = spacepoints[spacepoints[\"cluster_index_2\"] != -1]"
   ]
  },
  {
   "cell_type": "code",
   "execution_count": 42,
   "metadata": {},
   "outputs": [],
   "source": [
    "truth = utils_raw_csv.truth_match_clusters(pixel_hits, strip_hits, clusters)"
   ]
  },
  {
   "cell_type": "code",
   "execution_count": 43,
   "metadata": {},
   "outputs": [
    {
     "data": {
      "text/plain": [
       "Index(['hit_id', 'x', 'y', 'z', 'cluster_index_1', 'cluster_index_2',\n",
       "       'SPisOverlap', 'particle_id'],\n",
       "      dtype='object')"
      ]
     },
     "execution_count": 43,
     "metadata": {},
     "output_type": "execute_result"
    }
   ],
   "source": [
    "truth.columns"
   ]
  },
  {
   "cell_type": "code",
   "execution_count": 44,
   "metadata": {},
   "outputs": [],
   "source": [
    "truth = utils_raw_csv.merge_spacepoints_clusters(truth, clusters)"
   ]
  },
  {
   "cell_type": "code",
   "execution_count": 45,
   "metadata": {},
   "outputs": [
    {
     "data": {
      "text/plain": [
       "Index(['hit_id', 'x', 'y', 'z', 'cluster_index_1', 'cluster_index_2',\n",
       "       'SPisOverlap', 'particle_id', 'hardware', 'cluster_x_1', 'cluster_y_1',\n",
       "       'cluster_z_1', 'barrel_endcap', 'layer_disk', 'eta_module',\n",
       "       'phi_module', 'module_id', 'count', 'charge_count', 'loc_eta',\n",
       "       'loc_phi', 'localDir0', 'localDir1', 'localDir2', 'lengthDir0',\n",
       "       'lengthDir1', 'lengthDir2', 'glob_eta', 'glob_phi', 'eta_angle',\n",
       "       'phi_angle', 'norm_x', 'norm_y', 'norm_z', 'subevent', 'barcode',\n",
       "       'cluster_x_2', 'cluster_y_2', 'cluster_z_2'],\n",
       "      dtype='object')"
      ]
     },
     "execution_count": 45,
     "metadata": {},
     "output_type": "execute_result"
    }
   ],
   "source": [
    "truth.columns"
   ]
  },
  {
   "cell_type": "code",
   "execution_count": 48,
   "metadata": {},
   "outputs": [
    {
     "data": {
      "text/plain": [
       "hardware         object\n",
       "barrel_endcap     int32\n",
       "dtype: object"
      ]
     },
     "execution_count": 48,
     "metadata": {},
     "output_type": "execute_result"
    }
   ],
   "source": [
    "truth[[\"hardware\", \"barrel_endcap\"]].dtypes"
   ]
  },
  {
   "cell_type": "code",
   "execution_count": 50,
   "metadata": {},
   "outputs": [
    {
     "data": {
      "text/plain": [
       "(array(['-0.002371282298980759', '-0.0024257369541063746',\n",
       "        '-0.007478353923206171', ..., '999.4352706555524',\n",
       "        '999.4634309017697', '999.9315202904162'], dtype=object),\n",
       " array([0, 1, 2, 3, 4, 5, 6, 7, 8], dtype=int32),\n",
       " array([0, 1, 2, 3, 4, 5, 6, 7, 8], dtype=int32))"
      ]
     },
     "execution_count": 50,
     "metadata": {},
     "output_type": "execute_result"
    }
   ],
   "source": [
    "np.unique(truth.hardware), np.unique(truth.barrel_endcap), np.unique(clusters.barrel_endcap)"
   ]
  },
  {
   "cell_type": "code",
   "execution_count": 51,
   "metadata": {},
   "outputs": [],
   "source": [
    "cluster_arrays = [tracks_info[x] for x in utils_raw_root.cluster_branch_names\n",
    "                    if x not in {\"CLhardware\",\n",
    "                                \"CLparticleLink_barcode\",\n",
    "                                \"CLparticleLink_eventIndex\"}]"
   ]
  },
  {
   "cell_type": "code",
   "execution_count": 52,
   "metadata": {},
   "outputs": [],
   "source": [
    "cluster_hardware = np.array(tracks_info[\"CLhardware\"].tolist(), dtype=str)\n",
    "cluster_columns = [*utils_raw_root.cluster_col_names, \"hardware\"]\n",
    "cluster_arrays.append(cluster_hardware)\n",
    "clusters2 = pd.DataFrame(dict(zip(cluster_columns, cluster_arrays)))"
   ]
  },
  {
   "cell_type": "code",
   "execution_count": 55,
   "metadata": {},
   "outputs": [
    {
     "data": {
      "text/plain": [
       "array([0, 1, 2, 3, 4, 5, 6, 7, 8], dtype=int32)"
      ]
     },
     "execution_count": 55,
     "metadata": {},
     "output_type": "execute_result"
    }
   ],
   "source": [
    "np.unique(clusters2.barrel_endcap)"
   ]
  },
  {
   "cell_type": "code",
   "execution_count": 56,
   "metadata": {},
   "outputs": [],
   "source": [
    "avallier_filename = \"/global/homes/x/xju/m3443/data/GNN4ITK/CHEP2024_data/root_files/user.avallier.mc21_14TeV.601229.PhPy8EG_A14_ttbar_hdamp258p75_SingleLep.DumpGNN4ITk_v5.e8481_s4149_r15238_EXT0/user.avallier.38040858.EXT0._000193.Dump_GNN4Itk.root\"\n",
    "avallier_tree = uproot.open(avallier_filename)[tree_name]\n",
    "avallier_all_event_info = avallier_tree.arrays(utils_raw_root.all_branches)"
   ]
  },
  {
   "cell_type": "code",
   "execution_count": 60,
   "metadata": {},
   "outputs": [],
   "source": [
    "barrel_endcap = avallier_all_event_info[0][\"CLbarrel_endcap\"]"
   ]
  },
  {
   "cell_type": "code",
   "execution_count": 61,
   "metadata": {},
   "outputs": [
    {
     "data": {
      "text/html": [
       "<pre>[-2,\n",
       " 0,\n",
       " 2]\n",
       "---------------\n",
       "type: 3 * int32</pre>"
      ],
      "text/plain": [
       "<Array [-2, 0, 2] type='3 * int32'>"
      ]
     },
     "execution_count": 61,
     "metadata": {},
     "output_type": "execute_result"
    }
   ],
   "source": [
    "np.unique(barrel_endcap)"
   ]
  },
  {
   "cell_type": "code",
   "execution_count": null,
   "metadata": {},
   "outputs": [],
   "source": []
  }
 ],
 "metadata": {
  "kernelspec": {
   "display_name": ".venv",
   "language": "python",
   "name": "python3"
  },
  "language_info": {
   "codemirror_mode": {
    "name": "ipython",
    "version": 3
   },
   "file_extension": ".py",
   "mimetype": "text/x-python",
   "name": "python",
   "nbconvert_exporter": "python",
   "pygments_lexer": "ipython3",
   "version": "3.11.7"
  }
 },
 "nbformat": 4,
 "nbformat_minor": 2
}
