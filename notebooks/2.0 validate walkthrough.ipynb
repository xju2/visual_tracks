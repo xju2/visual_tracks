{
 "cells": [
  {
   "cell_type": "code",
   "execution_count": 7,
   "metadata": {},
   "outputs": [],
   "source": [
    "import torch\n",
    "import numpy as np"
   ]
  },
  {
   "cell_type": "code",
   "execution_count": 104,
   "metadata": {},
   "outputs": [
    {
     "name": "stderr",
     "output_type": "stream",
     "text": [
      "/tmp/ipykernel_2283654/3261373381.py:3: FutureWarning: You are using `torch.load` with `weights_only=False` (the current default value), which uses the default pickle module implicitly. It is possible to construct malicious pickle data which will execute arbitrary code during unpickling (See https://github.com/pytorch/pytorch/blob/main/SECURITY.md#untrusted-models for more details). In a future release, the default value for `weights_only` will be flipped to `True`. This limits the functions that could be executed during unpickling. Arbitrary objects will no longer be allowed to be loaded via this mode unless they are explicitly allowlisted by the user via `torch.serialization.add_safe_globals`. We recommend you start setting `weights_only=True` for any use case where you don't have full control of the loaded file. Please open an issue on GitHub for any issues related to this experimental feature.\n",
      "  data = torch.load(acorn_data_file, map_location=\"cpu\")\n"
     ]
    }
   ],
   "source": [
    "file_base_path = \"/global/cfs/cdirs/m3443/usr/xju/ITk/For2023Paper/metric_learning_testing/debug\"\n",
    "acorn_data_file = f\"{file_base_path}/debug_data.pt\"\n",
    "data = torch.load(acorn_data_file, map_location=\"cpu\")"
   ]
  },
  {
   "cell_type": "code",
   "execution_count": 115,
   "metadata": {},
   "outputs": [],
   "source": [
    "cpp_data_file = f\"{file_base_path}/tracks.txt\"\n",
    "with open(cpp_data_file) as f:\n",
    "    lines = f.readlines()\n",
    "\n",
    "data_cpp = np.array(list(map(int, lines[0].split())), dtype=np.int64)"
   ]
  },
  {
   "cell_type": "code",
   "execution_count": 127,
   "metadata": {},
   "outputs": [],
   "source": [
    "cpp_data_file2 = f\"{file_base_path}/tracks_undirected_graph.txt\"\n",
    "with open(cpp_data_file2) as f:\n",
    "    lines = f.readlines()\n",
    "\n",
    "data_cpp2 = np.array(list(map(int, lines[0].split())), dtype=np.int64)"
   ]
  },
  {
   "cell_type": "code",
   "execution_count": 59,
   "metadata": {},
   "outputs": [],
   "source": [
    "def get_track_arrays(in_array):\n",
    "    tracks = []\n",
    "    track = []\n",
    "    for hit_id in in_array:\n",
    "        if hit_id == -1:\n",
    "            tracks.append(track)\n",
    "            track = []\n",
    "        else:\n",
    "            track.append(hit_id.item())\n",
    "    return tracks"
   ]
  },
  {
   "cell_type": "code",
   "execution_count": 128,
   "metadata": {},
   "outputs": [],
   "source": [
    "tracks_from_acorn = get_track_arrays(data[\"track_candidates\"])\n",
    "tracks_from_cpp = get_track_arrays(data_cpp)\n",
    "tracks_from_cpp2 = get_track_arrays(data_cpp2)"
   ]
  },
  {
   "cell_type": "code",
   "execution_count": 130,
   "metadata": {},
   "outputs": [
    {
     "data": {
      "text/plain": [
       "(4248, 4366, 4611)"
      ]
     },
     "execution_count": 130,
     "metadata": {},
     "output_type": "execute_result"
    }
   ],
   "source": [
    "len(tracks_from_acorn), len(tracks_from_cpp), len(tracks_from_cpp2)"
   ]
  },
  {
   "cell_type": "code",
   "execution_count": 109,
   "metadata": {},
   "outputs": [
    {
     "data": {
      "text/plain": [
       "([14424, 1, 14508, 78, 14581, 14649, 21910, 21986, 22055, 22135, 62580],\n",
       " [1, 14508, 14581, 14649, 21910, 21986, 22055, 22135, 62580, 78])"
      ]
     },
     "execution_count": 109,
     "metadata": {},
     "output_type": "execute_result"
    }
   ],
   "source": [
    "tracks_from_acorn[0], tracks_from_cpp[0]"
   ]
  },
  {
   "cell_type": "code",
   "execution_count": 138,
   "metadata": {},
   "outputs": [],
   "source": [
    "def matching(tracks1, tracks2, threshold=0.7, min_common=999):\n",
    "    matching_results = []\n",
    "    only_in_1 = []\n",
    "    for track1 in tracks1:\n",
    "        matched = False\n",
    "        for track2 in tracks2:\n",
    "            track1_set = set(track1)\n",
    "            track2_set = set(track2)\n",
    "            common = track1_set & track2_set\n",
    "            frac1 = len(common) / len(track1_set)\n",
    "            frac2 = len(common) / len(track2_set)\n",
    "            if ((frac1 > threshold and frac2 > threshold) or (len(common) >= min_common)\n",
    "            ):\n",
    "                matching_results.append((track1, track2, frac1, frac2))\n",
    "                matched = True\n",
    "        if not matched:\n",
    "            only_in_1.append(track1)\n",
    "    return matching_results, only_in_1"
   ]
  },
  {
   "cell_type": "code",
   "execution_count": 132,
   "metadata": {},
   "outputs": [
    {
     "data": {
      "text/plain": [
       "(3543, 0.8340395480225988)"
      ]
     },
     "execution_count": 132,
     "metadata": {},
     "output_type": "execute_result"
    }
   ],
   "source": [
    "matched, only_in_acorn = matching(tracks_from_acorn, tracks_from_cpp, 0.7)\n",
    "len(matched), len(matched) / len(tracks_from_acorn)"
   ]
  },
  {
   "cell_type": "code",
   "execution_count": 137,
   "metadata": {},
   "outputs": [
    {
     "name": "stdout",
     "output_type": "stream",
     "text": [
      "4191 0.9865819209039548\n",
      "4191 0.9865819209039548\n"
     ]
    }
   ],
   "source": [
    "matched, only_in_acorn2 = matching(tracks_from_acorn, tracks_from_cpp2, 0.7)\n",
    "print(len(matched), len(matched) / len(tracks_from_acorn))\n",
    "\n",
    "matched, only_in_cpp2 = matching(tracks_from_cpp2, tracks_from_acorn, 0.7)\n",
    "print(len(matched), len(matched) / len(tracks_from_acorn))"
   ]
  },
  {
   "cell_type": "code",
   "execution_count": 119,
   "metadata": {},
   "outputs": [],
   "source": [
    "def find_track_has_hit(tracks, hit_id):\n",
    "    for track in tracks:\n",
    "        if hit_id in track:\n",
    "            return track\n",
    "    return None"
   ]
  },
  {
   "cell_type": "code",
   "execution_count": 134,
   "metadata": {},
   "outputs": [
    {
     "name": "stdout",
     "output_type": "stream",
     "text": [
      "[2, 81, 165]\n",
      "None\n"
     ]
    }
   ],
   "source": [
    "print(only_in_acorn[0])\n",
    "print(find_track_has_hit(tracks_from_cpp, 165))"
   ]
  },
  {
   "cell_type": "code",
   "execution_count": 135,
   "metadata": {},
   "outputs": [
    {
     "name": "stdout",
     "output_type": "stream",
     "text": [
      "[84564, 932, 15, 85, 1071, 163, 1156, 236, 1233, 309]\n",
      "[84564, 932, 15, 85]\n",
      "[1071, 1156, 1233, 163, 236, 309]\n"
     ]
    }
   ],
   "source": [
    "print(only_in_acorn[1])\n",
    "print(find_track_has_hit(tracks_from_cpp, 84564))\n",
    "print(find_track_has_hit(tracks_from_cpp, 1071))"
   ]
  },
  {
   "cell_type": "code",
   "execution_count": 136,
   "metadata": {},
   "outputs": [
    {
     "name": "stdout",
     "output_type": "stream",
     "text": [
      "[1985, 26158, 24774, 26223]\n",
      "[1985, 24774, 24776, 24837, 26158, 26159, 26223, 26225, 26277]\n"
     ]
    }
   ],
   "source": [
    "print(only_in_acorn2[0])\n",
    "print(find_track_has_hit(tracks_from_cpp2, 1985))"
   ]
  },
  {
   "cell_type": "code",
   "execution_count": 142,
   "metadata": {},
   "outputs": [
    {
     "name": "stdout",
     "output_type": "stream",
     "text": [
      "[4532, 3804, 4601, 3874, 4672, 3934, 4731, 3983, 4034, 30092, 28989, 30155, 29055, 30212]\n",
      "[4532, 3804, 4601, 3874, 4672]\n",
      "[83363, 4542, 3810, 4606, 3877, 4673, 3934, 4731, 3983, 4034, 30092, 28989, 30155, 29055, 30212]\n",
      "[83363, 4542, 3810, 4606, 3877, 4673]\n"
     ]
    }
   ],
   "source": [
    "print(only_in_acorn2[1])\n",
    "print(find_track_has_hit(tracks_from_cpp2, 4532))\n",
    "print(find_track_has_hit(tracks_from_cpp2, 3934))\n",
    "print(find_track_has_hit(tracks_from_acorn, 83363))"
   ]
  },
  {
   "cell_type": "code",
   "execution_count": 145,
   "metadata": {},
   "outputs": [
    {
     "data": {
      "text/plain": [
       "tensor([ 14424,      1,  14508,  ..., 255907, 212432,     -1])"
      ]
     },
     "execution_count": 145,
     "metadata": {},
     "output_type": "execute_result"
    }
   ],
   "source": [
    "data[\"track_candidates\"]"
   ]
  },
  {
   "cell_type": "code",
   "execution_count": 126,
   "metadata": {},
   "outputs": [
    {
     "data": {
      "text/plain": [
       "(tensor([6.7357e-02, 2.5866e-05, 2.5374e-05]),\n",
       " tensor([[ 81,  83,  86],\n",
       "         [165, 165, 165]]))"
      ]
     },
     "execution_count": 126,
     "metadata": {},
     "output_type": "execute_result"
    }
   ],
   "source": [
    "mask = data[\"gnn_edge_lists\"][1] == 165\n",
    "data[\"gnn_scores\"][mask], data[\"gnn_edge_lists\"][:, mask]"
   ]
  },
  {
   "cell_type": "code",
   "execution_count": null,
   "metadata": {},
   "outputs": [
    {
     "name": "stdout",
     "output_type": "stream",
     "text": [
      "[84564, 932, 15, 85]\n",
      "[1071, 1156, 1233, 163, 236, 309]\n"
     ]
    }
   ],
   "source": []
  },
  {
   "cell_type": "code",
   "execution_count": 100,
   "metadata": {},
   "outputs": [
    {
     "name": "stdout",
     "output_type": "stream",
     "text": [
      "[84564, 932, 15, 85]\n"
     ]
    }
   ],
   "source": [
    "for track in tracks_from_cpp:\n",
    "    if 84564 in track:\n",
    "        print(track)\n",
    "        break"
   ]
  },
  {
   "cell_type": "code",
   "execution_count": 57,
   "metadata": {},
   "outputs": [
    {
     "data": {
      "text/plain": [
       "([1, 78, 14424, 14508, 14581, 14649, 21910, 21986, 22055, 22135, 62580],\n",
       " [1, 78, 14508, 14581, 14649, 21910, 21986, 22055, 22135],\n",
       " 0.8181818181818182,\n",
       " 1.0)"
      ]
     },
     "execution_count": 57,
     "metadata": {},
     "output_type": "execute_result"
    }
   ],
   "source": [
    "matched[0]"
   ]
  },
  {
   "cell_type": "code",
   "execution_count": null,
   "metadata": {},
   "outputs": [],
   "source": []
  }
 ],
 "metadata": {
  "kernelspec": {
   "display_name": ".venv",
   "language": "python",
   "name": "python3"
  },
  "language_info": {
   "codemirror_mode": {
    "name": "ipython",
    "version": 3
   },
   "file_extension": ".py",
   "mimetype": "text/x-python",
   "name": "python",
   "nbconvert_exporter": "python",
   "pygments_lexer": "ipython3",
   "version": "3.11.7"
  }
 },
 "nbformat": 4,
 "nbformat_minor": 2
}
