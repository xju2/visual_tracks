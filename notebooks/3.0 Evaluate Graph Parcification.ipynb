{
 "cells": [
  {
   "cell_type": "code",
   "execution_count": null,
   "metadata": {},
   "outputs": [],
   "source": [
    "import torch\n",
    "from scipy.io import mmread"
   ]
  },
  {
   "cell_type": "code",
   "execution_count": 3,
   "metadata": {},
   "outputs": [],
   "source": [
    "matrix = mmread(\"../data/event000000176.mtx\")"
   ]
  },
  {
   "cell_type": "code",
   "execution_count": 24,
   "metadata": {},
   "outputs": [],
   "source": [
    "row, col, weights = matrix.row, matrix.col, matrix.data"
   ]
  },
  {
   "cell_type": "code",
   "execution_count": 25,
   "metadata": {},
   "outputs": [
    {
     "name": "stdout",
     "output_type": "stream",
     "text": [
      "Total number of edges: 192,968\n"
     ]
    }
   ],
   "source": [
    "print(f\"Total number of edges: {len(row):,}\")"
   ]
  },
  {
   "cell_type": "code",
   "execution_count": 18,
   "metadata": {},
   "outputs": [],
   "source": [
    "from acctrack.tools.edge_perf import EdgePerformance\n",
    "from acctrack.io.pyg_data_reader import TrackGraphDataReader"
   ]
  },
  {
   "cell_type": "code",
   "execution_count": 21,
   "metadata": {},
   "outputs": [
    {
     "name": "stdout",
     "output_type": "stream",
     "text": [
      "valset: Total 3 events in directory: ../data\n"
     ]
    }
   ],
   "source": [
    "reader = TrackGraphDataReader(\"../data\", name=\"valset\")\n",
    "edge_perf = EdgePerformance(reader)"
   ]
  },
  {
   "cell_type": "code",
   "execution_count": 20,
   "metadata": {},
   "outputs": [
    {
     "data": {
      "text/plain": [
       "[19, 176, 191]"
      ]
     },
     "execution_count": 20,
     "metadata": {},
     "output_type": "execute_result"
    }
   ],
   "source": [
    "reader.all_evtids"
   ]
  },
  {
   "cell_type": "code",
   "execution_count": 22,
   "metadata": {},
   "outputs": [
    {
     "name": "stdout",
     "output_type": "stream",
     "text": [
      "Reading file: ../data/event000000191.pyg\n"
     ]
    },
    {
     "name": "stderr",
     "output_type": "stream",
     "text": [
      "/pscratch/sd/x/xju/ITk/ForFinalPaper/visual_tracks/src/acctrack/io/pyg_data_reader.py:49: FutureWarning: You are using `torch.load` with `weights_only=False` (the current default value), which uses the default pickle module implicitly. It is possible to construct malicious pickle data which will execute arbitrary code during unpickling (See https://github.com/pytorch/pytorch/blob/main/SECURITY.md#untrusted-models for more details). In a future release, the default value for `weights_only` will be flipped to `True`. This limits the functions that could be executed during unpickling. Arbitrary objects will no longer be allowed to be loaded via this mode unless they are explicitly allowlisted by the user via `torch.serialization.add_safe_globals`. We recommend you start setting `weights_only=True` for any use case where you don't have full control of the loaded file. Please open an issue on GitHub for any issues related to this experimental feature.\n",
      "  data = torch.load(filename, map_location=torch.device(\"cpu\"))\n"
     ]
    },
    {
     "data": {
      "text/plain": [
       "DataBatch(hit_id=[17188], track_edges=[2, 15673], config=[2], event_id=[1], num_nodes=17188, batch=[17188], ptr=[2], edge_index=[2, 77352], cluster_x_1=[17188], norm_z_1=[17188], x=[17188], r=[17188], cluster_z_2=[17188], y=[77352], eta_angle_2=[17188], cluster_y_1=[17188], eta_angle_1=[17188], radius=[15673], particle_id=[15673], phi_angle_2=[17188], cluster_x_2=[17188], cluster_z_1=[17188], truth_map=[15673], norm_x_1=[17188], region=[17188], pt=[15673], pdgId=[15673], module_id=[17188], eta=[17188], primary=[15673], phi=[17188], norm_y_2=[17188], norm_z_2=[17188], cluster_y_2=[17188], phi_angle_1=[17188], nhits=[15673], z=[17188], norm_x_2=[17188], norm_y_1=[17188])"
      ]
     },
     "execution_count": 22,
     "metadata": {},
     "output_type": "execute_result"
    }
   ],
   "source": [
    "reader.read(1)"
   ]
  },
  {
   "cell_type": "code",
   "execution_count": 26,
   "metadata": {},
   "outputs": [
    {
     "name": "stdout",
     "output_type": "stream",
     "text": [
      "torch.Size([2, 192968])\n"
     ]
    }
   ],
   "source": [
    "edge_index = torch.tensor([row, col], dtype=torch.long)\n",
    "print(edge_index.shape)"
   ]
  },
  {
   "cell_type": "code",
   "execution_count": 27,
   "metadata": {},
   "outputs": [
    {
     "name": "stdout",
     "output_type": "stream",
     "text": [
      "True Reco Edges 1,104, True Edges 31,346, Per-edge efficiency: 3.522%\n",
      "True Edges 31,346, Reco Edges 192,968, Per-edge purity: 16.244%\n",
      "Only 86.448% of true edges are of interests (signal)\n",
      "True Reco Signal Edges 980, True Signal Edges 27,098, Per-edge signal efficiency: 3.617%\n"
     ]
    },
    {
     "data": {
      "text/plain": [
       "(tensor([False, False, False,  ..., False, False, False]),\n",
       " tensor([[    0,     1,     2,  ..., 17179, 17183, 17184],\n",
       "         [ 1307,  1305,    12,  ..., 17045, 17046, 17047]]),\n",
       " 3.5219804759777964,\n",
       " 16.24414410679491)"
      ]
     },
     "execution_count": 27,
     "metadata": {},
     "output_type": "execute_result"
    }
   ],
   "source": [
    "edge_perf.eval(edge_index)"
   ]
  },
  {
   "cell_type": "code",
   "execution_count": null,
   "metadata": {},
   "outputs": [],
   "source": []
  }
 ],
 "metadata": {
  "kernelspec": {
   "display_name": ".venv",
   "language": "python",
   "name": "python3"
  },
  "language_info": {
   "codemirror_mode": {
    "name": "ipython",
    "version": 3
   },
   "file_extension": ".py",
   "mimetype": "text/x-python",
   "name": "python",
   "nbconvert_exporter": "python",
   "pygments_lexer": "ipython3",
   "version": "3.11.7"
  }
 },
 "nbformat": 4,
 "nbformat_minor": 2
}
