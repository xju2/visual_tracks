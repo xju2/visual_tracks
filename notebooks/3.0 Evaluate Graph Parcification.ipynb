{
 "cells": [
  {
   "cell_type": "code",
   "execution_count": 1,
   "metadata": {},
   "outputs": [],
   "source": [
    "import torch\n",
    "from scipy.io import mmread"
   ]
  },
  {
   "cell_type": "code",
   "execution_count": 2,
   "metadata": {},
   "outputs": [],
   "source": [
    "matrix = mmread(\"../data/event000000176.mtx\")"
   ]
  },
  {
   "cell_type": "code",
   "execution_count": 3,
   "metadata": {},
   "outputs": [],
   "source": [
    "row, col, weights = matrix.row, matrix.col, matrix.data"
   ]
  },
  {
   "cell_type": "code",
   "execution_count": 4,
   "metadata": {},
   "outputs": [
    {
     "name": "stdout",
     "output_type": "stream",
     "text": [
      "Total number of edges: 192,968\n"
     ]
    }
   ],
   "source": [
    "print(f\"Total number of edges: {len(row):,}\")"
   ]
  },
  {
   "cell_type": "code",
   "execution_count": 5,
   "metadata": {},
   "outputs": [
    {
     "name": "stderr",
     "output_type": "stream",
     "text": [
      "WARNING:root:FRNN is not available, install it at https://github.com/murnanedaniel/FRNN. Using PyG radius instead.\n",
      "WARNING:root:FAISS is not available, install it at \"conda install faiss-gpu -c pytorch\" or                     \"pip install faiss-gpu\". Using PyG radius instead.\n"
     ]
    }
   ],
   "source": [
    "from acctrack.tools.edge_perf import EdgePerformance\n",
    "from acctrack.io.pyg_data_reader import TrackGraphDataReader"
   ]
  },
  {
   "cell_type": "code",
   "execution_count": 6,
   "metadata": {},
   "outputs": [
    {
     "name": "stdout",
     "output_type": "stream",
     "text": [
      "valset: Total 3 events in directory: ../data\n"
     ]
    }
   ],
   "source": [
    "reader = TrackGraphDataReader(\"../data\", name=\"valset\")\n",
    "edge_perf = EdgePerformance(reader)"
   ]
  },
  {
   "cell_type": "code",
   "execution_count": 7,
   "metadata": {},
   "outputs": [
    {
     "data": {
      "text/plain": [
       "[19, 176, 191]"
      ]
     },
     "execution_count": 7,
     "metadata": {},
     "output_type": "execute_result"
    }
   ],
   "source": [
    "reader.all_evtids"
   ]
  },
  {
   "cell_type": "code",
   "execution_count": 11,
   "metadata": {},
   "outputs": [
    {
     "name": "stdout",
     "output_type": "stream",
     "text": [
      "Reading file: ../data/event000000176.pyg\n"
     ]
    },
    {
     "data": {
      "text/plain": [
       "DataBatch(hit_id=[15329], track_edges=[2, 14021], config=[2], event_id=[1], num_nodes=15329, batch=[15329], ptr=[2], edge_index=[2, 66661], cluster_x_1=[15329], norm_z_1=[15329], x=[15329], r=[15329], cluster_z_2=[15329], y=[66661], eta_angle_2=[15329], cluster_y_1=[15329], eta_angle_1=[15329], radius=[14021], particle_id=[14021], phi_angle_2=[15329], cluster_x_2=[15329], cluster_z_1=[15329], truth_map=[14021], norm_x_1=[15329], region=[15329], pt=[14021], pdgId=[14021], module_id=[15329], eta=[15329], primary=[14021], phi=[15329], norm_y_2=[15329], norm_z_2=[15329], cluster_y_2=[15329], phi_angle_1=[15329], nhits=[14021], z=[15329], norm_x_2=[15329], norm_y_1=[15329])"
      ]
     },
     "execution_count": 11,
     "metadata": {},
     "output_type": "execute_result"
    }
   ],
   "source": [
    "reader.read(2)"
   ]
  },
  {
   "cell_type": "code",
   "execution_count": 12,
   "metadata": {},
   "outputs": [
    {
     "name": "stdout",
     "output_type": "stream",
     "text": [
      "torch.Size([2, 192968])\n"
     ]
    },
    {
     "name": "stderr",
     "output_type": "stream",
     "text": [
      "/tmp/ipykernel_1655364/2232492313.py:1: UserWarning: Creating a tensor from a list of numpy.ndarrays is extremely slow. Please consider converting the list to a single numpy.ndarray with numpy.array() before converting to a tensor. (Triggered internally at ../torch/csrc/utils/tensor_new.cpp:278.)\n",
      "  edge_index = torch.tensor([row, col], dtype=torch.long)\n"
     ]
    }
   ],
   "source": [
    "edge_index = torch.tensor([row, col], dtype=torch.long)\n",
    "print(edge_index.shape)"
   ]
  },
  {
   "cell_type": "code",
   "execution_count": 13,
   "metadata": {},
   "outputs": [
    {
     "name": "stdout",
     "output_type": "stream",
     "text": [
      "True Reco Edges 27,484, True Edges 28,042, Per-edge efficiency: 98.010%\n",
      "True Edges 28,042, Reco Edges 192,968, Per-edge purity: 14.532%\n",
      "Only 87.982% of true edges are of interests (signal)\n",
      "True Reco Signal Edges 24,640, True Signal Edges 24,672, Per-edge signal efficiency: 99.870%\n"
     ]
    },
    {
     "data": {
      "text/plain": [
       "(tensor([False, False, False,  ...,  True, False, False]),\n",
       " tensor([[    0,     1,     2,  ..., 15324, 15328, 15327],\n",
       "         [   89,  1094,    92,  ..., 15180, 15181, 15182]]),\n",
       " 98.01012766564439,\n",
       " 14.531943120102815)"
      ]
     },
     "execution_count": 13,
     "metadata": {},
     "output_type": "execute_result"
    }
   ],
   "source": [
    "edge_perf.eval(edge_index)"
   ]
  },
  {
   "cell_type": "code",
   "execution_count": null,
   "metadata": {},
   "outputs": [],
   "source": []
  }
 ],
 "metadata": {
  "kernelspec": {
   "display_name": ".venv",
   "language": "python",
   "name": "python3"
  },
  "language_info": {
   "codemirror_mode": {
    "name": "ipython",
    "version": 3
   },
   "file_extension": ".py",
   "mimetype": "text/x-python",
   "name": "python",
   "nbconvert_exporter": "python",
   "pygments_lexer": "ipython3",
   "version": "3.11.7"
  }
 },
 "nbformat": 4,
 "nbformat_minor": 2
}
