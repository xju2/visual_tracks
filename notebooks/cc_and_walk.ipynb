{
 "cells": [
  {
   "cell_type": "code",
   "execution_count": null,
   "metadata": {},
   "outputs": [],
   "source": [
    "import networkx as nx"
   ]
  },
  {
   "cell_type": "code",
   "execution_count": null,
   "metadata": {},
   "outputs": [],
   "source": [
    "hit_id = data.hit_id.cpu().numpy()\n",
    "edge_index = data.edge_index.cpu().numpy()\n",
    "senders = edge_index[0]\n",
    "receivers = edge_index[1]\n",
    "scores = data.scores.cpu().numpy()\n"
   ]
  },
  {
   "cell_type": "code",
   "execution_count": null,
   "metadata": {},
   "outputs": [],
   "source": [
    "G = nx.DiGraph()\n",
    "num_nodes = hit_id.shape[0]\n",
    "G.add_nodes_from([\n",
    "    (i, {\"hit_id\": hit_id[i]})\n",
    "    for i in range(num_nodes)\n",
    "])\n",
    "G.add_edges_from([\n",
    "    (senders[i], receivers[i], {\"score\": scores[i]})\n",
    "    for i in range(senders.shape[0])\n",
    "])"
   ]
  },
  {
   "cell_type": "code",
   "execution_count": null,
   "metadata": {},
   "outputs": [],
   "source": [
    "score_name = \"score\"\n",
    "threshold = 0.01\n",
    "list_fake_edges = [(u,v) for u,v,e in G.edges(data=True) if e[score_name] <= threshold]"
   ]
  },
  {
   "cell_type": "code",
   "execution_count": null,
   "metadata": {},
   "outputs": [],
   "source": [
    "num_edges = senders.shape[0]\n",
    "print(\"num_edges: {:,}\".format(num_edges))\n",
    "print(\"num_fake_edges: {:,}\".format(len(list_fake_edges)))"
   ]
  },
  {
   "cell_type": "code",
   "execution_count": null,
   "metadata": {},
   "outputs": [],
   "source": [
    "G.remove_edges_from(list_fake_edges)\n",
    "G.remove_nodes_from(list(nx.isolates(G)))\n",
    "G.number_of_nodes(), G.number_of_edges()"
   ]
  },
  {
   "cell_type": "code",
   "execution_count": null,
   "metadata": {},
   "outputs": [],
   "source": [
    "g = G.to_undirected()"
   ]
  },
  {
   "cell_type": "code",
   "execution_count": null,
   "metadata": {},
   "outputs": [],
   "source": [
    "nx.is_directed_acyclic_graph(G)"
   ]
  },
  {
   "cell_type": "code",
   "execution_count": null,
   "metadata": {},
   "outputs": [],
   "source": [
    "circles = sorted(nx.simple_cycles(G))"
   ]
  }
 ],
 "metadata": {
  "language_info": {
   "name": "python"
  },
  "orig_nbformat": 4
 },
 "nbformat": 4,
 "nbformat_minor": 2
}
