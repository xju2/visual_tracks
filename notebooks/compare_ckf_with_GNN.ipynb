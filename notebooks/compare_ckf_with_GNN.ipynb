{
 "cells": [
  {
   "attachments": {},
   "cell_type": "markdown",
   "metadata": {},
   "source": [
    "# Imports"
   ]
  },
  {
   "cell_type": "code",
   "execution_count": 1,
   "metadata": {},
   "outputs": [],
   "source": [
    "%load_ext autoreload\n",
    "%autoreload 2\n",
    "import sys\n",
    "sys.path.append('../')"
   ]
  },
  {
   "cell_type": "code",
   "execution_count": 2,
   "metadata": {},
   "outputs": [],
   "source": [
    "import pandas as pd\n",
    "import numpy as np\n",
    "import matplotlib.pyplot as plt\n",
    "import seaborn as sns\n",
    "\n",
    "import pprint\n",
    "pp = pprint.PrettyPrinter(indent=4)\n",
    "\n",
    "import acctrack.utils.ctd2021_data as data_helper\n",
    "from acctrack.io.athena_raw_data import AthenaRawDataReader\n"
   ]
  },
  {
   "attachments": {},
   "cell_type": "markdown",
   "metadata": {},
   "source": [
    "# Read in data"
   ]
  },
  {
   "cell_type": "code",
   "execution_count": 3,
   "metadata": {},
   "outputs": [],
   "source": [
    "run_number = 242020\n",
    "event_number = 24723\n",
    "evtid = data_helper.find_event_index(event_number)\n"
   ]
  },
  {
   "cell_type": "code",
   "execution_count": 4,
   "metadata": {},
   "outputs": [
    {
     "name": "stdout",
     "output_type": "stream",
     "text": [
      "Total 1 events in directory: /media/DataOcean/projects/tracking/integrateToAthena/run_21.9.26/RunOneEventForDebuging/GNN_noRemoval\n",
      "Total 1 events in directory: /media/DataOcean/projects/tracking/integrateToAthena/run_21.9.26/RunOneEventForDebuging/CKF_noRemoval\n"
     ]
    }
   ],
   "source": [
    "gnn_basedir = \"/media/DataOcean/projects/tracking/integrateToAthena/run_21.9.26/RunOneEventForDebuging/GNN_noRemoval\"\n",
    "ckf_basedir = \"/media/DataOcean/projects/tracking/integrateToAthena/run_21.9.26/RunOneEventForDebuging/CKF_noRemoval\"\n",
    "gnn_reader = AthenaRawDataReader(gnn_basedir, overwrite=True, name=\"GNN\")\n",
    "ckf_reader = AthenaRawDataReader(ckf_basedir, overwrite=True, name=\"CKF\")"
   ]
  },
  {
   "cell_type": "code",
   "execution_count": 5,
   "metadata": {},
   "outputs": [],
   "source": [
    "gnn_reader.read(event_number=event_number)\n",
    "ckf_reader.read(event_number=event_number)"
   ]
  },
  {
   "attachments": {},
   "cell_type": "markdown",
   "metadata": {},
   "source": [
    "# Basic Track Contents\n",
    "\n",
    "Common tracks means the track contents are exactly the same."
   ]
  },
  {
   "cell_type": "code",
   "execution_count": 6,
   "metadata": {},
   "outputs": [
    {
     "name": "stdout",
     "output_type": "stream",
     "text": [
      "num_gnn_tracks:  2012\n",
      "num_ckf_tracks:  2077\n"
     ]
    }
   ],
   "source": [
    "num_gnn_tracks = len(gnn_reader.tracks_clusters)\n",
    "num_ckf_tracks = len(ckf_reader.tracks_clusters)\n",
    "print(\"num_gnn_tracks: \", num_gnn_tracks)\n",
    "print(\"num_ckf_tracks: \", num_ckf_tracks)"
   ]
  },
  {
   "cell_type": "code",
   "execution_count": 7,
   "metadata": {},
   "outputs": [
    {
     "name": "stdout",
     "output_type": "stream",
     "text": [
      "filtered num_gnn_tracks:  1821\n",
      "filtered num_ckf_tracks:  2077\n"
     ]
    }
   ],
   "source": [
    "min_num_clusters = 5\n",
    "gnn_filtered = [x for x in gnn_reader.tracks_clusters if len(x) >= min_num_clusters]\n",
    "ckf_filtered = [x for x in ckf_reader.tracks_clusters if len(x) >= min_num_clusters]\n",
    "\n",
    "num_fil_gnn_tarcks = len(gnn_filtered)\n",
    "num_fil_ckf_tracks = len(ckf_filtered)\n",
    "\n",
    "print(\"filtered num_gnn_tracks: \", num_fil_gnn_tarcks)\n",
    "print(\"filtered num_ckf_tracks: \", num_fil_ckf_tracks)"
   ]
  },
  {
   "cell_type": "code",
   "execution_count": 8,
   "metadata": {},
   "outputs": [
    {
     "name": "stdout",
     "output_type": "stream",
     "text": [
      "False\n",
      "False\n",
      "False\n",
      "{1, 2, 3}\n",
      "{4}\n",
      "{4, 5}\n",
      "False\n"
     ]
    }
   ],
   "source": [
    "a = {1,2,3,4}\n",
    "b = {1,2,3,5}\n",
    "print(a == b)\n",
    "print(a < b)\n",
    "print(a > b)\n",
    "print(a & b)\n",
    "print(a - b)\n",
    "print(a ^ b)\n",
    "print(a.isdisjoint(b))"
   ]
  },
  {
   "attachments": {},
   "cell_type": "markdown",
   "metadata": {},
   "source": [
    "* For each GNN track, find the closest CKF track that contains the same clusters. \n",
    "* Matched means the track contents are exactly the same. \n",
    "* That X is a subset means the track contents in X are a subset of the track contents in Y. \n",
    "* Disjoint means the track contents are disjoint (no common clusters). "
   ]
  },
  {
   "cell_type": "code",
   "execution_count": 9,
   "metadata": {},
   "outputs": [],
   "source": [
    "def compare_tracks(track_reader, other_track_reader, min_num_clusters=5):\n",
    "    \"\"\"tracks compared to other_tracks\"\"\"\n",
    "    label= track_reader.name\n",
    "    other_label = other_track_reader.name\n",
    "    tracks = track_reader.tracks_clusters\n",
    "    other_tracks = other_track_reader.tracks_clusters\n",
    "\n",
    "    print(f\"{label} compared to {other_label}\")\n",
    "    num_matched = 0\n",
    "    num_issubset = 0\n",
    "    num_other_issubset = 0\n",
    "    num_disjoints = 0\n",
    "\n",
    "    unmatched_tracks = []\n",
    "    disjoint_tracks = []\n",
    "    common_tracks = []\n",
    "\n",
    "    tot_tracks = len(tracks)\n",
    "\n",
    "    tot_filtered_tracks = 0\n",
    "    for trkid,track in enumerate(tracks):\n",
    "        if len(track) < min_num_clusters:\n",
    "            continue\n",
    "        tot_filtered_tracks += 1\n",
    "        found_a_match = False\n",
    "        all_disjoint = True\n",
    "        found_as_subset = False\n",
    "        found_other_as_subset = False\n",
    "        ckf_idx = -1\n",
    "\n",
    "        for idx,other_track in enumerate(other_tracks):\n",
    "            track_set = set(track)\n",
    "            other_track_set = set(other_track)\n",
    "            if not track_set.isdisjoint(other_track_set):\n",
    "                all_disjoint = False\n",
    "            if track_set == other_track_set:\n",
    "                found_a_match = True\n",
    "                ckf_idx = idx\n",
    "            if track_set < other_track_set:\n",
    "                found_as_subset = True\n",
    "            if track_set > other_track_set:\n",
    "                found_other_as_subset = True\n",
    "\n",
    "        if found_a_match:\n",
    "            num_matched += 1\n",
    "            common_tracks.append((trkid,track,ckf_idx))\n",
    "        else:\n",
    "            unmatched_tracks.append((trkid,track))\n",
    "        \n",
    "        if all_disjoint:\n",
    "            num_disjoints += 1\n",
    "            disjoint_tracks.append((trkid,track))\n",
    "        if found_as_subset:\n",
    "            num_issubset += 1\n",
    "        if found_other_as_subset:\n",
    "            num_other_issubset += 1\n",
    "\n",
    "    print(f\"Summary for {label} Tracks\")\n",
    "    print(f\"Total {label} tracks: {tot_tracks}, filtered {label} tracks: {tot_filtered_tracks}\")\n",
    "    print(\"Matched:        \", num_matched, tot_filtered_tracks, num_matched/tot_filtered_tracks)\n",
    "    print(f\"{label} is a subset:\", num_issubset, tot_filtered_tracks, num_issubset/tot_filtered_tracks)\n",
    "    print(f\"{other_label} is a subset:\", num_other_issubset, tot_filtered_tracks, num_other_issubset/tot_filtered_tracks)\n",
    "    print(\"Disjoint:       \", num_disjoints, tot_filtered_tracks, num_disjoints/tot_filtered_tracks)\n",
    "    return common_tracks, unmatched_tracks, disjoint_tracks"
   ]
  },
  {
   "cell_type": "code",
   "execution_count": 10,
   "metadata": {},
   "outputs": [
    {
     "name": "stdout",
     "output_type": "stream",
     "text": [
      "GNN compared to CKF\n",
      "Summary for GNN Tracks\n",
      "Total GNN tracks: 2012, filtered GNN tracks: 1821\n",
      "Matched:         771 1821 0.4233937397034596\n",
      "GNN is a subset: 428 1821 0.23503569467325644\n",
      "CKF is a subset: 194 1821 0.10653487095002746\n",
      "Disjoint:        258 1821 0.1416803953871499\n"
     ]
    }
   ],
   "source": [
    "common_fil_gnn_tracks, unmatched_fil_gnn_tracks, disjoint_fil_gnn_tracks = compare_tracks(gnn_reader, ckf_reader, min_num_clusters=5)"
   ]
  },
  {
   "cell_type": "code",
   "execution_count": 11,
   "metadata": {},
   "outputs": [
    {
     "name": "stdout",
     "output_type": "stream",
     "text": [
      "CKF compared to GNN\n",
      "Summary for CKF Tracks\n",
      "Total CKF tracks: 2077, filtered CKF tracks: 2077\n",
      "Matched:         771 2077 0.3712084737602311\n",
      "CKF is a subset: 194 2077 0.09340394800192585\n",
      "GNN is a subset: 449 2077 0.21617717862301397\n",
      "Disjoint:        491 2077 0.23639865190178141\n"
     ]
    }
   ],
   "source": [
    "common_fil_ckf_tracks, unmatched_fil_ckf_tracks, disjoint_fil_ckf_tracks = compare_tracks(ckf_reader, gnn_reader, min_num_clusters=5)"
   ]
  },
  {
   "attachments": {},
   "cell_type": "markdown",
   "metadata": {},
   "source": [
    "## True Tracks\n",
    "This section is to label a track if it is a good track. A track is good if all of its contents are matched to a truth track."
   ]
  },
  {
   "cell_type": "code",
   "execution_count": 12,
   "metadata": {},
   "outputs": [
    {
     "data": {
      "text/html": [
       "<div>\n",
       "<style scoped>\n",
       "    .dataframe tbody tr th:only-of-type {\n",
       "        vertical-align: middle;\n",
       "    }\n",
       "\n",
       "    .dataframe tbody tr th {\n",
       "        vertical-align: top;\n",
       "    }\n",
       "\n",
       "    .dataframe thead th {\n",
       "        text-align: right;\n",
       "    }\n",
       "</style>\n",
       "<table border=\"1\" class=\"dataframe\">\n",
       "  <thead>\n",
       "    <tr style=\"text-align: right;\">\n",
       "      <th></th>\n",
       "      <th>trkid</th>\n",
       "      <th>fitter</th>\n",
       "      <th>material</th>\n",
       "      <th>nDoF</th>\n",
       "      <th>chi2</th>\n",
       "      <th>charge</th>\n",
       "      <th>x</th>\n",
       "      <th>y</th>\n",
       "      <th>z</th>\n",
       "      <th>px</th>\n",
       "      <th>...</th>\n",
       "      <th>pz</th>\n",
       "      <th>mot</th>\n",
       "      <th>oot</th>\n",
       "      <th>subevent</th>\n",
       "      <th>barcode</th>\n",
       "      <th>probability</th>\n",
       "      <th>pdgId</th>\n",
       "      <th>status</th>\n",
       "      <th>particle_id</th>\n",
       "      <th>pt</th>\n",
       "    </tr>\n",
       "  </thead>\n",
       "  <tbody>\n",
       "    <tr>\n",
       "      <th>0</th>\n",
       "      <td>0</td>\n",
       "      <td>5</td>\n",
       "      <td>3</td>\n",
       "      <td>1</td>\n",
       "      <td>1.209240</td>\n",
       "      <td>1</td>\n",
       "      <td>21.709999</td>\n",
       "      <td>-17.220400</td>\n",
       "      <td>85.783600</td>\n",
       "      <td>408.217987</td>\n",
       "      <td>...</td>\n",
       "      <td>2342.620117</td>\n",
       "      <td>6</td>\n",
       "      <td>0</td>\n",
       "      <td>5602</td>\n",
       "      <td>200119</td>\n",
       "      <td>1.0</td>\n",
       "      <td>-11</td>\n",
       "      <td>1</td>\n",
       "      <td>56020200119</td>\n",
       "      <td>656.889221</td>\n",
       "    </tr>\n",
       "    <tr>\n",
       "      <th>1</th>\n",
       "      <td>1</td>\n",
       "      <td>5</td>\n",
       "      <td>3</td>\n",
       "      <td>1</td>\n",
       "      <td>0.294469</td>\n",
       "      <td>-1</td>\n",
       "      <td>3.704400</td>\n",
       "      <td>4.959140</td>\n",
       "      <td>-72.096703</td>\n",
       "      <td>406.812012</td>\n",
       "      <td>...</td>\n",
       "      <td>4612.330078</td>\n",
       "      <td>3</td>\n",
       "      <td>0</td>\n",
       "      <td>5514</td>\n",
       "      <td>503</td>\n",
       "      <td>1.0</td>\n",
       "      <td>-211</td>\n",
       "      <td>1</td>\n",
       "      <td>55140000503</td>\n",
       "      <td>507.779755</td>\n",
       "    </tr>\n",
       "    <tr>\n",
       "      <th>2</th>\n",
       "      <td>2</td>\n",
       "      <td>5</td>\n",
       "      <td>3</td>\n",
       "      <td>3</td>\n",
       "      <td>0.577462</td>\n",
       "      <td>1</td>\n",
       "      <td>-0.424177</td>\n",
       "      <td>0.057936</td>\n",
       "      <td>37.298401</td>\n",
       "      <td>-94.805702</td>\n",
       "      <td>...</td>\n",
       "      <td>11525.400391</td>\n",
       "      <td>4</td>\n",
       "      <td>0</td>\n",
       "      <td>5586</td>\n",
       "      <td>280</td>\n",
       "      <td>1.0</td>\n",
       "      <td>321</td>\n",
       "      <td>1</td>\n",
       "      <td>55860000280</td>\n",
       "      <td>700.563599</td>\n",
       "    </tr>\n",
       "    <tr>\n",
       "      <th>3</th>\n",
       "      <td>3</td>\n",
       "      <td>5</td>\n",
       "      <td>3</td>\n",
       "      <td>5</td>\n",
       "      <td>11.910700</td>\n",
       "      <td>1</td>\n",
       "      <td>-15.425600</td>\n",
       "      <td>3.763470</td>\n",
       "      <td>-80.836601</td>\n",
       "      <td>-428.201996</td>\n",
       "      <td>...</td>\n",
       "      <td>19021.699219</td>\n",
       "      <td>5</td>\n",
       "      <td>0</td>\n",
       "      <td>5543</td>\n",
       "      <td>200074</td>\n",
       "      <td>0.8</td>\n",
       "      <td>11</td>\n",
       "      <td>1</td>\n",
       "      <td>55430200074</td>\n",
       "      <td>1806.590210</td>\n",
       "    </tr>\n",
       "    <tr>\n",
       "      <th>4</th>\n",
       "      <td>4</td>\n",
       "      <td>5</td>\n",
       "      <td>3</td>\n",
       "      <td>3</td>\n",
       "      <td>0.068077</td>\n",
       "      <td>1</td>\n",
       "      <td>-8.576700</td>\n",
       "      <td>6.303310</td>\n",
       "      <td>-46.327999</td>\n",
       "      <td>-246.557999</td>\n",
       "      <td>...</td>\n",
       "      <td>7730.319824</td>\n",
       "      <td>4</td>\n",
       "      <td>0</td>\n",
       "      <td>5512</td>\n",
       "      <td>404</td>\n",
       "      <td>1.0</td>\n",
       "      <td>-211</td>\n",
       "      <td>1</td>\n",
       "      <td>55120000404</td>\n",
       "      <td>416.340820</td>\n",
       "    </tr>\n",
       "    <tr>\n",
       "      <th>...</th>\n",
       "      <td>...</td>\n",
       "      <td>...</td>\n",
       "      <td>...</td>\n",
       "      <td>...</td>\n",
       "      <td>...</td>\n",
       "      <td>...</td>\n",
       "      <td>...</td>\n",
       "      <td>...</td>\n",
       "      <td>...</td>\n",
       "      <td>...</td>\n",
       "      <td>...</td>\n",
       "      <td>...</td>\n",
       "      <td>...</td>\n",
       "      <td>...</td>\n",
       "      <td>...</td>\n",
       "      <td>...</td>\n",
       "      <td>...</td>\n",
       "      <td>...</td>\n",
       "      <td>...</td>\n",
       "      <td>...</td>\n",
       "      <td>...</td>\n",
       "    </tr>\n",
       "    <tr>\n",
       "      <th>2007</th>\n",
       "      <td>2007</td>\n",
       "      <td>5</td>\n",
       "      <td>3</td>\n",
       "      <td>35</td>\n",
       "      <td>38.334301</td>\n",
       "      <td>1</td>\n",
       "      <td>-0.245878</td>\n",
       "      <td>0.030624</td>\n",
       "      <td>-80.116699</td>\n",
       "      <td>-117.470001</td>\n",
       "      <td>...</td>\n",
       "      <td>-16419.800781</td>\n",
       "      <td>20</td>\n",
       "      <td>0</td>\n",
       "      <td>5529</td>\n",
       "      <td>1591</td>\n",
       "      <td>1.0</td>\n",
       "      <td>321</td>\n",
       "      <td>1</td>\n",
       "      <td>55290001591</td>\n",
       "      <td>950.448242</td>\n",
       "    </tr>\n",
       "    <tr>\n",
       "      <th>2008</th>\n",
       "      <td>2008</td>\n",
       "      <td>5</td>\n",
       "      <td>3</td>\n",
       "      <td>13</td>\n",
       "      <td>2.493920</td>\n",
       "      <td>-1</td>\n",
       "      <td>-0.059898</td>\n",
       "      <td>0.046971</td>\n",
       "      <td>20.617800</td>\n",
       "      <td>-1760.459961</td>\n",
       "      <td>...</td>\n",
       "      <td>-39237.300781</td>\n",
       "      <td>9</td>\n",
       "      <td>0</td>\n",
       "      <td>5655</td>\n",
       "      <td>1668</td>\n",
       "      <td>1.0</td>\n",
       "      <td>-211</td>\n",
       "      <td>1</td>\n",
       "      <td>56550001668</td>\n",
       "      <td>2852.936035</td>\n",
       "    </tr>\n",
       "    <tr>\n",
       "      <th>2009</th>\n",
       "      <td>2009</td>\n",
       "      <td>5</td>\n",
       "      <td>3</td>\n",
       "      <td>23</td>\n",
       "      <td>12.198000</td>\n",
       "      <td>-1</td>\n",
       "      <td>0.012162</td>\n",
       "      <td>-0.028895</td>\n",
       "      <td>-24.950100</td>\n",
       "      <td>-1505.859985</td>\n",
       "      <td>...</td>\n",
       "      <td>-27041.400391</td>\n",
       "      <td>14</td>\n",
       "      <td>0</td>\n",
       "      <td>5621</td>\n",
       "      <td>553</td>\n",
       "      <td>1.0</td>\n",
       "      <td>-321</td>\n",
       "      <td>1</td>\n",
       "      <td>56210000553</td>\n",
       "      <td>1633.819092</td>\n",
       "    </tr>\n",
       "    <tr>\n",
       "      <th>2010</th>\n",
       "      <td>2010</td>\n",
       "      <td>5</td>\n",
       "      <td>3</td>\n",
       "      <td>21</td>\n",
       "      <td>5.600050</td>\n",
       "      <td>-1</td>\n",
       "      <td>0.020114</td>\n",
       "      <td>-0.034423</td>\n",
       "      <td>22.863100</td>\n",
       "      <td>-1032.369995</td>\n",
       "      <td>...</td>\n",
       "      <td>-15135.599609</td>\n",
       "      <td>13</td>\n",
       "      <td>0</td>\n",
       "      <td>5630</td>\n",
       "      <td>1283</td>\n",
       "      <td>1.0</td>\n",
       "      <td>-321</td>\n",
       "      <td>1</td>\n",
       "      <td>56300001283</td>\n",
       "      <td>1195.697388</td>\n",
       "    </tr>\n",
       "    <tr>\n",
       "      <th>2011</th>\n",
       "      <td>2011</td>\n",
       "      <td>5</td>\n",
       "      <td>3</td>\n",
       "      <td>21</td>\n",
       "      <td>14.139100</td>\n",
       "      <td>-1</td>\n",
       "      <td>0.062495</td>\n",
       "      <td>-0.086416</td>\n",
       "      <td>-76.191704</td>\n",
       "      <td>-1254.829956</td>\n",
       "      <td>...</td>\n",
       "      <td>-7185.470215</td>\n",
       "      <td>17</td>\n",
       "      <td>0</td>\n",
       "      <td>5529</td>\n",
       "      <td>1686</td>\n",
       "      <td>1.0</td>\n",
       "      <td>-211</td>\n",
       "      <td>1</td>\n",
       "      <td>55290001686</td>\n",
       "      <td>1548.591675</td>\n",
       "    </tr>\n",
       "  </tbody>\n",
       "</table>\n",
       "<p>2012 rows × 21 columns</p>\n",
       "</div>"
      ],
      "text/plain": [
       "      trkid  fitter  material  nDoF       chi2  charge          x          y  \\\n",
       "0         0       5         3     1   1.209240       1  21.709999 -17.220400   \n",
       "1         1       5         3     1   0.294469      -1   3.704400   4.959140   \n",
       "2         2       5         3     3   0.577462       1  -0.424177   0.057936   \n",
       "3         3       5         3     5  11.910700       1 -15.425600   3.763470   \n",
       "4         4       5         3     3   0.068077       1  -8.576700   6.303310   \n",
       "...     ...     ...       ...   ...        ...     ...        ...        ...   \n",
       "2007   2007       5         3    35  38.334301       1  -0.245878   0.030624   \n",
       "2008   2008       5         3    13   2.493920      -1  -0.059898   0.046971   \n",
       "2009   2009       5         3    23  12.198000      -1   0.012162  -0.028895   \n",
       "2010   2010       5         3    21   5.600050      -1   0.020114  -0.034423   \n",
       "2011   2011       5         3    21  14.139100      -1   0.062495  -0.086416   \n",
       "\n",
       "              z           px  ...            pz  mot  oot  subevent  barcode  \\\n",
       "0     85.783600   408.217987  ...   2342.620117    6    0      5602   200119   \n",
       "1    -72.096703   406.812012  ...   4612.330078    3    0      5514      503   \n",
       "2     37.298401   -94.805702  ...  11525.400391    4    0      5586      280   \n",
       "3    -80.836601  -428.201996  ...  19021.699219    5    0      5543   200074   \n",
       "4    -46.327999  -246.557999  ...   7730.319824    4    0      5512      404   \n",
       "...         ...          ...  ...           ...  ...  ...       ...      ...   \n",
       "2007 -80.116699  -117.470001  ... -16419.800781   20    0      5529     1591   \n",
       "2008  20.617800 -1760.459961  ... -39237.300781    9    0      5655     1668   \n",
       "2009 -24.950100 -1505.859985  ... -27041.400391   14    0      5621      553   \n",
       "2010  22.863100 -1032.369995  ... -15135.599609   13    0      5630     1283   \n",
       "2011 -76.191704 -1254.829956  ...  -7185.470215   17    0      5529     1686   \n",
       "\n",
       "      probability  pdgId  status  particle_id           pt  \n",
       "0             1.0    -11       1  56020200119   656.889221  \n",
       "1             1.0   -211       1  55140000503   507.779755  \n",
       "2             1.0    321       1  55860000280   700.563599  \n",
       "3             0.8     11       1  55430200074  1806.590210  \n",
       "4             1.0   -211       1  55120000404   416.340820  \n",
       "...           ...    ...     ...          ...          ...  \n",
       "2007          1.0    321       1  55290001591   950.448242  \n",
       "2008          1.0   -211       1  56550001668  2852.936035  \n",
       "2009          1.0   -321       1  56210000553  1633.819092  \n",
       "2010          1.0   -321       1  56300001283  1195.697388  \n",
       "2011          1.0   -211       1  55290001686  1548.591675  \n",
       "\n",
       "[2012 rows x 21 columns]"
      ]
     },
     "execution_count": 12,
     "metadata": {},
     "output_type": "execute_result"
    }
   ],
   "source": [
    "gnn_reader.true_tracks"
   ]
  },
  {
   "cell_type": "code",
   "execution_count": 13,
   "metadata": {},
   "outputs": [],
   "source": [
    "def match_to_truth(reader):\n",
    "    detailed = reader.detailed_matching\n",
    "    all_matched_to_truth = detailed[ \n",
    "    (detailed.reco_pixel_hits == detailed.common_pixel_hits) \\\n",
    "    & (detailed.reco_sct_hits == detailed.common_sct_hits) ]\n",
    "    num_all_matched_to_truth = len(all_matched_to_truth)\n",
    "\n",
    "    frac_all_matched_to_truth = num_all_matched_to_truth / len(detailed)\n",
    "    print(f\"All matched to truth {reader.name}: \", num_all_matched_to_truth, len(detailed), frac_all_matched_to_truth)\n",
    "    return all_matched_to_truth"
   ]
  },
  {
   "cell_type": "code",
   "execution_count": 14,
   "metadata": {},
   "outputs": [
    {
     "name": "stdout",
     "output_type": "stream",
     "text": [
      "All matched to truth GNN:  1816 2422 0.749793559042114\n",
      "All matched to truth CKF:  1876 2442 0.7682227682227682\n"
     ]
    }
   ],
   "source": [
    "gnn_tracks_matched_to_truth = match_to_truth(gnn_reader)\n",
    "ckf_tracks_matched_to_truth = match_to_truth(ckf_reader)"
   ]
  },
  {
   "cell_type": "code",
   "execution_count": 15,
   "metadata": {},
   "outputs": [
    {
     "data": {
      "text/plain": [
       "1    2171\n",
       "2     232\n",
       "3      18\n",
       "4       1\n",
       "Name: num_matched, dtype: int64"
      ]
     },
     "execution_count": 15,
     "metadata": {},
     "output_type": "execute_result"
    }
   ],
   "source": [
    "gnn_reader.detailed_matching['num_matched'].value_counts()"
   ]
  },
  {
   "cell_type": "code",
   "execution_count": 16,
   "metadata": {},
   "outputs": [
    {
     "data": {
      "text/plain": [
       "1    2215\n",
       "2     204\n",
       "3      20\n",
       "4       2\n",
       "7       1\n",
       "Name: num_matched, dtype: int64"
      ]
     },
     "execution_count": 16,
     "metadata": {},
     "output_type": "execute_result"
    }
   ],
   "source": [
    "ckf_reader.detailed_matching['num_matched'].value_counts()"
   ]
  },
  {
   "attachments": {},
   "cell_type": "markdown",
   "metadata": {},
   "source": [
    "# Disjoint Tracks\n",
    "\n",
    "Disjoint tracks are the tracks that are found only by one algorithm but not the other. \n",
    "A good disjoint track is a disjoint track whose contents are all matched to a truth track."
   ]
  },
  {
   "cell_type": "code",
   "execution_count": 17,
   "metadata": {},
   "outputs": [
    {
     "data": {
      "text/plain": [
       "Text(0.5, 0, 'number of clusters')"
      ]
     },
     "execution_count": 17,
     "metadata": {},
     "output_type": "execute_result"
    },
    {
     "data": {
      "image/png": "[encoded data removed]",
      "text/plain": [
       "<Figure size 640x480 with 1 Axes>"
      ]
     },
     "metadata": {},
     "output_type": "display_data"
    }
   ],
   "source": [
    "num_gnn_disjoints = len(disjoint_fil_gnn_tracks)\n",
    "num_ckf_disjoints = len(disjoint_fil_ckf_tracks)\n",
    "\n",
    "plt.title(\"Disjoint tracks\")\n",
    "plt.hist([len(x[1]) for x in disjoint_fil_gnn_tracks], bins=31, range=(-0.5,30.5),\n",
    "         label=f\"GNN {num_gnn_disjoints}\", alpha=0.5)\n",
    "plt.hist([len(x[1]) for x in disjoint_fil_ckf_tracks], bins=31, range=(-0.5,30.5), \n",
    "         label=f\"CKF {num_ckf_disjoints}\", alpha=0.5)\n",
    "plt.legend()\n",
    "plt.xlabel(\"number of clusters\")"
   ]
  },
  {
   "cell_type": "code",
   "execution_count": 18,
   "metadata": {},
   "outputs": [
    {
     "name": "stdout",
     "output_type": "stream",
     "text": [
      "Number of good disjoint GNN tracks:  195\n",
      "Number of good disjoint CKF tracks:  419\n"
     ]
    }
   ],
   "source": [
    "# GNN disjoint tracks\n",
    "disjoint_gnn_track_idx = np.array([x[0] for x in disjoint_fil_gnn_tracks], dtype=int)\n",
    "gnn_good_disjoints = gnn_tracks_matched_to_truth[gnn_tracks_matched_to_truth.trkid.isin(disjoint_gnn_track_idx)]\n",
    "num_gnn_good_disjoints = len(gnn_good_disjoints)\n",
    "\n",
    "# CKF disjoint tracks\n",
    "disjoint_ckf_track_idx = np.array([x[0] for x in disjoint_fil_ckf_tracks], dtype=int)\n",
    "ckf_good_disjoints = ckf_tracks_matched_to_truth[ckf_tracks_matched_to_truth.trkid.isin(disjoint_ckf_track_idx)]\n",
    "num_ckf_good_disjoints = len(ckf_good_disjoints)\n",
    "\n",
    "print(\"Number of good disjoint GNN tracks: \", num_gnn_good_disjoints)\n",
    "print(\"Number of good disjoint CKF tracks: \", num_ckf_good_disjoints)"
   ]
  },
  {
   "attachments": {},
   "cell_type": "markdown",
   "metadata": {},
   "source": [
    "## Characteristics of Good Disjoint Tracks\n",
    "OK. It seems both GNN and CKF are finding some good trackings that are not found by the other. \n",
    "Let's characterize these tracks.\n",
    "* number of clusters\n",
    "* pT of the matched track\n",
    "* number of clusters vs pT"
   ]
  },
  {
   "cell_type": "code",
   "execution_count": 19,
   "metadata": {},
   "outputs": [
    {
     "data": {
      "text/plain": [
       "Text(0.5, 0, 'Number of clusters')"
      ]
     },
     "execution_count": 19,
     "metadata": {},
     "output_type": "execute_result"
    },
    {
     "data": {
      "image/png": "[encoded data removed]",
      "text/plain": [
       "<Figure size 640x480 with 1 Axes>"
      ]
     },
     "metadata": {},
     "output_type": "display_data"
    }
   ],
   "source": [
    "gnn_good_disjoints_tot_hits = gnn_good_disjoints.reco_pixel_hits + gnn_good_disjoints.reco_sct_hits\n",
    "ckf_good_disjoints_tot_hits = ckf_good_disjoints.reco_pixel_hits + ckf_good_disjoints.reco_sct_hits\n",
    "\n",
    "plt.title(\"Good Disjoint Tracks\")\n",
    "plt.hist(gnn_good_disjoints_tot_hits, bins=31, range=(-0.5,30.5),\n",
    "            label=f\"GNN {num_gnn_good_disjoints}/{num_gnn_disjoints}\", alpha=0.5)\n",
    "plt.hist(ckf_good_disjoints_tot_hits, bins=31, range=(-0.5,30.5),\n",
    "            label=f\"CKF {num_ckf_good_disjoints}/{num_ckf_disjoints}\", alpha=0.5)\n",
    "plt.legend()\n",
    "plt.xlabel(\"Number of clusters\")\n"
   ]
  },
  {
   "cell_type": "code",
   "execution_count": 20,
   "metadata": {},
   "outputs": [],
   "source": [
    "particles = gnn_reader.particles\n",
    "\n",
    "gnn_good_disjoints_matched_particles = particles[particles.particle_id.isin(gnn_good_disjoints.particle_id.values)]\n",
    "ckf_good_disjoints_matched_particles = particles[particles.particle_id.isin(ckf_good_disjoints.particle_id.values)]\n"
   ]
  },
  {
   "cell_type": "code",
   "execution_count": 21,
   "metadata": {},
   "outputs": [
    {
     "data": {
      "text/plain": [
       "Text(0.5, 0, 'particle pT [MeV]')"
      ]
     },
     "execution_count": 21,
     "metadata": {},
     "output_type": "execute_result"
    },
    {
     "data": {
      "image/png": "[encoded data removed]",
      "text/plain": [
       "<Figure size 640x480 with 1 Axes>"
      ]
     },
     "metadata": {},
     "output_type": "display_data"
    }
   ],
   "source": [
    "pt_gnn = gnn_good_disjoints_matched_particles.pt\n",
    "pt_ckf = ckf_good_disjoints_matched_particles.pt\n",
    "num_high_pt_gnn = len(pt_gnn[pt_gnn > 1000])\n",
    "num_high_pt_ckf = len(pt_ckf[pt_ckf > 1000])\n",
    "\n",
    "plt.title(\"Good disjoint tracks\")\n",
    "plt.hist(pt_gnn, bins=50, range=(0,5000), label=f\"GNN {len(pt_gnn)}\", alpha=0.5)\n",
    "plt.text(2000, 40, f\"GNN pT > 1 GeV: {num_high_pt_gnn:5}\", fontsize=12)\n",
    "plt.text(2000, 30, f\"CKF pT > 1 GeV: {num_high_pt_ckf:5}\", fontsize=12)\n",
    "plt.hist(pt_ckf, bins=50, range=(0,5000), label=f\"CKF {len(pt_ckf)}\", alpha=0.5)\n",
    "plt.legend()\n",
    "plt.xlabel(\"particle pT [MeV]\")"
   ]
  },
  {
   "cell_type": "code",
   "execution_count": 22,
   "metadata": {},
   "outputs": [],
   "source": [
    "merged_gnn = gnn_good_disjoints_matched_particles.merge(gnn_good_disjoints, on='particle_id')\n",
    "merged_ckf = ckf_good_disjoints_matched_particles.merge(ckf_good_disjoints, on='particle_id')"
   ]
  },
  {
   "cell_type": "code",
   "execution_count": 23,
   "metadata": {},
   "outputs": [
    {
     "data": {
      "text/plain": [
       "<matplotlib.legend.Legend at 0x7fdee0a97130>"
      ]
     },
     "execution_count": 23,
     "metadata": {},
     "output_type": "execute_result"
    },
    {
     "data": {
      "image/png": "[encoded data removed]",
      "text/plain": [
       "<Figure size 640x480 with 1 Axes>"
      ]
     },
     "metadata": {},
     "output_type": "display_data"
    }
   ],
   "source": [
    "plt.title(\"Good Disjoint Tracks\")\n",
    "config = dict(s=10.0, alpha=0.5)\n",
    "plt.scatter(merged_gnn.pt, \n",
    "            merged_gnn.reco_pixel_hits + merged_gnn.reco_sct_hits, label=\"GNN\", **config)\n",
    "plt.scatter(merged_ckf.pt,\n",
    "            merged_ckf.reco_pixel_hits + merged_ckf.reco_sct_hits, label=\"CKF\", **config)\n",
    "plt.xlim(0, 5000)\n",
    "plt.ylim(0, 30)\n",
    "plt.xlabel(\"particle pT [MeV]\")\n",
    "plt.ylabel(\"number of clusters\")\n",
    "plt.legend()"
   ]
  },
  {
   "attachments": {},
   "cell_type": "markdown",
   "metadata": {},
   "source": [
    "## Good Disjoint Tracks from CKF with pT > 1 GeV\n",
    "There are 36 tracks only found by CKF and matched to true particles with pT > 1 GeV. However, the track contents of those tracks are not used at all by GNN. Let's look at the details of these tracks. "
   ]
  },
  {
   "cell_type": "code",
   "execution_count": 24,
   "metadata": {},
   "outputs": [],
   "source": [
    "ckf_matched_pids = ckf_good_disjoints_matched_particles[pt_ckf > 1000].particle_id.values\n",
    "ckf_disjoints_good_match = ckf_good_disjoints[ckf_good_disjoints.particle_id.isin(ckf_matched_pids)]\n",
    "\n",
    "good_ckf_only_clusters = [ckf_reader.tracks_clusters[x] for x in ckf_disjoints_good_match.trkid.values]\n",
    "good_ckf_only_clusters = np.array([item for sublist in good_ckf_only_clusters for item in sublist], dtype=int)\n",
    "good_ckf_only_cluster_info = ckf_reader.clusters[ckf_reader.clusters.cluster_id.isin(good_ckf_only_clusters)]\n",
    "good_ckf_only_cluster_info = good_ckf_only_cluster_info.assign(\n",
    "    cluster_r=np.sqrt(good_ckf_only_cluster_info.cluster_x**2 + good_ckf_only_cluster_info.cluster_y**2))\n"
   ]
  },
  {
   "cell_type": "code",
   "execution_count": 25,
   "metadata": {},
   "outputs": [
    {
     "data": {
      "text/plain": [
       "<matplotlib.colorbar.Colorbar at 0x7fdee05f9550>"
      ]
     },
     "execution_count": 25,
     "metadata": {},
     "output_type": "execute_result"
    },
    {
     "data": {
      "image/png": "[encoded data removed]",
      "text/plain": [
       "<Figure size 640x480 with 2 Axes>"
      ]
     },
     "metadata": {},
     "output_type": "display_data"
    }
   ],
   "source": [
    "plt.title(\"Good disjoint tracks matched to truth particles\")\n",
    "plt.hist2d(good_ckf_only_cluster_info.cluster_z, good_ckf_only_cluster_info.cluster_r, bins=100, range=((-4000, 4000), (0, 1200)))\n",
    "plt.xlabel(\"cluster z [mm]\")\n",
    "plt.ylabel(\"cluster r [mm]\")\n",
    "plt.colorbar()\n"
   ]
  },
  {
   "attachments": {},
   "cell_type": "markdown",
   "metadata": {},
   "source": [
    "# Common Tracks\n",
    "There are 771 common tracks between GNN and CKF. Let's look at the details of these tracks."
   ]
  },
  {
   "cell_type": "code",
   "execution_count": 26,
   "metadata": {},
   "outputs": [
    {
     "data": {
      "text/plain": [
       "Text(0.5, 0, 'number of clusters')"
      ]
     },
     "execution_count": 26,
     "metadata": {},
     "output_type": "execute_result"
    },
    {
     "data": {
      "image/png": "[encoded data removed]",
      "text/plain": [
       "<Figure size 640x480 with 1 Axes>"
      ]
     },
     "metadata": {},
     "output_type": "display_data"
    }
   ],
   "source": [
    "num_common_tracks = len(common_fil_gnn_tracks)\n",
    "\n",
    "plt.title(\"Common tracks\")\n",
    "plt.hist([len(x[1]) for x in common_fil_gnn_tracks], bins=31, range=(-0.5,30.5),\n",
    "         label=f\"Total {num_common_tracks}\", alpha=0.5)\n",
    "plt.legend()\n",
    "plt.xlabel(\"number of clusters\")"
   ]
  },
  {
   "cell_type": "code",
   "execution_count": 27,
   "metadata": {},
   "outputs": [],
   "source": [
    "gnn_chi2 = []\n",
    "ckf_chi2 = []\n",
    "for gnn_common_trkid, _, ckf_common_trkid in common_fil_gnn_tracks:\n",
    "    found_gnn_track = gnn_reader.true_tracks.iloc[gnn_common_trkid]\n",
    "    found_ckf_track = ckf_reader.true_tracks.iloc[ckf_common_trkid]\n",
    "    gnn_chi2.append(found_gnn_track.chi2/found_gnn_track.nDoF)\n",
    "    ckf_chi2.append(found_ckf_track.chi2 / found_ckf_track.nDoF)\n",
    "    \n",
    "gnn_chi2, ckf_chi2 = np.array(gnn_chi2), np.array(ckf_chi2)\n",
    "delta_chi2 = gnn_chi2 - ckf_chi2"
   ]
  },
  {
   "cell_type": "code",
   "execution_count": 28,
   "metadata": {},
   "outputs": [
    {
     "name": "stdout",
     "output_type": "stream",
     "text": [
      "(13, [170007, 170083, 170153, 170229, 206124, 206293, 206160, 206332, 206201, 204650, 204743, 204843, 204945], 829)\n",
      "(17, [168996, 169943, 169073, 170029, 169133, 170099, 170165, 206098, 206139, 206176, 204437, 202819, 204579, 204669, 204768, 204868], 251)\n",
      "0.458252, 0.405440\n",
      "0.396159, 0.490726\n"
     ]
    }
   ],
   "source": [
    "print(common_fil_gnn_tracks[0])\n",
    "print(common_fil_gnn_tracks[4])\n",
    "print(\"{:.6f}, {:.6f}\".format(gnn_chi2[0], ckf_chi2[0]))\n",
    "print(\"{:.6f}, {:.6f}\".format(gnn_chi2[4], ckf_chi2[4]))"
   ]
  },
  {
   "cell_type": "code",
   "execution_count": 29,
   "metadata": {},
   "outputs": [
    {
     "data": {
      "text/html": [
       "<div>\n",
       "<style scoped>\n",
       "    .dataframe tbody tr th:only-of-type {\n",
       "        vertical-align: middle;\n",
       "    }\n",
       "\n",
       "    .dataframe tbody tr th {\n",
       "        vertical-align: top;\n",
       "    }\n",
       "\n",
       "    .dataframe thead th {\n",
       "        text-align: right;\n",
       "    }\n",
       "</style>\n",
       "<table border=\"1\" class=\"dataframe\">\n",
       "  <thead>\n",
       "    <tr style=\"text-align: right;\">\n",
       "      <th></th>\n",
       "      <th>gnn</th>\n",
       "      <th>ckf</th>\n",
       "    </tr>\n",
       "  </thead>\n",
       "  <tbody>\n",
       "    <tr>\n",
       "      <th>trkid</th>\n",
       "      <td>13</td>\n",
       "      <td>829</td>\n",
       "    </tr>\n",
       "    <tr>\n",
       "      <th>fitter</th>\n",
       "      <td>5</td>\n",
       "      <td>5</td>\n",
       "    </tr>\n",
       "    <tr>\n",
       "      <th>material</th>\n",
       "      <td>3</td>\n",
       "      <td>3</td>\n",
       "    </tr>\n",
       "    <tr>\n",
       "      <th>nDoF</th>\n",
       "      <td>21</td>\n",
       "      <td>21</td>\n",
       "    </tr>\n",
       "    <tr>\n",
       "      <th>chi2</th>\n",
       "      <td>9.62329</td>\n",
       "      <td>8.51423</td>\n",
       "    </tr>\n",
       "    <tr>\n",
       "      <th>charge</th>\n",
       "      <td>1</td>\n",
       "      <td>1</td>\n",
       "    </tr>\n",
       "    <tr>\n",
       "      <th>x</th>\n",
       "      <td>-0.01613</td>\n",
       "      <td>-0.010554</td>\n",
       "    </tr>\n",
       "    <tr>\n",
       "      <th>y</th>\n",
       "      <td>-0.046478</td>\n",
       "      <td>-0.030339</td>\n",
       "    </tr>\n",
       "    <tr>\n",
       "      <th>z</th>\n",
       "      <td>-8.55869</td>\n",
       "      <td>-8.69545</td>\n",
       "    </tr>\n",
       "    <tr>\n",
       "      <th>px</th>\n",
       "      <td>871.72699</td>\n",
       "      <td>893.914978</td>\n",
       "    </tr>\n",
       "    <tr>\n",
       "      <th>py</th>\n",
       "      <td>-302.529999</td>\n",
       "      <td>-310.966003</td>\n",
       "    </tr>\n",
       "    <tr>\n",
       "      <th>pz</th>\n",
       "      <td>21939.099609</td>\n",
       "      <td>22505.900391</td>\n",
       "    </tr>\n",
       "    <tr>\n",
       "      <th>mot</th>\n",
       "      <td>13</td>\n",
       "      <td>13</td>\n",
       "    </tr>\n",
       "    <tr>\n",
       "      <th>oot</th>\n",
       "      <td>0</td>\n",
       "      <td>0</td>\n",
       "    </tr>\n",
       "    <tr>\n",
       "      <th>subevent</th>\n",
       "      <td>5567</td>\n",
       "      <td>5567</td>\n",
       "    </tr>\n",
       "    <tr>\n",
       "      <th>barcode</th>\n",
       "      <td>811</td>\n",
       "      <td>811</td>\n",
       "    </tr>\n",
       "    <tr>\n",
       "      <th>probability</th>\n",
       "      <td>1.0</td>\n",
       "      <td>1.0</td>\n",
       "    </tr>\n",
       "    <tr>\n",
       "      <th>pdgId</th>\n",
       "      <td>211</td>\n",
       "      <td>211</td>\n",
       "    </tr>\n",
       "    <tr>\n",
       "      <th>status</th>\n",
       "      <td>1</td>\n",
       "      <td>1</td>\n",
       "    </tr>\n",
       "    <tr>\n",
       "      <th>particle_id</th>\n",
       "      <td>55670000811</td>\n",
       "      <td>55670000811</td>\n",
       "    </tr>\n",
       "    <tr>\n",
       "      <th>pt</th>\n",
       "      <td>922.730896</td>\n",
       "      <td>946.458618</td>\n",
       "    </tr>\n",
       "  </tbody>\n",
       "</table>\n",
       "</div>"
      ],
      "text/plain": [
       "                      gnn           ckf\n",
       "trkid                  13           829\n",
       "fitter                  5             5\n",
       "material                3             3\n",
       "nDoF                   21            21\n",
       "chi2              9.62329       8.51423\n",
       "charge                  1             1\n",
       "x                -0.01613     -0.010554\n",
       "y               -0.046478     -0.030339\n",
       "z                -8.55869      -8.69545\n",
       "px              871.72699    893.914978\n",
       "py            -302.529999   -310.966003\n",
       "pz           21939.099609  22505.900391\n",
       "mot                    13            13\n",
       "oot                     0             0\n",
       "subevent             5567          5567\n",
       "barcode               811           811\n",
       "probability           1.0           1.0\n",
       "pdgId                 211           211\n",
       "status                  1             1\n",
       "particle_id   55670000811   55670000811\n",
       "pt             922.730896    946.458618"
      ]
     },
     "execution_count": 29,
     "metadata": {},
     "output_type": "execute_result"
    }
   ],
   "source": [
    "gnn_common_trkid, _, ckf_common_trkid = common_fil_gnn_tracks[0]\n",
    "found_gnn_track = gnn_reader.true_tracks.iloc[gnn_common_trkid]\n",
    "found_ckf_track = ckf_reader.true_tracks.iloc[ckf_common_trkid]\n",
    "df = pd.DataFrame({\"gnn\": found_gnn_track, \"ckf\": found_ckf_track})\n",
    "df"
   ]
  },
  {
   "cell_type": "code",
   "execution_count": 30,
   "metadata": {},
   "outputs": [
    {
     "data": {
      "text/plain": [
       "('55670000811', dtype('O'))"
      ]
     },
     "execution_count": 30,
     "metadata": {},
     "output_type": "execute_result"
    }
   ],
   "source": [
    "found_gnn_track.particle_id, particles.particle_id.dtypes"
   ]
  },
  {
   "cell_type": "code",
   "execution_count": 31,
   "metadata": {},
   "outputs": [
    {
     "data": {
      "text/html": [
       "<div>\n",
       "<style scoped>\n",
       "    .dataframe tbody tr th:only-of-type {\n",
       "        vertical-align: middle;\n",
       "    }\n",
       "\n",
       "    .dataframe tbody tr th {\n",
       "        vertical-align: top;\n",
       "    }\n",
       "\n",
       "    .dataframe thead th {\n",
       "        text-align: right;\n",
       "    }\n",
       "</style>\n",
       "<table border=\"1\" class=\"dataframe\">\n",
       "  <thead>\n",
       "    <tr style=\"text-align: right;\">\n",
       "      <th></th>\n",
       "      <th>particle_id</th>\n",
       "      <th>subevent</th>\n",
       "      <th>barcode</th>\n",
       "      <th>px</th>\n",
       "      <th>py</th>\n",
       "      <th>pz</th>\n",
       "      <th>pt</th>\n",
       "      <th>eta</th>\n",
       "      <th>vx</th>\n",
       "      <th>vy</th>\n",
       "      <th>vz</th>\n",
       "      <th>radius</th>\n",
       "      <th>status</th>\n",
       "      <th>charge</th>\n",
       "      <th>pdgId</th>\n",
       "      <th>pass</th>\n",
       "      <th>vProdNIn</th>\n",
       "      <th>vProdNOut</th>\n",
       "      <th>vProdStatus</th>\n",
       "      <th>vProdBarcode</th>\n",
       "    </tr>\n",
       "  </thead>\n",
       "  <tbody>\n",
       "    <tr>\n",
       "      <th>71260</th>\n",
       "      <td>55670000811</td>\n",
       "      <td>5567</td>\n",
       "      <td>811</td>\n",
       "      <td>959.36</td>\n",
       "      <td>-335.444</td>\n",
       "      <td>-335.444</td>\n",
       "      <td>1016.31</td>\n",
       "      <td>3.8645</td>\n",
       "      <td>-0.0113</td>\n",
       "      <td>0.00857</td>\n",
       "      <td>-10.7464</td>\n",
       "      <td>0.014182</td>\n",
       "      <td>1</td>\n",
       "      <td>1.0</td>\n",
       "      <td>211</td>\n",
       "      <td>YES</td>\n",
       "      <td>1</td>\n",
       "      <td>3</td>\n",
       "      <td>0</td>\n",
       "      <td>-470</td>\n",
       "    </tr>\n",
       "  </tbody>\n",
       "</table>\n",
       "</div>"
      ],
      "text/plain": [
       "       particle_id  subevent  barcode      px       py       pz       pt  \\\n",
       "71260  55670000811      5567      811  959.36 -335.444 -335.444  1016.31   \n",
       "\n",
       "          eta      vx       vy       vz    radius  status  charge  pdgId pass  \\\n",
       "71260  3.8645 -0.0113  0.00857 -10.7464  0.014182       1     1.0    211  YES   \n",
       "\n",
       "       vProdNIn  vProdNOut  vProdStatus  vProdBarcode  \n",
       "71260         1          3            0          -470  "
      ]
     },
     "execution_count": 31,
     "metadata": {},
     "output_type": "execute_result"
    }
   ],
   "source": [
    "pp = particles[ (particles.subevent == 5567) & (particles.barcode == 811)]\n",
    "pp"
   ]
  },
  {
   "cell_type": "code",
   "execution_count": 32,
   "metadata": {},
   "outputs": [
    {
     "data": {
      "text/plain": [
       "[<matplotlib.lines.Line2D at 0x7fdee18ed9d0>]"
      ]
     },
     "execution_count": 32,
     "metadata": {},
     "output_type": "execute_result"
    },
    {
     "data": {
      "image/png": "[encoded data removed]",
      "text/plain": [
       "<Figure size 640x480 with 1 Axes>"
      ]
     },
     "metadata": {},
     "output_type": "display_data"
    }
   ],
   "source": [
    "plt.title(\"Common Tracks\")\n",
    "plt.hist(delta_chi2, bins=50, range=(-2, 2), alpha=0.5)\n",
    "plt.text(-1.5, 120, f\"Mean: {np.mean(delta_chi2):8.4f}\", fontsize=12)\n",
    "plt.text(-1.5, 100, f\"Std:  {np.std(delta_chi2):8.4f}\", fontsize=12)\n",
    "plt.xlabel(\"(GNN - CKF) $\\chi^2$/ndof\")\n",
    "plt.plot([0, 0], [0, 140], color='red', linestyle='--')"
   ]
  },
  {
   "cell_type": "code",
   "execution_count": 33,
   "metadata": {},
   "outputs": [
    {
     "data": {
      "text/plain": [
       "Text(0, 0.5, 'CKF $\\\\chi^2$/ndof')"
      ]
     },
     "execution_count": 33,
     "metadata": {},
     "output_type": "execute_result"
    },
    {
     "data": {
      "image/png": "[encoded data removed]",
      "text/plain": [
       "<Figure size 640x480 with 1 Axes>"
      ]
     },
     "metadata": {},
     "output_type": "display_data"
    }
   ],
   "source": [
    "plt.title(\"Common Tracks\")\n",
    "plt.scatter(gnn_chi2, ckf_chi2, **config)\n",
    "plt.plot([0, 4], [0, 4], color='red', linestyle='--')\n",
    "plt.xlim(0, 4)\n",
    "plt.ylim(0, 4)\n",
    "plt.xlabel(\"GNN $\\chi^2$/ndof\")\n",
    "plt.ylabel(\"CKF $\\chi^2$/ndof\")"
   ]
  }
 ],
 "metadata": {
  "kernelspec": {
   "display_name": "torch",
   "language": "python",
   "name": "python3"
  },
  "language_info": {
   "codemirror_mode": {
    "name": "ipython",
    "version": 3
   },
   "file_extension": ".py",
   "mimetype": "text/x-python",
   "name": "python",
   "nbconvert_exporter": "python",
   "pygments_lexer": "ipython3",
   "version": "3.9.10"
  },
  "orig_nbformat": 4
 },
 "nbformat": 4,
 "nbformat_minor": 2
}
