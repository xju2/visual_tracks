{
 "cells": [
  {
   "cell_type": "code",
   "execution_count": 2,
   "metadata": {},
   "outputs": [],
   "source": [
    "%load_ext autoreload\n",
    "%autoreload 2\n",
    "import sys\n",
    "sys.path.append('../')"
   ]
  },
  {
   "cell_type": "code",
   "execution_count": 3,
   "metadata": {},
   "outputs": [],
   "source": [
    "from typing import Dict\n",
    "from acctrack.io.athena_raw_root import AthenaRawRootReader\n",
    "from acctrack.utils.utils_plot import add_mean_std, create_figure\n",
    "from acctrack.io import utils_athena_raw_root as utils_raw_root\n",
    "from acctrack.task.convert_gnn_tracks_for_fitting import ConvertGNNTracksForFitting\n",
    "\n",
    "import awkward as ak\n",
    "import numpy as np\n",
    "import pandas as pd\n",
    "import uproot\n",
    "import matplotlib.pyplot as plt\n",
    "from pathlib import Path"
   ]
  },
  {
   "cell_type": "code",
   "execution_count": 47,
   "metadata": {},
   "outputs": [],
   "source": [
    "base_dir = Path(\"/home/xju/projects/tracking/integrateToAthena/run_21.9.26/RunAlexisInputs/data\")\n",
    "file_reco = base_dir / \"trackReco_singleCutFilter-wrangler_events_1681-1780_thr.h5\"\n",
    "origin_evtid_matching_fname = base_dir / \"correspondence.txt\"\n",
    "origin_rdo_matching_fname = base_dir / \"ttbar_job_inputfiles.txt\"\n",
    "\n",
    "evtid_matching_fname = base_dir / \"evtid_matching.csv\"\n",
    "rdo_matching_fname = base_dir / \"rdo_matching.csv\""
   ]
  },
  {
   "attachments": {},
   "cell_type": "markdown",
   "metadata": {},
   "source": [
    "# Reformat the inputs"
   ]
  },
  {
   "cell_type": "code",
   "execution_count": 48,
   "metadata": {},
   "outputs": [],
   "source": [
    "\n",
    "evtid_map_to_event_number = pd.read_csv(origin_evtid_matching_fname, sep='\\s+', header=None,\n",
    "                       names=[\"evtID\", \"orgEvtID\", \"rdoEvtID\"])\n",
    "evtid_map_to_event_number[\"rdoNum\"] = 0\n"
   ]
  },
  {
   "cell_type": "code",
   "execution_count": 49,
   "metadata": {},
   "outputs": [
    {
     "data": {
      "text/html": [
       "<div>\n",
       "<style scoped>\n",
       "    .dataframe tbody tr th:only-of-type {\n",
       "        vertical-align: middle;\n",
       "    }\n",
       "\n",
       "    .dataframe tbody tr th {\n",
       "        vertical-align: top;\n",
       "    }\n",
       "\n",
       "    .dataframe thead th {\n",
       "        text-align: right;\n",
       "    }\n",
       "</style>\n",
       "<table border=\"1\" class=\"dataframe\">\n",
       "  <thead>\n",
       "    <tr style=\"text-align: right;\">\n",
       "      <th></th>\n",
       "      <th>evtID</th>\n",
       "      <th>orgEvtID</th>\n",
       "      <th>rdoEvtID</th>\n",
       "      <th>rdoNum</th>\n",
       "    </tr>\n",
       "  </thead>\n",
       "  <tbody>\n",
       "    <tr>\n",
       "      <th>1600</th>\n",
       "      <td>1601</td>\n",
       "      <td>242020</td>\n",
       "      <td>77118</td>\n",
       "      <td>0</td>\n",
       "    </tr>\n",
       "    <tr>\n",
       "      <th>1601</th>\n",
       "      <td>1602</td>\n",
       "      <td>242020</td>\n",
       "      <td>77138</td>\n",
       "      <td>0</td>\n",
       "    </tr>\n",
       "    <tr>\n",
       "      <th>1602</th>\n",
       "      <td>1603</td>\n",
       "      <td>242020</td>\n",
       "      <td>77136</td>\n",
       "      <td>0</td>\n",
       "    </tr>\n",
       "    <tr>\n",
       "      <th>1603</th>\n",
       "      <td>1604</td>\n",
       "      <td>242020</td>\n",
       "      <td>77142</td>\n",
       "      <td>0</td>\n",
       "    </tr>\n",
       "    <tr>\n",
       "      <th>1604</th>\n",
       "      <td>1605</td>\n",
       "      <td>242020</td>\n",
       "      <td>77162</td>\n",
       "      <td>0</td>\n",
       "    </tr>\n",
       "    <tr>\n",
       "      <th>...</th>\n",
       "      <td>...</td>\n",
       "      <td>...</td>\n",
       "      <td>...</td>\n",
       "      <td>...</td>\n",
       "    </tr>\n",
       "    <tr>\n",
       "      <th>1795</th>\n",
       "      <td>1796</td>\n",
       "      <td>242020</td>\n",
       "      <td>89863</td>\n",
       "      <td>0</td>\n",
       "    </tr>\n",
       "    <tr>\n",
       "      <th>1796</th>\n",
       "      <td>1797</td>\n",
       "      <td>242020</td>\n",
       "      <td>89909</td>\n",
       "      <td>0</td>\n",
       "    </tr>\n",
       "    <tr>\n",
       "      <th>1797</th>\n",
       "      <td>1798</td>\n",
       "      <td>242020</td>\n",
       "      <td>89914</td>\n",
       "      <td>0</td>\n",
       "    </tr>\n",
       "    <tr>\n",
       "      <th>1798</th>\n",
       "      <td>1799</td>\n",
       "      <td>242020</td>\n",
       "      <td>89931</td>\n",
       "      <td>0</td>\n",
       "    </tr>\n",
       "    <tr>\n",
       "      <th>1799</th>\n",
       "      <td>1800</td>\n",
       "      <td>242020</td>\n",
       "      <td>89953</td>\n",
       "      <td>0</td>\n",
       "    </tr>\n",
       "  </tbody>\n",
       "</table>\n",
       "<p>200 rows × 4 columns</p>\n",
       "</div>"
      ],
      "text/plain": [
       "      evtID  orgEvtID  rdoEvtID  rdoNum\n",
       "1600   1601    242020     77118       0\n",
       "1601   1602    242020     77138       0\n",
       "1602   1603    242020     77136       0\n",
       "1603   1604    242020     77142       0\n",
       "1604   1605    242020     77162       0\n",
       "...     ...       ...       ...     ...\n",
       "1795   1796    242020     89863       0\n",
       "1796   1797    242020     89909       0\n",
       "1797   1798    242020     89914       0\n",
       "1798   1799    242020     89931       0\n",
       "1799   1800    242020     89953       0\n",
       "\n",
       "[200 rows x 4 columns]"
      ]
     },
     "execution_count": 49,
     "metadata": {},
     "output_type": "execute_result"
    }
   ],
   "source": [
    "evtid_map_to_event_number.iloc[1600:1800]"
   ]
  },
  {
   "cell_type": "code",
   "execution_count": null,
   "metadata": {},
   "outputs": [],
   "source": [
    "\n",
    "start_event_id = 1681\n",
    "end_event_id = 1780\n",
    "evtid_map_to_event_number = evtid_map_to_event_number.iloc[start_event_id:end_event_id]\n",
    "evtid_map_to_event_number.to_csv(evtid_matching_fname, sep='\\t', header=False, index=False)\n",
    "\n",
    "\n",
    "rdo_info = pd.read_csv(\n",
    "    origin_rdo_matching_fname, sep='\\s+', header=None,\n",
    "    names=[\"rodNum\", \"rdoFileName\"])\n",
    "rdo_info[['rdoFileName', 'rodNum']].to_csv(rdo_matching_fname, sep='\\t', header=None, index=False)"
   ]
  },
  {
   "cell_type": "code",
   "execution_count": 46,
   "metadata": {},
   "outputs": [
    {
     "data": {
      "text/html": [
       "<div>\n",
       "<style scoped>\n",
       "    .dataframe tbody tr th:only-of-type {\n",
       "        vertical-align: middle;\n",
       "    }\n",
       "\n",
       "    .dataframe tbody tr th {\n",
       "        vertical-align: top;\n",
       "    }\n",
       "\n",
       "    .dataframe thead th {\n",
       "        text-align: right;\n",
       "    }\n",
       "</style>\n",
       "<table border=\"1\" class=\"dataframe\">\n",
       "  <thead>\n",
       "    <tr style=\"text-align: right;\">\n",
       "      <th></th>\n",
       "      <th>evtID</th>\n",
       "      <th>orgEvtID</th>\n",
       "      <th>rdoEvtID</th>\n",
       "      <th>rdoNum</th>\n",
       "    </tr>\n",
       "  </thead>\n",
       "  <tbody>\n",
       "    <tr>\n",
       "      <th>1681</th>\n",
       "      <td>1682</td>\n",
       "      <td>242020</td>\n",
       "      <td>24239</td>\n",
       "      <td>0</td>\n",
       "    </tr>\n",
       "    <tr>\n",
       "      <th>1682</th>\n",
       "      <td>1683</td>\n",
       "      <td>242020</td>\n",
       "      <td>24222</td>\n",
       "      <td>0</td>\n",
       "    </tr>\n",
       "    <tr>\n",
       "      <th>1683</th>\n",
       "      <td>1684</td>\n",
       "      <td>242020</td>\n",
       "      <td>24253</td>\n",
       "      <td>0</td>\n",
       "    </tr>\n",
       "    <tr>\n",
       "      <th>1684</th>\n",
       "      <td>1685</td>\n",
       "      <td>242020</td>\n",
       "      <td>24250</td>\n",
       "      <td>0</td>\n",
       "    </tr>\n",
       "    <tr>\n",
       "      <th>1685</th>\n",
       "      <td>1686</td>\n",
       "      <td>242020</td>\n",
       "      <td>24283</td>\n",
       "      <td>0</td>\n",
       "    </tr>\n",
       "    <tr>\n",
       "      <th>...</th>\n",
       "      <td>...</td>\n",
       "      <td>...</td>\n",
       "      <td>...</td>\n",
       "      <td>...</td>\n",
       "    </tr>\n",
       "    <tr>\n",
       "      <th>1776</th>\n",
       "      <td>1777</td>\n",
       "      <td>242020</td>\n",
       "      <td>87509</td>\n",
       "      <td>0</td>\n",
       "    </tr>\n",
       "    <tr>\n",
       "      <th>1777</th>\n",
       "      <td>1778</td>\n",
       "      <td>242020</td>\n",
       "      <td>87520</td>\n",
       "      <td>0</td>\n",
       "    </tr>\n",
       "    <tr>\n",
       "      <th>1778</th>\n",
       "      <td>1779</td>\n",
       "      <td>242020</td>\n",
       "      <td>87527</td>\n",
       "      <td>0</td>\n",
       "    </tr>\n",
       "    <tr>\n",
       "      <th>1779</th>\n",
       "      <td>1780</td>\n",
       "      <td>242020</td>\n",
       "      <td>87571</td>\n",
       "      <td>0</td>\n",
       "    </tr>\n",
       "    <tr>\n",
       "      <th>1780</th>\n",
       "      <td>1781</td>\n",
       "      <td>242020</td>\n",
       "      <td>88306</td>\n",
       "      <td>0</td>\n",
       "    </tr>\n",
       "  </tbody>\n",
       "</table>\n",
       "<p>100 rows × 4 columns</p>\n",
       "</div>"
      ],
      "text/plain": [
       "      evtID  orgEvtID  rdoEvtID  rdoNum\n",
       "1681   1682    242020     24239       0\n",
       "1682   1683    242020     24222       0\n",
       "1683   1684    242020     24253       0\n",
       "1684   1685    242020     24250       0\n",
       "1685   1686    242020     24283       0\n",
       "...     ...       ...       ...     ...\n",
       "1776   1777    242020     87509       0\n",
       "1777   1778    242020     87520       0\n",
       "1778   1779    242020     87527       0\n",
       "1779   1780    242020     87571       0\n",
       "1780   1781    242020     88306       0\n",
       "\n",
       "[100 rows x 4 columns]"
      ]
     },
     "execution_count": 46,
     "metadata": {},
     "output_type": "execute_result"
    }
   ],
   "source": [
    "evtid_map_to_event_number"
   ]
  },
  {
   "cell_type": "code",
   "execution_count": 6,
   "metadata": {},
   "outputs": [
    {
     "data": {
      "text/plain": [
       "array([22222, 22241, 22249, 22256, 22266, 22272, 22295, 22320, 22339,\n",
       "       22389, 24222, 24239, 24250, 24253, 24283, 24312, 24314, 24359,\n",
       "       24419, 25223, 25232, 25235, 25274, 25277, 25290, 25293, 25321,\n",
       "       25332, 25362, 26221, 26234, 26241, 26242, 26260, 26269, 26274,\n",
       "       26278, 26296, 26303, 27141, 27153, 27166, 27181, 27197, 27200,\n",
       "       27216, 27228, 27243, 27273, 28145, 28153, 28166, 28176, 28199,\n",
       "       28200, 28205, 28207, 28228, 28234, 28652, 28657, 28666, 28668,\n",
       "       28676, 28703, 28728, 28757, 28759, 28793, 29151, 29153, 29161,\n",
       "       29173, 29180, 29191, 29211, 29231, 29262, 29299, 29651, 29656,\n",
       "       29673, 29676, 29689, 29704, 29706, 29733, 29754, 29755, 87451,\n",
       "       87457, 87462, 87467, 87484, 87490, 87509, 87520, 87527, 87571,\n",
       "       88306])"
      ]
     },
     "execution_count": 6,
     "metadata": {},
     "output_type": "execute_result"
    }
   ],
   "source": [
    "requested_event_numbers = np.sort(evtid_map_to_event_number.rdoEvtID.values)\n",
    "requested_event_numbers"
   ]
  },
  {
   "cell_type": "code",
   "execution_count": 26,
   "metadata": {},
   "outputs": [],
   "source": [
    "convert = ConvertGNNTracksForFitting(evtid_matching_fname, rdo_matching_fname,\n",
    "                                     file_reco, \"\", base_dir/\"forXiangyang\", max_evts=end_event_id+1)"
   ]
  },
  {
   "cell_type": "code",
   "execution_count": 44,
   "metadata": {},
   "outputs": [],
   "source": [
    "convert.read_evt_info()"
   ]
  },
  {
   "cell_type": "code",
   "execution_count": 45,
   "metadata": {},
   "outputs": [
    {
     "data": {
      "text/plain": [
       "[1682,\n",
       " 1683,\n",
       " 1684,\n",
       " 1685,\n",
       " 1686,\n",
       " 1687,\n",
       " 1688,\n",
       " 1689,\n",
       " 1690,\n",
       " 1691,\n",
       " 1692,\n",
       " 1693,\n",
       " 1694,\n",
       " 1695,\n",
       " 1696,\n",
       " 1697,\n",
       " 1698,\n",
       " 1699,\n",
       " 1700,\n",
       " 1701,\n",
       " 1702,\n",
       " 1703,\n",
       " 1704,\n",
       " 1705,\n",
       " 1706,\n",
       " 1707,\n",
       " 1708,\n",
       " 1709,\n",
       " 1710,\n",
       " 1711,\n",
       " 1712,\n",
       " 1713,\n",
       " 1714,\n",
       " 1715,\n",
       " 1716,\n",
       " 1717,\n",
       " 1718,\n",
       " 1719,\n",
       " 1720,\n",
       " 1721,\n",
       " 1722,\n",
       " 1723,\n",
       " 1724,\n",
       " 1725,\n",
       " 1726,\n",
       " 1727,\n",
       " 1728,\n",
       " 1729,\n",
       " 1730,\n",
       " 1731,\n",
       " 1732,\n",
       " 1733,\n",
       " 1734,\n",
       " 1735,\n",
       " 1736,\n",
       " 1737,\n",
       " 1738,\n",
       " 1739,\n",
       " 1740,\n",
       " 1741,\n",
       " 1742,\n",
       " 1743,\n",
       " 1744,\n",
       " 1745,\n",
       " 1746,\n",
       " 1747,\n",
       " 1748,\n",
       " 1749,\n",
       " 1750,\n",
       " 1751,\n",
       " 1752,\n",
       " 1753,\n",
       " 1754,\n",
       " 1755,\n",
       " 1756,\n",
       " 1757,\n",
       " 1758,\n",
       " 1759,\n",
       " 1760,\n",
       " 1761,\n",
       " 1762,\n",
       " 1763,\n",
       " 1764,\n",
       " 1765,\n",
       " 1766,\n",
       " 1767,\n",
       " 1768,\n",
       " 1769,\n",
       " 1770,\n",
       " 1771,\n",
       " 1772,\n",
       " 1773,\n",
       " 1774,\n",
       " 1775,\n",
       " 1776,\n",
       " 1777,\n",
       " 1778,\n",
       " 1779,\n",
       " 1780,\n",
       " 1781]"
      ]
     },
     "execution_count": 45,
     "metadata": {},
     "output_type": "execute_result"
    }
   ],
   "source": [
    "convert.evt_info.evtID.values.tolist()"
   ]
  },
  {
   "cell_type": "code",
   "execution_count": 25,
   "metadata": {},
   "outputs": [
    {
     "name": "stdout",
     "output_type": "stream",
     "text": [
      "1682 does not have processed data, no sortting\n",
      "1683 does not have processed data, no sortting\n",
      "1684 does not have processed data, no sortting\n",
      "1685 does not have processed data, no sortting\n",
      "1686 does not have processed data, no sortting\n",
      "1687 does not have processed data, no sortting\n",
      "1688 does not have processed data, no sortting\n",
      "1689 does not have processed data, no sortting\n",
      "1690 does not have processed data, no sortting\n",
      "1691 does not have processed data, no sortting\n",
      "1692 does not have processed data, no sortting\n",
      "1693 does not have processed data, no sortting\n",
      "1694 does not have processed data, no sortting\n",
      "1695 does not have processed data, no sortting\n",
      "1696 does not have processed data, no sortting\n",
      "1697 does not have processed data, no sortting\n",
      "1698 does not have processed data, no sortting\n",
      "1699 does not have processed data, no sortting\n",
      "1700 does not have processed data, no sortting\n",
      "1701 does not have processed data, no sortting\n",
      "1702 does not have processed data, no sortting\n",
      "1703 does not have processed data, no sortting\n",
      "1704 does not have processed data, no sortting\n",
      "1705 does not have processed data, no sortting\n",
      "1706 does not have processed data, no sortting\n",
      "1707 does not have processed data, no sortting\n",
      "1708 does not have processed data, no sortting\n",
      "1709 does not have processed data, no sortting\n",
      "1710 does not have processed data, no sortting\n",
      "1711 does not have processed data, no sortting\n",
      "1712 does not have processed data, no sortting\n",
      "1713 does not have processed data, no sortting\n",
      "1714 does not have processed data, no sortting\n",
      "1715 does not have processed data, no sortting\n",
      "1716 does not have processed data, no sortting\n",
      "1717 does not have processed data, no sortting\n",
      "1718 does not have processed data, no sortting\n",
      "1719 does not have processed data, no sortting\n",
      "1720 does not have processed data, no sortting\n",
      "1721 does not have processed data, no sortting\n",
      "1722 does not have processed data, no sortting\n",
      "1723 does not have processed data, no sortting\n",
      "1724 does not have processed data, no sortting\n",
      "1725 does not have processed data, no sortting\n",
      "1726 does not have processed data, no sortting\n",
      "1727 does not have processed data, no sortting\n",
      "1728 does not have processed data, no sortting\n",
      "1729 does not have processed data, no sortting\n",
      "1730 does not have processed data, no sortting\n",
      "1731 does not have processed data, no sortting\n",
      "1732 does not have processed data, no sortting\n",
      "1733 does not have processed data, no sortting\n",
      "1734 does not have processed data, no sortting\n",
      "1735 does not have processed data, no sortting\n",
      "1736 does not have processed data, no sortting\n",
      "1737 does not have processed data, no sortting\n",
      "1738 does not have processed data, no sortting\n",
      "1739 does not have processed data, no sortting\n",
      "1740 does not have processed data, no sortting\n",
      "1741 does not have processed data, no sortting\n",
      "1742 does not have processed data, no sortting\n",
      "1743 does not have processed data, no sortting\n",
      "1744 does not have processed data, no sortting\n",
      "1745 does not have processed data, no sortting\n",
      "1746 does not have processed data, no sortting\n",
      "1747 does not have processed data, no sortting\n",
      "1748 does not have processed data, no sortting\n",
      "1749 does not have processed data, no sortting\n",
      "1750 does not have processed data, no sortting\n",
      "1751 does not have processed data, no sortting\n",
      "1752 does not have processed data, no sortting\n",
      "1753 does not have processed data, no sortting\n",
      "1754 does not have processed data, no sortting\n",
      "1755 does not have processed data, no sortting\n",
      "1756 does not have processed data, no sortting\n",
      "1757 does not have processed data, no sortting\n",
      "1758 does not have processed data, no sortting\n",
      "1759 does not have processed data, no sortting\n",
      "1760 does not have processed data, no sortting\n",
      "1761 does not have processed data, no sortting\n",
      "1762 does not have processed data, no sortting\n",
      "1763 does not have processed data, no sortting\n",
      "1764 does not have processed data, no sortting\n",
      "1765 does not have processed data, no sortting\n",
      "1766 does not have processed data, no sortting\n",
      "1767 does not have processed data, no sortting\n",
      "1768 does not have processed data, no sortting\n",
      "1769 does not have processed data, no sortting\n",
      "1770 does not have processed data, no sortting\n",
      "1771 does not have processed data, no sortting\n",
      "1772 does not have processed data, no sortting\n",
      "1773 does not have processed data, no sortting\n",
      "1774 does not have processed data, no sortting\n",
      "1775 does not have processed data, no sortting\n",
      "1776 does not have processed data, no sortting\n",
      "1777 does not have processed data, no sortting\n",
      "1778 does not have processed data, no sortting\n",
      "1779 does not have processed data, no sortting\n",
      "1780 does not have processed data, no sortting\n",
      "1781 does not have processed data, no sortting\n",
      "no reco track for method singleCutFilter for event 1781\n",
      "no reco track for method wrangler for event 1781\n"
     ]
    }
   ],
   "source": [
    "convert.run()"
   ]
  },
  {
   "cell_type": "code",
   "execution_count": 13,
   "metadata": {},
   "outputs": [
    {
     "name": "stdout",
     "output_type": "stream",
     "text": [
      "Getting reco tracks from file\n"
     ]
    }
   ],
   "source": [
    "# recoTracks = [dict() for i in range(0, 1800)]\n",
    "recoTracks = dict()\n",
    "\n",
    "methods = [\"singleCutFilter\", \"wrangler\"]\n",
    "print(\"Getting reco tracks from file\") \n",
    "# taken from https://gitlab.cern.ch/gnn4itkteam/tracks_reconstruction/-/blob/master/truthMatch.py#L59\n",
    "with pd.HDFStore(file_reco, mode='r') as reader:\n",
    "    for eventId in range(0, 2000):\n",
    "        for m in methods:\n",
    "            dataname = \"/event{0}/{1}/reco_tracks\".format(eventId, m)\n",
    "            df_trks = reader.get(dataname)\n",
    "            # Remove -1 that are placeholders for empty hit\n",
    "            trks = df_trks.values\n",
    "            trks = [list(filter(lambda x: x !=-1, trk)) for trk in trks]\n",
    "            if eventId in recoTracks:\n",
    "                recoTracks[eventId].update( { m : trks })\n",
    "            else:\n",
    "                recoTracks[eventId] = { m : trks }"
   ]
  },
  {
   "cell_type": "code",
   "execution_count": 39,
   "metadata": {},
   "outputs": [],
   "source": [
    "evtid = 1682\n",
    "all_track_candidates = recoTracks[evtid][\"wrangler\"] + recoTracks[evtid][\"singleCutFilter\"]"
   ]
  },
  {
   "cell_type": "code",
   "execution_count": 40,
   "metadata": {},
   "outputs": [
    {
     "data": {
      "text/plain": [
       "7258"
      ]
     },
     "execution_count": 40,
     "metadata": {},
     "output_type": "execute_result"
    }
   ],
   "source": [
    "len(all_track_candidates)"
   ]
  },
  {
   "cell_type": "code",
   "execution_count": 41,
   "metadata": {},
   "outputs": [
    {
     "data": {
      "text/plain": [
       "[22783, 22407, 796, 22654, 22302, 572, 22520, 22931, 643, 721]"
      ]
     },
     "execution_count": 41,
     "metadata": {},
     "output_type": "execute_result"
    }
   ],
   "source": [
    "all_track_candidates[0]"
   ]
  },
  {
   "cell_type": "code",
   "execution_count": 35,
   "metadata": {},
   "outputs": [],
   "source": [
    "good_trks = [x for x in all_track_candidates if len(x) >= 3]"
   ]
  },
  {
   "cell_type": "code",
   "execution_count": 36,
   "metadata": {},
   "outputs": [
    {
     "data": {
      "text/plain": [
       "2594"
      ]
     },
     "execution_count": 36,
     "metadata": {},
     "output_type": "execute_result"
    }
   ],
   "source": [
    "len(good_trks)"
   ]
  },
  {
   "cell_type": "code",
   "execution_count": 37,
   "metadata": {},
   "outputs": [
    {
     "data": {
      "text/plain": [
       "(10, 15)"
      ]
     },
     "execution_count": 37,
     "metadata": {},
     "output_type": "execute_result"
    }
   ],
   "source": [
    "len(good_trks[0]), len(good_trks[1])"
   ]
  },
  {
   "cell_type": "code",
   "execution_count": 38,
   "metadata": {},
   "outputs": [
    {
     "data": {
      "text/plain": [
       "[22783, 22407, 796, 22654, 22302, 572, 22520, 22931, 643, 721]"
      ]
     },
     "execution_count": 38,
     "metadata": {},
     "output_type": "execute_result"
    }
   ],
   "source": [
    "good_trks[0]"
   ]
  },
  {
   "cell_type": "code",
   "execution_count": null,
   "metadata": {},
   "outputs": [],
   "source": []
  }
 ],
 "metadata": {
  "kernelspec": {
   "display_name": "torch",
   "language": "python",
   "name": "python3"
  },
  "language_info": {
   "codemirror_mode": {
    "name": "ipython",
    "version": 3
   },
   "file_extension": ".py",
   "mimetype": "text/x-python",
   "name": "python",
   "nbconvert_exporter": "python",
   "pygments_lexer": "ipython3",
   "version": "3.9.10"
  },
  "orig_nbformat": 4,
  "vscode": {
   "interpreter": {
    "hash": "60cfd30d8127274bee22a844d3af6a7b49166f0d11c39e6e40dbf4dd9468faee"
   }
  }
 },
 "nbformat": 4,
 "nbformat_minor": 2
}
