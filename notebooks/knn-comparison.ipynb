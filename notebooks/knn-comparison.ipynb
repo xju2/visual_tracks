{
 "cells": [
  {
   "cell_type": "code",
   "execution_count": 3,
   "metadata": {},
   "outputs": [],
   "source": [
    "%load_ext autoreload\n",
    "%autoreload 2\n",
    "import sys\n",
    "sys.path.append('../')"
   ]
  },
  {
   "cell_type": "code",
   "execution_count": 2,
   "metadata": {},
   "outputs": [],
   "source": [
    " %%bash\n",
    " module load texlive"
   ]
  },
  {
   "cell_type": "code",
   "execution_count": 3,
   "metadata": {},
   "outputs": [
    {
     "name": "stderr",
     "output_type": "stream",
     "text": [
      "/global/homes/x/xju/.conda/envs/gnn4itk/lib/python3.9/site-packages/tqdm/auto.py:21: TqdmWarning: IProgress not found. Please update jupyter and ipywidgets. See https://ipywidgets.readthedocs.io/en/stable/user_install.html\n",
      "  from .autonotebook import tqdm as notebook_tqdm\n"
     ]
    },
    {
     "name": "stdout",
     "output_type": "stream",
     "text": [
      "uproot is not installed. AthenaRawRootReader will not be available.\n"
     ]
    },
    {
     "name": "stderr",
     "output_type": "stream",
     "text": [
      "WARNING:root:FRNN is available\n",
      "WARNING:root:FAISS is available\n"
     ]
    }
   ],
   "source": [
    "import torch\n",
    "from acctrack.tools.model_inference import TorchModelInference\n",
    "from acctrack.tools.utils_graph import build_edges\n",
    "from pathlib import Path"
   ]
  },
  {
   "cell_type": "markdown",
   "metadata": {},
   "source": [
    "## General Configurations"
   ]
  },
  {
   "cell_type": "code",
   "execution_count": 4,
   "metadata": {},
   "outputs": [],
   "source": [
    "base_path = \"/global/homes/x/xju/m3443/usr/xju/ITk/For2023Paper\"\n",
    "model_path = base_path + \"/TrainedModels/graph_construction-MetricLearning-v2.pt\"\n",
    "data_path = base_path + \"/2023_uncorr_feature_store\"\n",
    "\n",
    "r_max, k_max = 0.1, 1000\n",
    "knn_backend = \"FAISS-CPU\"\n",
    "config_file = \"metric_learning-nonoise.yaml\"\n",
    "embedding_file_name = \"embedding.pt\""
   ]
  },
  {
   "cell_type": "markdown",
   "metadata": {},
   "source": [
    "## Compare different KNN algorithms"
   ]
  },
  {
   "cell_type": "markdown",
   "metadata": {},
   "source": [
    "### Create the embedding"
   ]
  },
  {
   "cell_type": "code",
   "execution_count": 4,
   "metadata": {},
   "outputs": [
    {
     "name": "stdout",
     "output_type": "stream",
     "text": [
      "Training: Total 1 events in directory: /global/homes/x/xju/m3443/usr/xju/ITk/For2023Paper/2023_uncorr_feature_store/trainset\n",
      "Validation: Total 1 events in directory: /global/homes/x/xju/m3443/usr/xju/ITk/For2023Paper/2023_uncorr_feature_store/valset\n",
      "Test: Total 1 events in directory: /global/homes/x/xju/m3443/usr/xju/ITk/For2023Paper/2023_uncorr_feature_store/testset\n"
     ]
    }
   ],
   "source": [
    "model_infer = TorchModelInference(config_file, model_path, \".\", name=\"ForTesting\")"
   ]
  },
  {
   "cell_type": "code",
   "execution_count": 5,
   "metadata": {},
   "outputs": [
    {
     "name": "stdout",
     "output_type": "stream",
     "text": [
      "Reading file: /global/homes/x/xju/m3443/usr/xju/ITk/For2023Paper/2023_uncorr_feature_store/trainset/event000005367-graph.pyg\n"
     ]
    }
   ],
   "source": [
    "data = model_infer.data_reader_training.read(0)\n",
    "node_features = model_infer.config[\"node_features\"]\n",
    "node_scales = torch.Tensor(model_infer.config[\"node_scales\"])\n",
    "input_data = torch.stack([data[x] for x in node_features], dim=-1).float()\n",
    "features = input_data / node_scales\n",
    "embedding = model_infer.model_reader.predict(features)"
   ]
  },
  {
   "cell_type": "code",
   "execution_count": 6,
   "metadata": {},
   "outputs": [],
   "source": [
    "torch.save(embedding, embedding_file_name)"
   ]
  },
  {
   "cell_type": "markdown",
   "metadata": {},
   "source": [
    "### Different algorithms"
   ]
  },
  {
   "cell_type": "code",
   "execution_count": 5,
   "metadata": {},
   "outputs": [
    {
     "name": "stdout",
     "output_type": "stream",
     "text": [
      "torch.Size([349243, 32])\n"
     ]
    }
   ],
   "source": [
    "\n",
    "if Path(embedding_file_name).exists():\n",
    "    embedding = torch.load(embedding_file_name)\n",
    "    print(embedding.shape)\n",
    "else:\n",
    "    print(\"Run the embedding creation step first!\")\n"
   ]
  },
  {
   "cell_type": "code",
   "execution_count": 8,
   "metadata": {},
   "outputs": [
    {
     "name": "stderr",
     "output_type": "stream",
     "text": [
      "WARNING:root:FRNN is available\n",
      "WARNING:root:FAISS is available\n"
     ]
    },
    {
     "data": {
      "text/plain": [
       "torch.Size([2, 46795462])"
      ]
     },
     "execution_count": 8,
     "metadata": {},
     "output_type": "execute_result"
    }
   ],
   "source": [
    "edge_index = build_edges(embedding, r_max=r_max, k_max=k_max, backend=\"FAISS-CPU-FlatL2\")\n",
    "edge_index.shape"
   ]
  },
  {
   "cell_type": "code",
   "execution_count": 9,
   "metadata": {},
   "outputs": [
    {
     "data": {
      "text/plain": [
       "torch.Size([2, 24308418])"
      ]
     },
     "execution_count": 9,
     "metadata": {},
     "output_type": "execute_result"
    }
   ],
   "source": [
    "edge_index = build_edges(embedding, r_max=r_max, k_max=k_max, backend=\"FAISS-CPU-QUANTIZED\", nprobe=1)\n",
    "edge_index.shape"
   ]
  },
  {
   "cell_type": "code",
   "execution_count": 10,
   "metadata": {},
   "outputs": [
    {
     "data": {
      "text/plain": [
       "torch.Size([2, 40693091])"
      ]
     },
     "execution_count": 10,
     "metadata": {},
     "output_type": "execute_result"
    }
   ],
   "source": [
    "edge_index = build_edges(embedding, r_max=r_max, k_max=k_max, backend=\"FAISS-CPU-QUANTIZED\", nprobe=5)\n",
    "edge_index.shape"
   ]
  },
  {
   "cell_type": "code",
   "execution_count": 11,
   "metadata": {},
   "outputs": [
    {
     "data": {
      "text/plain": [
       "torch.Size([2, 44498115])"
      ]
     },
     "execution_count": 11,
     "metadata": {},
     "output_type": "execute_result"
    }
   ],
   "source": [
    "edge_index = build_edges(embedding, r_max=r_max, k_max=k_max, backend=\"FAISS-CPU-QUANTIZED\", nprobe=10)\n",
    "edge_index.shape"
   ]
  },
  {
   "cell_type": "code",
   "execution_count": 12,
   "metadata": {},
   "outputs": [
    {
     "data": {
      "text/plain": [
       "torch.Size([2, 46364250])"
      ]
     },
     "execution_count": 12,
     "metadata": {},
     "output_type": "execute_result"
    }
   ],
   "source": [
    "edge_index = build_edges(embedding, r_max=r_max, k_max=k_max, backend=\"FAISS-CPU-QUANTIZED\", nprobe=20)\n",
    "edge_index.shape"
   ]
  },
  {
   "cell_type": "code",
   "execution_count": 11,
   "metadata": {},
   "outputs": [
    {
     "name": "stderr",
     "output_type": "stream",
     "text": [
      "WARNING:root:FRNN is available\n",
      "WARNING:root:FAISS is available\n"
     ]
    },
    {
     "data": {
      "text/plain": [
       "torch.Size([2, 39309573])"
      ]
     },
     "execution_count": 11,
     "metadata": {},
     "output_type": "execute_result"
    }
   ],
   "source": [
    "edge_index = build_edges(embedding, r_max=r_max, k_max=k_max, backend=\"FAISS-CPU-QUANTIZED\", nlist=1000, nprobe=10)\n",
    "edge_index.shape"
   ]
  },
  {
   "cell_type": "code",
   "execution_count": 12,
   "metadata": {},
   "outputs": [
    {
     "data": {
      "text/plain": [
       "torch.Size([2, 42728981])"
      ]
     },
     "execution_count": 12,
     "metadata": {},
     "output_type": "execute_result"
    }
   ],
   "source": [
    "edge_index = build_edges(embedding, r_max=r_max, k_max=k_max, backend=\"FAISS-CPU-IVF\", nlist=1000, nprobe=20)\n",
    "edge_index.shape"
   ]
  },
  {
   "cell_type": "code",
   "execution_count": 13,
   "metadata": {},
   "outputs": [
    {
     "data": {
      "text/plain": [
       "torch.Size([2, 43659143])"
      ]
     },
     "execution_count": 13,
     "metadata": {},
     "output_type": "execute_result"
    }
   ],
   "source": [
    "edge_index = build_edges(embedding, r_max=r_max, k_max=k_max, backend=\"FAISS-CPU-IVF\", nlist=500, nprobe=20)\n",
    "edge_index.shape"
   ]
  },
  {
   "cell_type": "code",
   "execution_count": 14,
   "metadata": {},
   "outputs": [
    {
     "data": {
      "text/plain": [
       "torch.Size([2, 46041135])"
      ]
     },
     "execution_count": 14,
     "metadata": {},
     "output_type": "execute_result"
    }
   ],
   "source": [
    "edge_index = build_edges(embedding, r_max=r_max, k_max=k_max, backend=\"FAISS-CPU-IVF\", nlist=50, nprobe=10)\n",
    "edge_index.shape"
   ]
  },
  {
   "cell_type": "code",
   "execution_count": 15,
   "metadata": {},
   "outputs": [
    {
     "data": {
      "text/plain": [
       "torch.Size([2, 46785100])"
      ]
     },
     "execution_count": 15,
     "metadata": {},
     "output_type": "execute_result"
    }
   ],
   "source": [
    "edge_index = build_edges(embedding, r_max=r_max, k_max=k_max, backend=\"FAISS-CPU-IVF\", nlist=50, nprobe=25)\n",
    "edge_index.shape"
   ]
  },
  {
   "cell_type": "code",
   "execution_count": 16,
   "metadata": {},
   "outputs": [
    {
     "data": {
      "text/plain": [
       "torch.Size([2, 46791439])"
      ]
     },
     "execution_count": 16,
     "metadata": {},
     "output_type": "execute_result"
    }
   ],
   "source": [
    "edge_index = build_edges(embedding, r_max=r_max, k_max=k_max, backend=\"FAISS-CPU-IVF\", nlist=50, nprobe=30)\n",
    "edge_index.shape"
   ]
  },
  {
   "cell_type": "code",
   "execution_count": 7,
   "metadata": {},
   "outputs": [
    {
     "name": "stderr",
     "output_type": "stream",
     "text": [
      "WARNING:root:FRNN is available\n",
      "WARNING:root:FAISS is available\n"
     ]
    },
    {
     "data": {
      "text/plain": [
       "torch.Size([2, 40366750])"
      ]
     },
     "execution_count": 7,
     "metadata": {},
     "output_type": "execute_result"
    }
   ],
   "source": [
    "edge_index = build_edges(embedding, r_max=r_max, k_max=k_max, backend=\"FAISS-CPU-scalarquantizer\")\n",
    "edge_index.shape"
   ]
  },
  {
   "cell_type": "code",
   "execution_count": 19,
   "metadata": {},
   "outputs": [
    {
     "name": "stderr",
     "output_type": "stream",
     "text": [
      "WARNING:root:FRNN is available\n",
      "WARNING:root:FAISS is available\n"
     ]
    },
    {
     "data": {
      "text/plain": [
       "torch.Size([2, 46795043])"
      ]
     },
     "execution_count": 19,
     "metadata": {},
     "output_type": "execute_result"
    }
   ],
   "source": [
    "edge_index = build_edges(embedding, r_max=r_max, k_max=k_max, backend=\"FAISS-GPU\")\n",
    "edge_index.shape"
   ]
  },
  {
   "cell_type": "code",
   "execution_count": 16,
   "metadata": {},
   "outputs": [
    {
     "name": "stderr",
     "output_type": "stream",
     "text": [
      "WARNING:root:FRNN is available\n",
      "WARNING:root:FAISS is available\n"
     ]
    },
    {
     "data": {
      "text/plain": [
       "torch.Size([2, 46794019])"
      ]
     },
     "execution_count": 16,
     "metadata": {},
     "output_type": "execute_result"
    }
   ],
   "source": [
    "edge_index = build_edges(embedding, r_max=r_max, k_max=k_max, backend=\"FRNN\")\n",
    "edge_index.shape"
   ]
  },
  {
   "cell_type": "code",
   "execution_count": null,
   "metadata": {},
   "outputs": [],
   "source": []
  }
 ],
 "metadata": {
  "kernelspec": {
   "display_name": "torch",
   "language": "python",
   "name": "python3"
  },
  "language_info": {
   "codemirror_mode": {
    "name": "ipython",
    "version": 3
   },
   "file_extension": ".py",
   "mimetype": "text/x-python",
   "name": "python",
   "nbconvert_exporter": "python",
   "pygments_lexer": "ipython3",
   "version": "3.9.16"
  },
  "orig_nbformat": 4
 },
 "nbformat": 4,
 "nbformat_minor": 2
}
