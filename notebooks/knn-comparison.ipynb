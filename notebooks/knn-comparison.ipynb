{
 "cells": [
  {
   "cell_type": "code",
   "execution_count": 1,
   "metadata": {},
   "outputs": [],
   "source": [
    "%load_ext autoreload\n",
    "%autoreload 2\n",
    "import sys\n",
    "sys.path.append('../')"
   ]
  },
  {
   "cell_type": "code",
   "execution_count": 2,
   "metadata": {},
   "outputs": [],
   "source": [
    " %%bash\n",
    " module load texlive"
   ]
  },
  {
   "cell_type": "code",
   "execution_count": 3,
   "metadata": {},
   "outputs": [
    {
     "name": "stdout",
     "output_type": "stream",
     "text": [
      "uproot is not installed. AthenaRawRootReader will not be available.\n"
     ]
    },
    {
     "name": "stderr",
     "output_type": "stream",
     "text": [
      "WARNING:root:FRNN is available\n",
      "WARNING:root:FAISS is available\n"
     ]
    }
   ],
   "source": [
    "import torch\n",
    "from acctrack.tools.model_inference import TorchModelInference\n",
    "from acctrack.tools.utils_graph import build_edges\n",
    "from pathlib import Path"
   ]
  },
  {
   "cell_type": "markdown",
   "metadata": {},
   "source": [
    "## General Configurations"
   ]
  },
  {
   "cell_type": "code",
   "execution_count": 4,
   "metadata": {},
   "outputs": [],
   "source": [
    "base_path = \"/global/homes/x/xju/m3443/usr/xju/ITk/For2023Paper\"\n",
    "model_path = base_path + \"/TrainedModels/v1/graph_construction-MetricLearning-v2.pt\"\n",
    "data_path = base_path + \"/2023_uncorr_feature_store\"\n",
    "\n",
    "r_max, k_max = 0.1, 1000\n",
    "knn_backend = \"FAISS-CPU\"\n",
    "config_file = \"/pscratch/sd/x/xju/ITk/ForFinalPaper/commonframework/examples/FinalPaper/metric_learning-nonoise.yaml\"\n",
    "embedding_file_name = \"embedding.pt\""
   ]
  },
  {
   "cell_type": "markdown",
   "metadata": {},
   "source": [
    "## Compare different KNN algorithms"
   ]
  },
  {
   "cell_type": "markdown",
   "metadata": {},
   "source": [
    "### Different algorithms"
   ]
  },
  {
   "cell_type": "code",
   "execution_count": 5,
   "metadata": {},
   "outputs": [
    {
     "name": "stdout",
     "output_type": "stream",
     "text": [
      "torch.Size([349243, 32])\n"
     ]
    }
   ],
   "source": [
    "\n",
    "if Path(embedding_file_name).exists():\n",
    "    embedding = torch.load(embedding_file_name)\n",
    "    print(embedding.shape)\n",
    "else:\n",
    "    print(\"Run the embedding creation step first!\")\n"
   ]
  },
  {
   "cell_type": "code",
   "execution_count": 6,
   "metadata": {},
   "outputs": [
    {
     "name": "stdout",
     "output_type": "stream",
     "text": [
      "CPU times: user 1h 11min 30s, sys: 3min 11s, total: 1h 14min 41s\n",
      "Wall time: 1min 34s\n"
     ]
    },
    {
     "data": {
      "text/plain": [
       "torch.Size([2, 46795462])"
      ]
     },
     "execution_count": 6,
     "metadata": {},
     "output_type": "execute_result"
    }
   ],
   "source": [
    "%%time\n",
    "edge_index = build_edges(embedding, r_max=r_max, k_max=k_max, backend=\"FAISS-CPU-FlatL2\")\n",
    "edge_index.shape"
   ]
  },
  {
   "cell_type": "code",
   "execution_count": 7,
   "metadata": {},
   "outputs": [
    {
     "name": "stdout",
     "output_type": "stream",
     "text": [
      "CPU times: user 4min 41s, sys: 55.1 s, total: 5min 36s\n",
      "Wall time: 5.88 s\n"
     ]
    },
    {
     "data": {
      "text/plain": [
       "torch.Size([2, 42728981])"
      ]
     },
     "execution_count": 7,
     "metadata": {},
     "output_type": "execute_result"
    }
   ],
   "source": [
    "%%time\n",
    "edge_index = build_edges(embedding, r_max=r_max, k_max=k_max, backend=\"FAISS-CPU-IVF\", nlist=1000, nprobe=20)\n",
    "edge_index.shape"
   ]
  },
  {
   "cell_type": "code",
   "execution_count": 8,
   "metadata": {},
   "outputs": [
    {
     "name": "stdout",
     "output_type": "stream",
     "text": [
      "CPU times: user 6min 6s, sys: 48.3 s, total: 6min 54s\n",
      "Wall time: 7.26 s\n"
     ]
    },
    {
     "data": {
      "text/plain": [
       "torch.Size([2, 43659143])"
      ]
     },
     "execution_count": 8,
     "metadata": {},
     "output_type": "execute_result"
    }
   ],
   "source": [
    "%%time\n",
    "edge_index = build_edges(embedding, r_max=r_max, k_max=k_max, backend=\"FAISS-CPU-IVF\", nlist=500, nprobe=20)\n",
    "edge_index.shape"
   ]
  },
  {
   "cell_type": "code",
   "execution_count": 9,
   "metadata": {},
   "outputs": [
    {
     "name": "stdout",
     "output_type": "stream",
     "text": [
      "CPU times: user 17min 15s, sys: 46.2 s, total: 18min 2s\n",
      "Wall time: 18.2 s\n"
     ]
    },
    {
     "data": {
      "text/plain": [
       "torch.Size([2, 46041135])"
      ]
     },
     "execution_count": 9,
     "metadata": {},
     "output_type": "execute_result"
    }
   ],
   "source": [
    "%%time\n",
    "edge_index = build_edges(embedding, r_max=r_max, k_max=k_max, backend=\"FAISS-CPU-IVF\", nlist=50, nprobe=10)\n",
    "edge_index.shape"
   ]
  },
  {
   "cell_type": "code",
   "execution_count": 10,
   "metadata": {},
   "outputs": [
    {
     "name": "stdout",
     "output_type": "stream",
     "text": [
      "CPU times: user 41min 39s, sys: 48.2 s, total: 42min 27s\n",
      "Wall time: 43.2 s\n"
     ]
    },
    {
     "data": {
      "text/plain": [
       "torch.Size([2, 46785100])"
      ]
     },
     "execution_count": 10,
     "metadata": {},
     "output_type": "execute_result"
    }
   ],
   "source": [
    "%%time\n",
    "edge_index = build_edges(embedding, r_max=r_max, k_max=k_max, backend=\"FAISS-CPU-IVF\", nlist=50, nprobe=25)\n",
    "edge_index.shape"
   ]
  },
  {
   "cell_type": "code",
   "execution_count": 11,
   "metadata": {},
   "outputs": [
    {
     "name": "stdout",
     "output_type": "stream",
     "text": [
      "CPU times: user 49min 35s, sys: 49.1 s, total: 50min 24s\n",
      "Wall time: 50.3 s\n"
     ]
    },
    {
     "data": {
      "text/plain": [
       "torch.Size([2, 46791439])"
      ]
     },
     "execution_count": 11,
     "metadata": {},
     "output_type": "execute_result"
    }
   ],
   "source": [
    "%%time\n",
    "edge_index = build_edges(embedding, r_max=r_max, k_max=k_max, backend=\"FAISS-CPU-IVF\", nlist=50, nprobe=30)\n",
    "edge_index.shape"
   ]
  },
  {
   "cell_type": "code",
   "execution_count": 12,
   "metadata": {},
   "outputs": [
    {
     "name": "stdout",
     "output_type": "stream",
     "text": [
      "CPU times: user 2h 47min 15s, sys: 39.3 s, total: 2h 47min 54s\n",
      "Wall time: 2min 51s\n"
     ]
    },
    {
     "data": {
      "text/plain": [
       "torch.Size([2, 40366750])"
      ]
     },
     "execution_count": 12,
     "metadata": {},
     "output_type": "execute_result"
    }
   ],
   "source": [
    "%%time\n",
    "edge_index = build_edges(embedding, r_max=r_max, k_max=k_max, backend=\"FAISS-CPU-scalarquantizer\")\n",
    "edge_index.shape"
   ]
  },
  {
   "cell_type": "code",
   "execution_count": 13,
   "metadata": {},
   "outputs": [
    {
     "name": "stdout",
     "output_type": "stream",
     "text": [
      "Unexpected exception formatting exception. Falling back to standard exception\n"
     ]
    },
    {
     "name": "stderr",
     "output_type": "stream",
     "text": [
      "Traceback (most recent call last):\n",
      "  File \"/global/homes/x/xju/.conda/envs/gnn4itk/lib/python3.9/site-packages/IPython/core/magics/execution.py\", line 1325, in time\n",
      "    exec(code, glob, local_ns)\n",
      "  File \"<timed exec>\", line 1, in <module>\n",
      "  File \"/pscratch/sd/x/xju/ITk/ForFinalPaper/visual_tracks/notebooks/../acctrack/tools/utils_graph.py\", line 102, in build_edges\n",
      "    index_flat = faiss.GpuIndexFlatL2(res, embedding.shape[1])\n",
      "  File \"/global/homes/x/xju/.conda/envs/gnn4itk/lib/python3.9/site-packages/faiss/swigfaiss.py\", line 9130, in __init__\n",
      "    _swigfaiss.GpuIndexFlatL2_swiginit(self, _swigfaiss.new_GpuIndexFlatL2(*args))\n",
      "RuntimeError: Error in virtual void faiss::gpu::StandardGpuResourcesImpl::initializeForDevice(int) at /project/faiss/faiss/gpu/StandardGpuResources.cpp:283: Error: 'err == cudaSuccess' failed: failed to cudaHostAlloc 268435456 bytes for CPU <-> GPU async copy buffer (error 2 out of memory)\n",
      "\n",
      "During handling of the above exception, another exception occurred:\n",
      "\n",
      "Traceback (most recent call last):\n",
      "  File \"/global/homes/x/xju/.conda/envs/gnn4itk/lib/python3.9/site-packages/IPython/core/interactiveshell.py\", line 2105, in showtraceback\n",
      "    stb = self.InteractiveTB.structured_traceback(\n",
      "  File \"/global/homes/x/xju/.conda/envs/gnn4itk/lib/python3.9/site-packages/IPython/core/ultratb.py\", line 1428, in structured_traceback\n",
      "    return FormattedTB.structured_traceback(\n",
      "  File \"/global/homes/x/xju/.conda/envs/gnn4itk/lib/python3.9/site-packages/IPython/core/ultratb.py\", line 1319, in structured_traceback\n",
      "    return VerboseTB.structured_traceback(\n",
      "  File \"/global/homes/x/xju/.conda/envs/gnn4itk/lib/python3.9/site-packages/IPython/core/ultratb.py\", line 1172, in structured_traceback\n",
      "    formatted_exception = self.format_exception_as_a_whole(etype, evalue, etb, number_of_lines_of_context,\n",
      "  File \"/global/homes/x/xju/.conda/envs/gnn4itk/lib/python3.9/site-packages/IPython/core/ultratb.py\", line 1062, in format_exception_as_a_whole\n",
      "    self.get_records(etb, number_of_lines_of_context, tb_offset) if etb else []\n",
      "  File \"/global/homes/x/xju/.conda/envs/gnn4itk/lib/python3.9/site-packages/IPython/core/ultratb.py\", line 1154, in get_records\n",
      "    FrameInfo(\n",
      "  File \"/global/homes/x/xju/.conda/envs/gnn4itk/lib/python3.9/site-packages/IPython/core/ultratb.py\", line 780, in __init__\n",
      "    ix = inspect.getsourcelines(frame)\n",
      "  File \"/global/homes/x/xju/.conda/envs/gnn4itk/lib/python3.9/inspect.py\", line 1006, in getsourcelines\n",
      "    lines, lnum = findsource(object)\n",
      "  File \"/global/homes/x/xju/.conda/envs/gnn4itk/lib/python3.9/inspect.py\", line 835, in findsource\n",
      "    raise OSError('could not get source code')\n",
      "OSError: could not get source code\n"
     ]
    }
   ],
   "source": [
    "%%time\n",
    "edge_index = build_edges(embedding, r_max=r_max, k_max=k_max, backend=\"FAISS-GPU\")\n",
    "edge_index.shape"
   ]
  },
  {
   "cell_type": "code",
   "execution_count": 16,
   "metadata": {},
   "outputs": [],
   "source": [
    "%%time\n",
    "edge_index = build_edges(embedding, r_max=r_max, k_max=k_max, backend=\"FRNN\")\n",
    "edge_index.shape"
   ]
  },
  {
   "cell_type": "code",
   "execution_count": null,
   "metadata": {},
   "outputs": [],
   "source": [
    "%%time\n",
    "edge_index = build_edges(embedding[:, :3], r_max=r_max, k_max=k_max, backend=\"FAISS-GPU\")\n",
    "edge_index.shape"
   ]
  },
  {
   "cell_type": "code",
   "execution_count": null,
   "metadata": {},
   "outputs": [],
   "source": []
  }
 ],
 "metadata": {
  "kernelspec": {
   "display_name": "torch",
   "language": "python",
   "name": "python3"
  },
  "language_info": {
   "codemirror_mode": {
    "name": "ipython",
    "version": 3
   },
   "file_extension": ".py",
   "mimetype": "text/x-python",
   "name": "python",
   "nbconvert_exporter": "python",
   "pygments_lexer": "ipython3",
   "version": "3.9.16"
  },
  "orig_nbformat": 4
 },
 "nbformat": 4,
 "nbformat_minor": 2
}
