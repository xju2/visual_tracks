{
 "cells": [
  {
   "cell_type": "code",
   "execution_count": 3,
   "metadata": {},
   "outputs": [],
   "source": [
    "%load_ext autoreload\n",
    "%autoreload 2\n",
    "import sys\n",
    "sys.path.append('../')"
   ]
  },
  {
   "cell_type": "code",
   "execution_count": 2,
   "metadata": {},
   "outputs": [
    {
     "name": "stdout",
     "output_type": "stream",
     "text": [
      "uproot is not installed. AthenaRawRootReader will not be available.\n"
     ]
    },
    {
     "name": "stderr",
     "output_type": "stream",
     "text": [
      "WARNING:root:FRNN is available\n",
      "WARNING:root:FAISS is available\n"
     ]
    }
   ],
   "source": [
    "import torch\n",
    "from acctrack.tools.model_inference import ModelLoader, TorchModelInference\n",
    "from acctrack.io.pyg_data_reader import TrackGraphDataReader\n",
    "from acctrack.tools.utils_graph import build_edges\n",
    "from acctrack.tools.edge_perf import EdgePerformance\n",
    "import faiss\n",
    "from pathlib import Path\n",
    "from acctrack.viewer.classification import plot_metrics\n",
    "import numpy as np\n",
    "import onnxruntime as ort"
   ]
  },
  {
   "cell_type": "markdown",
   "metadata": {},
   "source": [
    "## General Configurations"
   ]
  },
  {
   "cell_type": "code",
   "execution_count": 4,
   "metadata": {},
   "outputs": [],
   "source": [
    "base_path = \"/global/homes/x/xju/m3443/usr/xju/ITk/For2023Paper/\"\n",
    "model_path = base_path + \"/TrainedModels/v2/graph_construction-MetricLearning-v1.pt\"\n",
    "embedding_model_path = base_path + \"/TrainedModels/v1/graph_construction-MetricLearning-v1.pt\"\n",
    "filtering_model_path = base_path + \"/TrainedModels/v1/edge_classifier-PermutationInvariantFilter-v1.pt\"\n",
    "gnn_onnx_path = base_path + \"/TrainedModels/v1/edge_classifier-DirectionalGNN-v1.onnx\"\n",
    "data_path = base_path + \"/2023_uncorr_feature_store\"\n",
    "data_type = \"trainset\"\n",
    "\n",
    "r_max, k_max = 0.1, 1000\n",
    "knn_backend = \"FAISS-CPU-Flatl2\"\n",
    "config_file = \"exatrkx_inference.yaml\"\n",
    "embedding_file_name = \"embedding.pt\""
   ]
  },
  {
   "cell_type": "markdown",
   "metadata": {},
   "source": [
    "## Compare Embedding"
   ]
  },
  {
   "cell_type": "code",
   "execution_count": 110,
   "metadata": {},
   "outputs": [
    {
     "name": "stdout",
     "output_type": "stream",
     "text": [
      "Loading model from /global/homes/x/xju/m3443/usr/xju/ITk/For2023Paper//TrainedModels/v2/graph_construction-MetricLearning-v1.pt\n",
      "trainset: Total 1 events in directory: /global/homes/x/xju/m3443/usr/xju/ITk/For2023Paper/2023_uncorr_feature_store/trainset\n",
      "Reading file: /global/homes/x/xju/m3443/usr/xju/ITk/For2023Paper/2023_uncorr_feature_store/trainset/event000001693-graph.pyg\n",
      "True Reco Edges 182,310, True Edges 216,498, Per-edge efficiency: 84.209%\n",
      "True Edges 216,498, Reco Edges 13,920,808, Per-edge purity: 1.555%\n",
      "Only 12.141% of true edges are of interests (signal)\n",
      "True Reco Signal Edges 26,028, True Signal Edges 26,286, Per-edge signal efficiency: 99.018%\n"
     ]
    }
   ],
   "source": [
    "model_path = base_path + \"/TrainedModels/v2/graph_construction-MetricLearning-v1.pt\"\n",
    "model_inference = TorchModelInference(config_file, data_type, model_path, \".\", name=\"v2\")\n",
    "results = model_inference.inference(0, knn_backend=\"FRNN\")"
   ]
  },
  {
   "cell_type": "code",
   "execution_count": 111,
   "metadata": {},
   "outputs": [
    {
     "name": "stdout",
     "output_type": "stream",
     "text": [
      "Loading model from /global/homes/x/xju/m3443/usr/xju/ITk/For2023Paper//TrainedModels/v2/graph_construction-MetricLearning-v1.pt\n",
      "trainset: Total 1 events in directory: /global/homes/x/xju/m3443/usr/xju/ITk/For2023Paper/2023_uncorr_feature_store/trainset\n",
      "Reading file: /global/homes/x/xju/m3443/usr/xju/ITk/For2023Paper/2023_uncorr_feature_store/trainset/event000001693-graph.pyg\n",
      "True Reco Edges 180,830, True Edges 216,498, Per-edge efficiency: 83.525%\n",
      "True Edges 216,498, Reco Edges 12,179,298, Per-edge purity: 1.778%\n",
      "Only 12.141% of true edges are of interests (signal)\n",
      "True Reco Signal Edges 26,010, True Signal Edges 26,286, Per-edge signal efficiency: 98.950%\n"
     ]
    }
   ],
   "source": [
    "model_path = base_path + \"/TrainedModels/v2/graph_construction-MetricLearning-v1.pt\"\n",
    "model_inference = TorchModelInference(config_file, data_type, model_path, \".\", name=\"v2\")\n",
    "results = model_inference.inference(0, knn_backend=\"FRNN\")"
   ]
  },
  {
   "cell_type": "code",
   "execution_count": 109,
   "metadata": {},
   "outputs": [
    {
     "name": "stdout",
     "output_type": "stream",
     "text": [
      "Loading model from /global/homes/x/xju/m3443/usr/xju/ITk/For2023Paper//TrainedModels/v2/graph_construction-MetricLearning-v1.pt\n",
      "valset: Total 1 events in directory: /global/homes/x/xju/m3443/usr/xju/ITk/For2023Paper/2023_uncorr_feature_store/valset\n",
      "Reading file: /global/homes/x/xju/m3443/usr/xju/ITk/For2023Paper/2023_uncorr_feature_store/valset/event000008899-graph.pyg\n",
      "True Reco Edges 199,642, True Edges 237,602, Per-edge efficiency: 84.024%\n",
      "True Edges 237,602, Reco Edges 17,408,606, Per-edge purity: 1.365%\n",
      "Only 13.104267% of true edges are of interests (signal)\n",
      "True Reco Signal Edges 30,738, True Signal Edges 31,136, Per-edge signal efficiency: 98.722%\n"
     ]
    }
   ],
   "source": [
    "model_path = base_path + \"/TrainedModels/v2/graph_construction-MetricLearning-v1.pt\"\n",
    "model_inference = TorchModelInference(config_file, \"valset\", model_path, \".\", name=\"v2\")\n",
    "results = model_inference.inference(0, knn_backend=\"FRNN\")"
   ]
  },
  {
   "cell_type": "code",
   "execution_count": 56,
   "metadata": {},
   "outputs": [
    {
     "name": "stdout",
     "output_type": "stream",
     "text": [
      "['norm_y_2', 'particle_id', 'charge_count_2', 'radius', 'event_id', 'charge_count_1', 'eta_angle_1', 'redundant_split_edges', 'glob_eta_2', 'phi', 'localDir2_2', 'localDir2_1', 'eta', 'count_2', 'region', 'localDir0_1', 'y', 'lengthDir1_2', 'norm_x_1', 'pdgId', 'hit_id', 'nhits', 'x', 'glob_eta_1', 'cluster_z_1', 'r', 'lengthDir2_1', 'count_1', 'lengthDir0_2', 'norm_z_1', 'z', 'cluster_x_2', 'pt', 'track_edges', 'loc_phi_1', 'cluster_y_1', 'norm_y_1', 'localDir1_1', 'lengthDir0_1', 'eta_angle_2', 'cluster_z_2', 'lengthDir1_1', 'glob_phi_2', 'norm_z_2', 'norm_x_2', 'lengthDir2_2', 'primary', 'config', 'phi_angle_2', 'localDir0_2', 'phi_angle_1', 'cluster_y_2', 'loc_phi_2', 'cluster_x_1', 'localDir1_2', 'loc_eta_1', 'loc_eta_2', 'glob_phi_1']\n"
     ]
    }
   ],
   "source": [
    "print(model_inference.data_reader_training.data.keys)"
   ]
  },
  {
   "cell_type": "code",
   "execution_count": 60,
   "metadata": {},
   "outputs": [
    {
     "data": {
      "text/plain": [
       "tensor([   7.8250,   -1.4750,   -7.8250,  ..., -106.8120, -145.1290,\n",
       "        -138.7780], dtype=torch.float64)"
      ]
     },
     "execution_count": 60,
     "metadata": {},
     "output_type": "execute_result"
    }
   ],
   "source": [
    "model_inference.data_reader_training.data['y']"
   ]
  },
  {
   "cell_type": "code",
   "execution_count": 97,
   "metadata": {},
   "outputs": [
    {
     "name": "stdout",
     "output_type": "stream",
     "text": [
      "Training: Total 1 events in directory: /global/homes/x/xju/m3443/usr/xju/ITk/For2023Paper/2023_uncorr_feature_store/trainset\n",
      "Validation: Total 1 events in directory: /global/homes/x/xju/m3443/usr/xju/ITk/For2023Paper/2023_uncorr_feature_store/valset\n",
      "Test: Total 1 events in directory: /global/homes/x/xju/m3443/usr/xju/ITk/For2023Paper/2023_uncorr_feature_store/testset\n",
      "Reading file: /global/homes/x/xju/m3443/usr/xju/ITk/For2023Paper/2023_uncorr_feature_store/trainset/event000001693-graph.pyg\n",
      "True Reco Edges 181,084, True Edges 216,498, Per-edge efficiency: 83.642%\n",
      "True Edges 216,498, Reco Edges 99,972,562, Per-edge purity: 0.217%\n",
      "Only 12.141452% of true edges are of interests (signal)\n",
      "True Reco Signal Edges 23,951, True Signal Edges 26,286, Per-edge signal efficiency: 91.117%\n"
     ]
    }
   ],
   "source": [
    "model_path = base_path + \"/TrainedModels/v1/graph_construction-MetricLearning-v5-pl.pt\"\n",
    "model_inference = TorchModelInference(config_file, model_path, \".\", name=\"v5-pl\")\n",
    "res_v5_pl = model_inference.inference(0, knn_backend=\"FRNN\")"
   ]
  },
  {
   "cell_type": "markdown",
   "metadata": {},
   "source": [
    "## Explore Data"
   ]
  },
  {
   "cell_type": "code",
   "execution_count": 4,
   "metadata": {},
   "outputs": [
    {
     "name": "stdout",
     "output_type": "stream",
     "text": [
      "Embedding: Total 1 events in directory: /global/homes/x/xju/m3443/usr/xju/ITk/For2023Paper/metric_learning_testing/trainset\n",
      "Reading file: /global/homes/x/xju/m3443/usr/xju/ITk/For2023Paper/metric_learning_testing/trainset/event000001693.pyg\n"
     ]
    }
   ],
   "source": [
    "data_path = base_path + \"/metric_learning_testing/trainset\"\n",
    "reader = TrackGraphDataReader(data_path, name=\"Embedding\")\n",
    "data = reader.read(0)"
   ]
  },
  {
   "cell_type": "code",
   "execution_count": 5,
   "metadata": {},
   "outputs": [
    {
     "ename": "ValueError",
     "evalue": "invalid literal for int() with base 10: \"['000006930']\"",
     "output_type": "error",
     "traceback": [
      "\u001b[0;31m---------------------------------------------------------------------------\u001b[0m",
      "\u001b[0;31mValueError\u001b[0m                                Traceback (most recent call last)",
      "Cell \u001b[0;32mIn[5], line 2\u001b[0m\n\u001b[1;32m      1\u001b[0m data_path \u001b[39m=\u001b[39m \u001b[39m\"\u001b[39m\u001b[39m/pscratch/sd/x/xju/ITk/ForFinalPaper/Results/Training/v1/directionalGNN_v1/trainset/\u001b[39m\u001b[39m\"\u001b[39m\n\u001b[0;32m----> 2\u001b[0m reader \u001b[39m=\u001b[39m TrackGraphDataReader(data_path, name\u001b[39m=\u001b[39;49m\u001b[39m\"\u001b[39;49m\u001b[39mGNN\u001b[39;49m\u001b[39m\"\u001b[39;49m)\n\u001b[1;32m      3\u001b[0m data \u001b[39m=\u001b[39m reader\u001b[39m.\u001b[39mread(\u001b[39m0\u001b[39m)\n",
      "File \u001b[0;32m/pscratch/sd/x/xju/ITk/ForFinalPaper/visual_tracks/acctrack/io/pyg_data_reader.py:30\u001b[0m, in \u001b[0;36mTrackGraphDataReader.__init__\u001b[0;34m(self, inputdir, output_dir, overwrite, name)\u001b[0m\n\u001b[1;32m     27\u001b[0m     evtid \u001b[39m=\u001b[39m \u001b[39mint\u001b[39m(matched\u001b[39m.\u001b[39mgroup(\u001b[39m1\u001b[39m)\u001b[39m.\u001b[39mstrip(\u001b[39m\"\u001b[39m\u001b[39m'\u001b[39m\u001b[39m\"\u001b[39m)\u001b[39m.\u001b[39mstrip(\u001b[39m\"\u001b[39m\u001b[39m0\u001b[39m\u001b[39m\"\u001b[39m))\n\u001b[1;32m     28\u001b[0m     \u001b[39mreturn\u001b[39;00m evtid\n\u001b[0;32m---> 30\u001b[0m \u001b[39mself\u001b[39m\u001b[39m.\u001b[39mall_evtids \u001b[39m=\u001b[39m \u001b[39msorted\u001b[39m([find_evt_info(x) \u001b[39mfor\u001b[39;00m x \u001b[39min\u001b[39;00m \u001b[39mself\u001b[39m\u001b[39m.\u001b[39mpyg_files])\n\u001b[1;32m     31\u001b[0m \u001b[39mprint\u001b[39m(\u001b[39m\"\u001b[39m\u001b[39m{}\u001b[39;00m\u001b[39m: Total \u001b[39m\u001b[39m{}\u001b[39;00m\u001b[39m events in directory: \u001b[39m\u001b[39m{}\u001b[39;00m\u001b[39m\"\u001b[39m\u001b[39m.\u001b[39mformat(\n\u001b[1;32m     32\u001b[0m     \u001b[39mself\u001b[39m\u001b[39m.\u001b[39mname, \u001b[39mself\u001b[39m\u001b[39m.\u001b[39mnevts, \u001b[39mself\u001b[39m\u001b[39m.\u001b[39minputdir))\n\u001b[1;32m     34\u001b[0m \u001b[39mself\u001b[39m\u001b[39m.\u001b[39mdata \u001b[39m=\u001b[39m \u001b[39mNone\u001b[39;00m\n",
      "File \u001b[0;32m/pscratch/sd/x/xju/ITk/ForFinalPaper/visual_tracks/acctrack/io/pyg_data_reader.py:30\u001b[0m, in \u001b[0;36m<listcomp>\u001b[0;34m(.0)\u001b[0m\n\u001b[1;32m     27\u001b[0m     evtid \u001b[39m=\u001b[39m \u001b[39mint\u001b[39m(matched\u001b[39m.\u001b[39mgroup(\u001b[39m1\u001b[39m)\u001b[39m.\u001b[39mstrip(\u001b[39m\"\u001b[39m\u001b[39m'\u001b[39m\u001b[39m\"\u001b[39m)\u001b[39m.\u001b[39mstrip(\u001b[39m\"\u001b[39m\u001b[39m0\u001b[39m\u001b[39m\"\u001b[39m))\n\u001b[1;32m     28\u001b[0m     \u001b[39mreturn\u001b[39;00m evtid\n\u001b[0;32m---> 30\u001b[0m \u001b[39mself\u001b[39m\u001b[39m.\u001b[39mall_evtids \u001b[39m=\u001b[39m \u001b[39msorted\u001b[39m([find_evt_info(x) \u001b[39mfor\u001b[39;00m x \u001b[39min\u001b[39;00m \u001b[39mself\u001b[39m\u001b[39m.\u001b[39mpyg_files])\n\u001b[1;32m     31\u001b[0m \u001b[39mprint\u001b[39m(\u001b[39m\"\u001b[39m\u001b[39m{}\u001b[39;00m\u001b[39m: Total \u001b[39m\u001b[39m{}\u001b[39;00m\u001b[39m events in directory: \u001b[39m\u001b[39m{}\u001b[39;00m\u001b[39m\"\u001b[39m\u001b[39m.\u001b[39mformat(\n\u001b[1;32m     32\u001b[0m     \u001b[39mself\u001b[39m\u001b[39m.\u001b[39mname, \u001b[39mself\u001b[39m\u001b[39m.\u001b[39mnevts, \u001b[39mself\u001b[39m\u001b[39m.\u001b[39minputdir))\n\u001b[1;32m     34\u001b[0m \u001b[39mself\u001b[39m\u001b[39m.\u001b[39mdata \u001b[39m=\u001b[39m \u001b[39mNone\u001b[39;00m\n",
      "File \u001b[0;32m/pscratch/sd/x/xju/ITk/ForFinalPaper/visual_tracks/acctrack/io/pyg_data_reader.py:27\u001b[0m, in \u001b[0;36mTrackGraphDataReader.__init__.<locals>.find_evt_info\u001b[0;34m(x)\u001b[0m\n\u001b[1;32m     25\u001b[0m \u001b[39mif\u001b[39;00m matched \u001b[39mis\u001b[39;00m \u001b[39mNone\u001b[39;00m:\n\u001b[1;32m     26\u001b[0m     \u001b[39mreturn\u001b[39;00m \u001b[39mNone\u001b[39;00m\n\u001b[0;32m---> 27\u001b[0m evtid \u001b[39m=\u001b[39m \u001b[39mint\u001b[39;49m(matched\u001b[39m.\u001b[39;49mgroup(\u001b[39m1\u001b[39;49m)\u001b[39m.\u001b[39;49mstrip(\u001b[39m\"\u001b[39;49m\u001b[39m'\u001b[39;49m\u001b[39m\"\u001b[39;49m)\u001b[39m.\u001b[39;49mstrip(\u001b[39m\"\u001b[39;49m\u001b[39m0\u001b[39;49m\u001b[39m\"\u001b[39;49m))\n\u001b[1;32m     28\u001b[0m \u001b[39mreturn\u001b[39;00m evtid\n",
      "\u001b[0;31mValueError\u001b[0m: invalid literal for int() with base 10: \"['000006930']\""
     ]
    }
   ],
   "source": [
    "\n",
    "data_path = \"/pscratch/sd/x/xju/ITk/ForFinalPaper/Results/Training/v1/directionalGNN_v1/trainset/\"\n",
    "reader = TrackGraphDataReader(data_path, name=\"GNN\")\n",
    "data = reader.read(0)"
   ]
  },
  {
   "cell_type": "code",
   "execution_count": 18,
   "metadata": {},
   "outputs": [
    {
     "data": {
      "text/plain": [
       "DataBatch(lengthDir1_1=[275435], localDir1_2=[275435], x=[275435], cluster_z_2=[275435], norm_z_1=[275435], lengthDir2_1=[275435], loc_phi_2=[275435], loc_eta_1=[275435], eta_angle_2=[275435], count_2=[275435], glob_phi_1=[275435], r=[275435], cluster_y_1=[275435], localDir1_1=[275435], norm_y_2=[275435], norm_x_2=[275435], localDir2_2=[275435], charge_count_2=[275435], hit_id=[275435], count_1=[275435], loc_eta_2=[275435], lengthDir0_2=[275435], cluster_x_2=[275435], lengthDir0_1=[275435], phi_angle_2=[275435], lengthDir1_2=[275435], glob_eta_2=[275435], phi=[275435], glob_eta_1=[275435], loc_phi_1=[275435], eta_angle_1=[275435], cluster_x_1=[275435], y=[8418480], localDir0_2=[275435], eta=[275435], norm_z_2=[275435], phi_angle_1=[275435], lengthDir2_2=[275435], cluster_z_1=[275435], cluster_y_2=[275435], norm_y_1=[275435], localDir0_1=[275435], region=[275435], localDir2_1=[275435], glob_phi_2=[275435], norm_x_1=[275435], charge_count_1=[275435], z=[275435], track_edges=[2, 108249], pt=[108249], particle_id=[108249], redundant_split_edges=[108249], primary=[108249], radius=[108249], nhits=[108249], pdgId=[108249], config=[2], event_id=[1], batch=[275435], ptr=[2], edge_index=[2, 8418480], truth_map=[108249])"
      ]
     },
     "execution_count": 18,
     "metadata": {},
     "output_type": "execute_result"
    }
   ],
   "source": [
    "data"
   ]
  },
  {
   "cell_type": "code",
   "execution_count": 17,
   "metadata": {},
   "outputs": [
    {
     "data": {
      "text/plain": [
       "(torch.Size([108249]), torch.Size([108249]), torch.Size([275435]))"
      ]
     },
     "execution_count": 17,
     "metadata": {},
     "output_type": "execute_result"
    }
   ],
   "source": [
    "data.particle_id.shape, data.truth_map.shape, data.x.shape, "
   ]
  },
  {
   "cell_type": "code",
   "execution_count": 12,
   "metadata": {},
   "outputs": [],
   "source": [
    "pidx = data.particle_id == 515\n",
    "hits = data.truth_map[pidx]"
   ]
  },
  {
   "cell_type": "code",
   "execution_count": 26,
   "metadata": {},
   "outputs": [
    {
     "data": {
      "text/plain": [
       "(275435,)"
      ]
     },
     "execution_count": 26,
     "metadata": {},
     "output_type": "execute_result"
    }
   ],
   "source": [
    "hit_idx = np.isin(data.hit_id.cpu().numpy(), hits)\n",
    "hit_idx.shape"
   ]
  },
  {
   "cell_type": "code",
   "execution_count": 29,
   "metadata": {},
   "outputs": [
    {
     "data": {
      "text/plain": [
       "tensor([     0,      1,      2,  ..., 275432, 275433, 275434])"
      ]
     },
     "execution_count": 29,
     "metadata": {},
     "output_type": "execute_result"
    }
   ],
   "source": [
    "data.hit_id"
   ]
  },
  {
   "cell_type": "code",
   "execution_count": 11,
   "metadata": {},
   "outputs": [
    {
     "data": {
      "text/plain": [
       "tensor([512, 515, 540, 543, 566, 579, 581, 582, 583, 587])"
      ]
     },
     "execution_count": 11,
     "metadata": {},
     "output_type": "execute_result"
    }
   ],
   "source": [
    "data.particle_id.unique()[0:10]"
   ]
  },
  {
   "cell_type": "code",
   "execution_count": 31,
   "metadata": {},
   "outputs": [
    {
     "name": "stdout",
     "output_type": "stream",
     "text": [
      "['to', 'president', 'the', 'federal', 'with', 'certification', '6th', 'proceeding”', 'charges—brought', 'and', 'Mr', 'by', 'Trump', 'America,', 'was', 'his', 'deprive', 'vote', '(the', 'independent', 'have', 'of', 'overturn', 'charged', 'their', 'obstruct', 'attack', 'counts', 'defraud', 'Smith,', 'related', 'dismissed', 'Jack', 'to', 'Trump', 'The', '“official', 'the', 'charges', 'efforts', 'election', 'Indictment', 'Donald', 'Fake', 'on', 'to', 'vote', 'an', 'counsel—accuse', 'and', 'a', 'counted.', '2020', 'four', 'and', 'presidential', 'the', 'their', 'right', 'the', 'vote)', 'of', 'the', 'the', 'people', 'as', 'January', 'an', 'of', 'to', 'former', 'conspiring', 'Capitol.', 'special', 'to', 'to']\n"
     ]
    }
   ],
   "source": [
    "sentences = 'Donald Trump was charged with four federal counts related to his efforts to overturn the 2020 presidential election and the January 6th attack on the Capitol. The charges—brought by Jack Smith, an independent special counsel—accuse the former president of conspiring to defraud America, to obstruct an “official proceeding” (the certification of the vote) and to deprive people of their right to vote and have their vote counted. Mr Trump dismissed the charges as a Fake Indictment'\n",
    "words = sentences.split()\n",
    "import random\n",
    "random_words = random.shuffle(words)\n",
    "print(words)"
   ]
  },
  {
   "cell_type": "markdown",
   "metadata": {},
   "source": [
    "## Inference Pipeline"
   ]
  },
  {
   "cell_type": "code",
   "execution_count": 6,
   "metadata": {},
   "outputs": [
    {
     "name": "stdout",
     "output_type": "stream",
     "text": [
      "Embedding: Total 1 events in directory: /global/homes/x/xju/m3443/usr/xju/ITk/For2023Paper/metric_learning_testing/trainset\n",
      "Reading file: /global/homes/x/xju/m3443/usr/xju/ITk/For2023Paper/metric_learning_testing/trainset/event000001693.pyg\n"
     ]
    }
   ],
   "source": [
    "data_path = base_path + \"/metric_learning_testing/trainset\"\n",
    "reader = TrackGraphDataReader(data_path, name=\"Embedding\")\n",
    "data = reader.read(0)"
   ]
  },
  {
   "cell_type": "code",
   "execution_count": 29,
   "metadata": {},
   "outputs": [],
   "source": [
    "import yaml\n",
    "with open(config_file, \"r\") as f:\n",
    "    config = yaml.load(f, Loader=yaml.FullLoader)"
   ]
  },
  {
   "cell_type": "code",
   "execution_count": 8,
   "metadata": {},
   "outputs": [],
   "source": [
    "econfig = config[\"embedding\"]\n",
    "node_features = econfig[\"node_features\"]\n",
    "node_scales = econfig[\"node_scales\"]\n",
    "\n",
    "features = reader.get_node_features(node_features, node_scales)"
   ]
  },
  {
   "cell_type": "code",
   "execution_count": 9,
   "metadata": {},
   "outputs": [
    {
     "data": {
      "text/plain": [
       "RecursiveScriptModule(\n",
       "  original_name=MetricLearning\n",
       "  (network): RecursiveScriptModule(\n",
       "    original_name=Sequential\n",
       "    (0): RecursiveScriptModule(original_name=Linear)\n",
       "    (1): RecursiveScriptModule(original_name=LayerNorm)\n",
       "    (2): RecursiveScriptModule(original_name=ReLU)\n",
       "    (3): RecursiveScriptModule(original_name=Linear)\n",
       "    (4): RecursiveScriptModule(original_name=LayerNorm)\n",
       "    (5): RecursiveScriptModule(original_name=ReLU)\n",
       "    (6): RecursiveScriptModule(original_name=Linear)\n",
       "    (7): RecursiveScriptModule(original_name=LayerNorm)\n",
       "    (8): RecursiveScriptModule(original_name=ReLU)\n",
       "    (9): RecursiveScriptModule(original_name=Linear)\n",
       "    (10): RecursiveScriptModule(original_name=LayerNorm)\n",
       "    (11): RecursiveScriptModule(original_name=ReLU)\n",
       "    (12): RecursiveScriptModule(original_name=Linear)\n",
       "  )\n",
       ")"
      ]
     },
     "execution_count": 9,
     "metadata": {},
     "output_type": "execute_result"
    }
   ],
   "source": [
    "embedding_model_path = config['embedding'][\"model_path\"]\n",
    "embedding = torch.jit.load(embedding_model_path)\n",
    "embedding.eval()"
   ]
  },
  {
   "cell_type": "code",
   "execution_count": 10,
   "metadata": {},
   "outputs": [],
   "source": [
    "embedding_features = embedding.forward(features)"
   ]
  },
  {
   "cell_type": "code",
   "execution_count": 11,
   "metadata": {},
   "outputs": [],
   "source": [
    "edge_index = build_edges(embedding_features, r_max=r_max, k_max=k_max, backend=\"FRNN\")"
   ]
  },
  {
   "cell_type": "code",
   "execution_count": 12,
   "metadata": {},
   "outputs": [
    {
     "data": {
      "text/plain": [
       "device(type='cuda', index=0)"
      ]
     },
     "execution_count": 12,
     "metadata": {},
     "output_type": "execute_result"
    }
   ],
   "source": [
    "edge_index.device"
   ]
  },
  {
   "cell_type": "code",
   "execution_count": 13,
   "metadata": {},
   "outputs": [
    {
     "data": {
      "text/plain": [
       "RecursiveScriptModule(\n",
       "  original_name=PermutationInvariantFilter\n",
       "  (encoder): RecursiveScriptModule(\n",
       "    original_name=Sequential\n",
       "    (0): RecursiveScriptModule(original_name=Linear)\n",
       "    (1): RecursiveScriptModule(original_name=LayerNorm)\n",
       "    (2): RecursiveScriptModule(original_name=ReLU)\n",
       "    (3): RecursiveScriptModule(original_name=Linear)\n",
       "    (4): RecursiveScriptModule(original_name=LayerNorm)\n",
       "    (5): RecursiveScriptModule(original_name=ReLU)\n",
       "    (6): RecursiveScriptModule(original_name=Linear)\n",
       "    (7): RecursiveScriptModule(original_name=LayerNorm)\n",
       "    (8): RecursiveScriptModule(original_name=ReLU)\n",
       "    (9): RecursiveScriptModule(original_name=Linear)\n",
       "    (10): RecursiveScriptModule(original_name=LayerNorm)\n",
       "    (11): RecursiveScriptModule(original_name=ReLU)\n",
       "  )\n",
       "  (decoder): RecursiveScriptModule(\n",
       "    original_name=Sequential\n",
       "    (0): RecursiveScriptModule(original_name=Linear)\n",
       "    (1): RecursiveScriptModule(original_name=LayerNorm)\n",
       "    (2): RecursiveScriptModule(original_name=ReLU)\n",
       "    (3): RecursiveScriptModule(original_name=Linear)\n",
       "  )\n",
       ")"
      ]
     },
     "execution_count": 13,
     "metadata": {},
     "output_type": "execute_result"
    }
   ],
   "source": [
    "filtering_model = torch.jit.load(filtering_model_path, map_location=torch.device('cuda'))\n",
    "filtering_model.eval()"
   ]
  },
  {
   "cell_type": "code",
   "execution_count": 14,
   "metadata": {},
   "outputs": [],
   "source": [
    "fconfig = config['filtering']\n",
    "filter_node_features = fconfig[\"node_features\"]\n",
    "filter_node_scales = fconfig[\"node_scales\"]\n",
    "filter_data_features = reader.get_node_features(filter_node_features, filter_node_scales)"
   ]
  },
  {
   "cell_type": "code",
   "execution_count": 15,
   "metadata": {},
   "outputs": [
    {
     "data": {
      "text/plain": [
       "(torch.Size([275435, 25]),\n",
       " device(type='cpu'),\n",
       " torch.Size([2, 12688584]),\n",
       " device(type='cpu'))"
      ]
     },
     "execution_count": 15,
     "metadata": {},
     "output_type": "execute_result"
    }
   ],
   "source": [
    "filter_data_features.shape, filter_data_features.device, edge_index.shape, edge_index.device"
   ]
  },
  {
   "cell_type": "code",
   "execution_count": 15,
   "metadata": {},
   "outputs": [],
   "source": [
    "senders, receivers = filter_data_features[edge_index[0]], filter_data_features[edge_index[1]]"
   ]
  },
  {
   "cell_type": "code",
   "execution_count": 19,
   "metadata": {},
   "outputs": [],
   "source": [
    "device = 'cuda'\n",
    "senders = senders.to(device)\n",
    "receivers = receivers.to(device)"
   ]
  },
  {
   "cell_type": "code",
   "execution_count": 16,
   "metadata": {},
   "outputs": [],
   "source": [
    "from acctrack.tools.model_inference import batched_inference"
   ]
  },
  {
   "cell_type": "code",
   "execution_count": 20,
   "metadata": {},
   "outputs": [],
   "source": [
    "filtering_edge_scores = batched_inference(filtering_model, senders, receivers, batch_size=1_000_000)"
   ]
  },
  {
   "cell_type": "code",
   "execution_count": 19,
   "metadata": {},
   "outputs": [],
   "source": [
    "with torch.no_grad():\n",
    "    batch_size = 1024\n",
    "    filtering_edge_scores = filtering_model.forward(senders[:batch_size], receivers[:batch_size])"
   ]
  },
  {
   "cell_type": "code",
   "execution_count": 22,
   "metadata": {},
   "outputs": [],
   "source": [
    "filtering_edge_scores = torch.sigmoid(filtering_edge_scores)"
   ]
  },
  {
   "cell_type": "code",
   "execution_count": 23,
   "metadata": {},
   "outputs": [],
   "source": [
    "threshold = 0.57\n",
    "filtering_selections = filtering_edge_scores > threshold\n",
    "edge_index_after_filter = edge_index[:, filtering_selections]"
   ]
  },
  {
   "cell_type": "code",
   "execution_count": 24,
   "metadata": {},
   "outputs": [
    {
     "data": {
      "text/plain": [
       "torch.Size([2, 2571692])"
      ]
     },
     "execution_count": 24,
     "metadata": {},
     "output_type": "execute_result"
    }
   ],
   "source": [
    "edge_index_after_filter.shape"
   ]
  },
  {
   "cell_type": "code",
   "execution_count": 30,
   "metadata": {},
   "outputs": [],
   "source": [
    "g_config = config.get('gnn', None)\n",
    "node_features = g_config['node_features']\n",
    "node_scales = g_config['node_scales']\n",
    "features = reader.get_node_features(node_features, node_scales)"
   ]
  },
  {
   "cell_type": "code",
   "execution_count": 33,
   "metadata": {},
   "outputs": [
    {
     "data": {
      "text/plain": [
       "tensor([[     0,      1,      1,  ..., 275434, 275434, 275434],\n",
       "        [    82,  14316,  14326,  ..., 271519, 271534, 271540]],\n",
       "       device='cuda:0')"
      ]
     },
     "execution_count": 33,
     "metadata": {},
     "output_type": "execute_result"
    }
   ],
   "source": [
    "edge_index_after_filter"
   ]
  },
  {
   "cell_type": "code",
   "execution_count": 66,
   "metadata": {},
   "outputs": [],
   "source": [
    "import onnx\n",
    "onnx_model = onnx.load(gnn_onnx_path)\n",
    "onnx.checker.check_model(onnx_model)"
   ]
  },
  {
   "cell_type": "code",
   "execution_count": 88,
   "metadata": {},
   "outputs": [],
   "source": [
    "session = ort.InferenceSession(gnn_onnx_path, providers=['CUDAExecutionProvider'])\n",
    "output = np.zeros(edge_index_after_filter.shape[1], dtype=np.float32)\n",
    "gnn_output = session.run(None, \n",
    "                         {\"x\": features.cpu().numpy(), \n",
    "                          \"edge_index\": edge_index_after_filter.cpu().numpy()})"
   ]
  },
  {
   "cell_type": "code",
   "execution_count": 85,
   "metadata": {},
   "outputs": [
    {
     "data": {
      "text/plain": [
       "(array([[ 0.03337711, -0.99692905, -0.08833333, ..., -0.75037897,\n",
       "          0.41635   ,  1.24905   ],\n",
       "        [ 0.03405646,  0.9399043 , -0.08833333, ..., -0.75037897,\n",
       "          0.327598  ,  0.982794  ],\n",
       "        [ 0.03345403, -0.9918591 , -0.08833333, ..., -0.75037897,\n",
       "          0.327598  ,  0.982794  ],\n",
       "        ...,\n",
       "        [ 0.94284904, -0.03746629,  0.9514167 , ...,  0.45214328,\n",
       "          0.44154668,  0.00637931],\n",
       "        [ 0.9620676 , -0.03931001,  0.9514167 , ...,  0.45214328,\n",
       "          0.44154668,  0.00637931],\n",
       "        [ 0.95497763, -0.06019103,  0.9514167 , ...,  0.45214328,\n",
       "          0.44154668,  0.00637931]], dtype=float32),\n",
       " tensor([[ 0.0334, -0.9969, -0.0883,  ..., -0.7504,  0.4164,  1.2491],\n",
       "         [ 0.0341,  0.9399, -0.0883,  ..., -0.7504,  0.3276,  0.9828],\n",
       "         [ 0.0335, -0.9919, -0.0883,  ..., -0.7504,  0.3276,  0.9828],\n",
       "         ...,\n",
       "         [ 0.9428, -0.0375,  0.9514,  ...,  0.4521,  0.4415,  0.0064],\n",
       "         [ 0.9621, -0.0393,  0.9514,  ...,  0.4521,  0.4415,  0.0064],\n",
       "         [ 0.9550, -0.0602,  0.9514,  ...,  0.4521,  0.4415,  0.0064]]))"
      ]
     },
     "execution_count": 85,
     "metadata": {},
     "output_type": "execute_result"
    }
   ],
   "source": [
    "gnn_output[0], features"
   ]
  },
  {
   "cell_type": "markdown",
   "metadata": {},
   "source": [
    "## Exam scattering\n",
    "\n",
    "Each node may be connected to `n` number of edges and each edge may have `m` features. The goal is to *aggregate* the edge features for each node, which will result in a `1 x m` vector for each node. The aggregation function can be mean, sum, max, etc. In this example, we will use sum."
   ]
  },
  {
   "cell_type": "code",
   "execution_count": 188,
   "metadata": {},
   "outputs": [
    {
     "data": {
      "text/plain": [
       "tensor([[2.5088, 1.1852, 1.9365, 0.6992, 1.3370],\n",
       "        [2.3046, 2.2934, 2.1995, 2.1434, 2.3420],\n",
       "        [0.0000, 0.0000, 0.0000, 0.0000, 0.0000],\n",
       "        [0.9150, 0.4414, 0.3644, 0.1587, 0.1591],\n",
       "        [0.5936, 0.0753, 0.3068, 0.6666, 0.3725],\n",
       "        [3.0912, 2.6892, 2.4940, 2.3940, 1.9373],\n",
       "        [0.0000, 0.0000, 0.0000, 0.0000, 0.0000],\n",
       "        [1.5670, 0.6016, 2.0889, 1.5110, 1.6803],\n",
       "        [0.7606, 0.3485, 0.3400, 1.1172, 0.6686],\n",
       "        [1.0033, 1.7130, 1.1984, 0.8113, 0.5643]])"
      ]
     },
     "execution_count": 188,
     "metadata": {},
     "output_type": "execute_result"
    }
   ],
   "source": [
    "num_e = 20\n",
    "num_e_features = 5\n",
    "num_v = 10\n",
    "torch.random.manual_seed(42)\n",
    "edge_features = torch.rand((num_e_features, num_e))\n",
    "random_edge_indices = torch.randint(0, num_v, (2, num_e))\n",
    "\n",
    "# the node in question is a sender\n",
    "senders = random_edge_indices[0:1, :]\n",
    "senders = senders.tile(num_e_features, 1)\n",
    "\n",
    "results = torch.zeros(num_e_features, num_v, dtype=edge_features.dtype)\n",
    "results = results.scatter_add(1, senders, edge_features).T\n",
    "results\n"
   ]
  },
  {
   "cell_type": "code",
   "execution_count": 197,
   "metadata": {},
   "outputs": [],
   "source": [
    "edge_features = torch.rand((num_e,num_e_features))\n",
    "random_edge_indices = torch.randint(0, num_v, (2, num_e))\n",
    "senders = random_edge_indices[0:1, :]\n",
    "senders = senders.tile(num_e_features, 1).T\n",
    "\n",
    "results = torch.zeros(num_v, num_e_features, dtype=edge_features.dtype)\n",
    "results = results.scatter_add(0, senders, edge_features)"
   ]
  },
  {
   "cell_type": "code",
   "execution_count": 199,
   "metadata": {},
   "outputs": [
    {
     "data": {
      "text/plain": [
       "tensor([[1.6229, 1.0722, 0.9872, 1.4357, 0.4548],\n",
       "        [1.3313, 1.7635, 1.2490, 1.3414, 1.3200],\n",
       "        [0.0000, 0.0000, 0.0000, 0.0000, 0.0000],\n",
       "        [2.0056, 0.8538, 1.1922, 1.7726, 1.0956],\n",
       "        [0.8989, 0.4269, 0.5095, 0.7985, 0.9347],\n",
       "        [1.2984, 1.6955, 1.9325, 2.4139, 1.2235],\n",
       "        [1.8800, 1.8058, 2.1856, 1.4639, 1.9251],\n",
       "        [0.0343, 0.3092, 0.0702, 0.1836, 0.7785],\n",
       "        [0.0000, 0.0000, 0.0000, 0.0000, 0.0000],\n",
       "        [1.6100, 1.0941, 0.8844, 0.7959, 0.8228]])"
      ]
     },
     "execution_count": 199,
     "metadata": {},
     "output_type": "execute_result"
    }
   ],
   "source": [
    "results"
   ]
  },
  {
   "cell_type": "markdown",
   "metadata": {},
   "source": [
    "### agrr in pyg"
   ]
  },
  {
   "cell_type": "code",
   "execution_count": 174,
   "metadata": {},
   "outputs": [],
   "source": [
    "from torch_geometric.nn import aggr\n",
    "sum_aggr = aggr.SumAggregation()"
   ]
  },
  {
   "cell_type": "code",
   "execution_count": 179,
   "metadata": {},
   "outputs": [
    {
     "data": {
      "text/plain": [
       "(torch.Size([5, 20]), torch.Size([2, 20]))"
      ]
     },
     "execution_count": 179,
     "metadata": {},
     "output_type": "execute_result"
    }
   ],
   "source": [
    "edge_features.shape, random_edge_indices.shape"
   ]
  },
  {
   "cell_type": "code",
   "execution_count": 180,
   "metadata": {},
   "outputs": [
    {
     "data": {
      "text/plain": [
       "tensor([[2.5088, 1.1852, 1.9365, 0.6992, 1.3370],\n",
       "        [2.3046, 2.2934, 2.1995, 2.1434, 2.3420],\n",
       "        [0.0000, 0.0000, 0.0000, 0.0000, 0.0000],\n",
       "        [0.9150, 0.4414, 0.3644, 0.1587, 0.1591],\n",
       "        [0.5936, 0.0753, 0.3068, 0.6666, 0.3725],\n",
       "        [3.0912, 2.6892, 2.4940, 2.3940, 1.9373],\n",
       "        [0.0000, 0.0000, 0.0000, 0.0000, 0.0000],\n",
       "        [1.5670, 0.6016, 2.0889, 1.5110, 1.6803],\n",
       "        [0.7606, 0.3485, 0.3400, 1.1172, 0.6686],\n",
       "        [1.0033, 1.7130, 1.1984, 0.8113, 0.5643]])"
      ]
     },
     "execution_count": 180,
     "metadata": {},
     "output_type": "execute_result"
    }
   ],
   "source": [
    "sum_aggr(edge_features.T, random_edge_indices[0])"
   ]
  },
  {
   "cell_type": "code",
   "execution_count": null,
   "metadata": {},
   "outputs": [],
   "source": []
  },
  {
   "cell_type": "code",
   "execution_count": 41,
   "metadata": {},
   "outputs": [],
   "source": [
    "edge_perf = EdgePerformance(reader)"
   ]
  },
  {
   "cell_type": "code",
   "execution_count": 43,
   "metadata": {},
   "outputs": [
    {
     "name": "stdout",
     "output_type": "stream",
     "text": [
      "True Reco Edges 163,492, True Edges 216,498, Per-edge efficiency: 75.517%\n",
      "True Edges 216,498, Reco Edges 12,688,452, Per-edge purity: 1.706%\n",
      "Only 12.141% of true edges are of interests (signal)\n",
      "True Reco Signal Edges 26,194, True Signal Edges 26,286, Per-edge signal efficiency: 99.650%\n"
     ]
    }
   ],
   "source": [
    "truth_labels, true_edges, per_edge_efficiency, per_edge_purity = edge_perf.eval(edge_index)"
   ]
  },
  {
   "cell_type": "code",
   "execution_count": 44,
   "metadata": {},
   "outputs": [
    {
     "name": "stdout",
     "output_type": "stream",
     "text": [
      "                     0.10    0.50    0.80\n",
      "Accuracy:            0.5795 0.7861 0.8803\n",
      "Precision (purity):  0.0292 0.0513 0.0795\n",
      "Recall (efficiency): 0.9804 0.8926 0.7838\n",
      "AUC: 0.9264\n",
      "Purity at 0.0248 efficiency: 0.9900 with cut 0.0524\n"
     ]
    },
    {
     "data": {
      "text/plain": [
       "(<Figure size 1200x1000 with 4 Axes>,\n",
       " array([<Axes: xlabel='Model output'>,\n",
       "        <Axes: title={'center': 'ROC curve, AUC = 0.9264'}, xlabel='False positive rate', ylabel='True positive rate'>,\n",
       "        <Axes: xlabel='Cut on model score'>,\n",
       "        <Axes: xlabel='Purity', ylabel='Efficiency'>], dtype=object),\n",
       " 0.9263716055843011,\n",
       " 0.9900056271866513,\n",
       " 0.024800692577014716,\n",
       " 0.05240802)"
      ]
     },
     "execution_count": 44,
     "metadata": {},
     "output_type": "execute_result"
    },
    {
     "data": {
      "image/png": "[encoded data removed]",
      "text/plain": [
       "<Figure size 1200x1000 with 4 Axes>"
      ]
     },
     "metadata": {},
     "output_type": "display_data"
    }
   ],
   "source": [
    "edge_perf.eval_edge_scores(filtering_edge_scores, truth_labels, outname=\"perf_filtering_evt{}\".format(0))"
   ]
  },
  {
   "cell_type": "code",
   "execution_count": 50,
   "metadata": {},
   "outputs": [
    {
     "ename": "ValueError",
     "evalue": "Found input variables with inconsistent numbers of samples: [2571692, 275435]",
     "output_type": "error",
     "traceback": [
      "\u001b[0;31m---------------------------------------------------------------------------\u001b[0m",
      "\u001b[0;31mValueError\u001b[0m                                Traceback (most recent call last)",
      "Cell \u001b[0;32mIn[50], line 1\u001b[0m\n\u001b[0;32m----> 1\u001b[0m edge_perf\u001b[39m.\u001b[39;49meval_edge_scores(gnn_output, truth_labels[filtering_selections], \n\u001b[1;32m      2\u001b[0m                            outname\u001b[39m=\u001b[39;49m\u001b[39m\"\u001b[39;49m\u001b[39mperf_filtering_evt\u001b[39;49m\u001b[39m{}\u001b[39;49;00m\u001b[39m\"\u001b[39;49m\u001b[39m.\u001b[39;49mformat(\u001b[39m0\u001b[39;49m))\n",
      "File \u001b[0;32m/pscratch/sd/x/xju/ITk/ForFinalPaper/visual_tracks/notebooks/../acctrack/tools/edge_perf.py:65\u001b[0m, in \u001b[0;36mEdgePerformance.eval_edge_scores\u001b[0;34m(self, edge_score, truth_labels, edge_weights, edge_weight_cuts, outname)\u001b[0m\n\u001b[1;32m     63\u001b[0m edge_score \u001b[39m=\u001b[39m edge_score\u001b[39m.\u001b[39mdetach()\u001b[39m.\u001b[39mcpu()\u001b[39m.\u001b[39mnumpy()\n\u001b[1;32m     64\u001b[0m truth_labels \u001b[39m=\u001b[39m truth_labels\u001b[39m.\u001b[39mdetach()\u001b[39m.\u001b[39mcpu()\u001b[39m.\u001b[39mnumpy()\n\u001b[0;32m---> 65\u001b[0m results \u001b[39m=\u001b[39m plot_metrics(edge_score, truth_labels, outname\u001b[39m=\u001b[39;49moutname)\n\u001b[1;32m     66\u001b[0m \u001b[39mif\u001b[39;00m edge_weights \u001b[39mis\u001b[39;00m \u001b[39mnot\u001b[39;00m \u001b[39mNone\u001b[39;00m:\n\u001b[1;32m     67\u001b[0m     target_score, target_truth \u001b[39m=\u001b[39m edge_score[edge_weights \u001b[39m>\u001b[39m edge_weight_cuts], truth_labels[edge_weights \u001b[39m>\u001b[39m edge_weight_cuts]\n",
      "File \u001b[0;32m/pscratch/sd/x/xju/ITk/ForFinalPaper/visual_tracks/notebooks/../acctrack/viewer/classification.py:20\u001b[0m, in \u001b[0;36mplot_metrics\u001b[0;34m(odd, tdd, odd_th, tdd_th, outname, off_interactive, alternative)\u001b[0m\n\u001b[1;32m     17\u001b[0m     plt\u001b[39m.\u001b[39mioff()\n\u001b[1;32m     19\u001b[0m y_pred, y_true \u001b[39m=\u001b[39m (odd \u001b[39m>\u001b[39m odd_th), (tdd \u001b[39m>\u001b[39m tdd_th)\n\u001b[0;32m---> 20\u001b[0m fpr, tpr, _ \u001b[39m=\u001b[39m sklearn\u001b[39m.\u001b[39;49mmetrics\u001b[39m.\u001b[39;49mroc_curve(y_true, odd)\n\u001b[1;32m     22\u001b[0m \u001b[39mif\u001b[39;00m alternative:\n\u001b[1;32m     23\u001b[0m     results \u001b[39m=\u001b[39m []\n",
      "File \u001b[0;32m~/.conda/envs/gnn4itk/lib/python3.9/site-packages/sklearn/metrics/_ranking.py:992\u001b[0m, in \u001b[0;36mroc_curve\u001b[0;34m(y_true, y_score, pos_label, sample_weight, drop_intermediate)\u001b[0m\n\u001b[1;32m    904\u001b[0m \u001b[39mdef\u001b[39;00m \u001b[39mroc_curve\u001b[39m(\n\u001b[1;32m    905\u001b[0m     y_true, y_score, \u001b[39m*\u001b[39m, pos_label\u001b[39m=\u001b[39m\u001b[39mNone\u001b[39;00m, sample_weight\u001b[39m=\u001b[39m\u001b[39mNone\u001b[39;00m, drop_intermediate\u001b[39m=\u001b[39m\u001b[39mTrue\u001b[39;00m\n\u001b[1;32m    906\u001b[0m ):\n\u001b[1;32m    907\u001b[0m \u001b[39m    \u001b[39m\u001b[39m\"\"\"Compute Receiver operating characteristic (ROC).\u001b[39;00m\n\u001b[1;32m    908\u001b[0m \n\u001b[1;32m    909\u001b[0m \u001b[39m    Note: this implementation is restricted to the binary classification task.\u001b[39;00m\n\u001b[0;32m   (...)\u001b[0m\n\u001b[1;32m    990\u001b[0m \u001b[39m    array([1.8 , 0.8 , 0.4 , 0.35, 0.1 ])\u001b[39;00m\n\u001b[1;32m    991\u001b[0m \u001b[39m    \"\"\"\u001b[39;00m\n\u001b[0;32m--> 992\u001b[0m     fps, tps, thresholds \u001b[39m=\u001b[39m _binary_clf_curve(\n\u001b[1;32m    993\u001b[0m         y_true, y_score, pos_label\u001b[39m=\u001b[39;49mpos_label, sample_weight\u001b[39m=\u001b[39;49msample_weight\n\u001b[1;32m    994\u001b[0m     )\n\u001b[1;32m    996\u001b[0m     \u001b[39m# Attempt to drop thresholds corresponding to points in between and\u001b[39;00m\n\u001b[1;32m    997\u001b[0m     \u001b[39m# collinear with other points. These are always suboptimal and do not\u001b[39;00m\n\u001b[1;32m    998\u001b[0m     \u001b[39m# appear on a plotted ROC curve (and thus do not affect the AUC).\u001b[39;00m\n\u001b[0;32m   (...)\u001b[0m\n\u001b[1;32m   1003\u001b[0m     \u001b[39m# but does not drop more complicated cases like fps = [1, 3, 7],\u001b[39;00m\n\u001b[1;32m   1004\u001b[0m     \u001b[39m# tps = [1, 2, 4]; there is no harm in keeping too many thresholds.\u001b[39;00m\n\u001b[1;32m   1005\u001b[0m     \u001b[39mif\u001b[39;00m drop_intermediate \u001b[39mand\u001b[39;00m \u001b[39mlen\u001b[39m(fps) \u001b[39m>\u001b[39m \u001b[39m2\u001b[39m:\n",
      "File \u001b[0;32m~/.conda/envs/gnn4itk/lib/python3.9/site-packages/sklearn/metrics/_ranking.py:751\u001b[0m, in \u001b[0;36m_binary_clf_curve\u001b[0;34m(y_true, y_score, pos_label, sample_weight)\u001b[0m\n\u001b[1;32m    748\u001b[0m \u001b[39mif\u001b[39;00m \u001b[39mnot\u001b[39;00m (y_type \u001b[39m==\u001b[39m \u001b[39m\"\u001b[39m\u001b[39mbinary\u001b[39m\u001b[39m\"\u001b[39m \u001b[39mor\u001b[39;00m (y_type \u001b[39m==\u001b[39m \u001b[39m\"\u001b[39m\u001b[39mmulticlass\u001b[39m\u001b[39m\"\u001b[39m \u001b[39mand\u001b[39;00m pos_label \u001b[39mis\u001b[39;00m \u001b[39mnot\u001b[39;00m \u001b[39mNone\u001b[39;00m)):\n\u001b[1;32m    749\u001b[0m     \u001b[39mraise\u001b[39;00m \u001b[39mValueError\u001b[39;00m(\u001b[39m\"\u001b[39m\u001b[39m{0}\u001b[39;00m\u001b[39m format is not supported\u001b[39m\u001b[39m\"\u001b[39m\u001b[39m.\u001b[39mformat(y_type))\n\u001b[0;32m--> 751\u001b[0m check_consistent_length(y_true, y_score, sample_weight)\n\u001b[1;32m    752\u001b[0m y_true \u001b[39m=\u001b[39m column_or_1d(y_true)\n\u001b[1;32m    753\u001b[0m y_score \u001b[39m=\u001b[39m column_or_1d(y_score)\n",
      "File \u001b[0;32m~/.conda/envs/gnn4itk/lib/python3.9/site-packages/sklearn/utils/validation.py:397\u001b[0m, in \u001b[0;36mcheck_consistent_length\u001b[0;34m(*arrays)\u001b[0m\n\u001b[1;32m    395\u001b[0m uniques \u001b[39m=\u001b[39m np\u001b[39m.\u001b[39munique(lengths)\n\u001b[1;32m    396\u001b[0m \u001b[39mif\u001b[39;00m \u001b[39mlen\u001b[39m(uniques) \u001b[39m>\u001b[39m \u001b[39m1\u001b[39m:\n\u001b[0;32m--> 397\u001b[0m     \u001b[39mraise\u001b[39;00m \u001b[39mValueError\u001b[39;00m(\n\u001b[1;32m    398\u001b[0m         \u001b[39m\"\u001b[39m\u001b[39mFound input variables with inconsistent numbers of samples: \u001b[39m\u001b[39m%r\u001b[39;00m\u001b[39m\"\u001b[39m\n\u001b[1;32m    399\u001b[0m         \u001b[39m%\u001b[39m [\u001b[39mint\u001b[39m(l) \u001b[39mfor\u001b[39;00m l \u001b[39min\u001b[39;00m lengths]\n\u001b[1;32m    400\u001b[0m     )\n",
      "\u001b[0;31mValueError\u001b[0m: Found input variables with inconsistent numbers of samples: [2571692, 275435]"
     ]
    }
   ],
   "source": [
    "edge_perf.eval_edge_scores(gnn_output, truth_labels[filtering_selections], \n",
    "                           outname=\"perf_filtering_evt{}\".format(0))"
   ]
  },
  {
   "cell_type": "code",
   "execution_count": 42,
   "metadata": {},
   "outputs": [
    {
     "data": {
      "text/plain": [
       "tensor([ 2.9057, -0.6808,  1.4122,  ...,  1.7383, -1.4039,  1.5612],\n",
       "       grad_fn=<DifferentiableGraphBackward>)"
      ]
     },
     "execution_count": 42,
     "metadata": {},
     "output_type": "execute_result"
    }
   ],
   "source": [
    "batch_size = 1024\n",
    "filtering_edge_scores = filtering_model.forward(senders[:batch_size], receivers[:batch_size])\n",
    "filtering_edge_scores"
   ]
  },
  {
   "cell_type": "code",
   "execution_count": 39,
   "metadata": {},
   "outputs": [
    {
     "data": {
      "text/plain": [
       "tensor([ 2.9057, -0.6808,  1.4122,  ...,  1.7383, -1.4039,  1.5612],\n",
       "       grad_fn=<SqueezeBackward1>)"
      ]
     },
     "execution_count": 39,
     "metadata": {},
     "output_type": "execute_result"
    }
   ],
   "source": [
    "filtering_edge_scores"
   ]
  },
  {
   "cell_type": "code",
   "execution_count": 38,
   "metadata": {},
   "outputs": [
    {
     "data": {
      "text/plain": [
       "tensor([ 2.9057, -0.6808,  1.4122,  ...,  1.7383, -1.4039,  1.5612])"
      ]
     },
     "execution_count": 38,
     "metadata": {},
     "output_type": "execute_result"
    }
   ],
   "source": [
    "filtering_edge_scores.detach()"
   ]
  },
  {
   "cell_type": "code",
   "execution_count": 36,
   "metadata": {},
   "outputs": [
    {
     "data": {
      "text/plain": [
       "torch.Size([2048])"
      ]
     },
     "execution_count": 36,
     "metadata": {},
     "output_type": "execute_result"
    }
   ],
   "source": [
    "jj = torch.concat([filtering_edge_scores, filtering_edge_scores], dim=0)\n",
    "jj.shape"
   ]
  },
  {
   "cell_type": "code",
   "execution_count": 37,
   "metadata": {},
   "outputs": [
    {
     "data": {
      "text/plain": [
       "tensor([ 2.9057, -0.6808,  1.4122,  ...,  1.7383, -1.4039,  1.5612],\n",
       "       grad_fn=<CatBackward0>)"
      ]
     },
     "execution_count": 37,
     "metadata": {},
     "output_type": "execute_result"
    }
   ],
   "source": [
    "jj"
   ]
  },
  {
   "cell_type": "code",
   "execution_count": 70,
   "metadata": {},
   "outputs": [
    {
     "data": {
      "text/plain": [
       "(torch.Size([8418480]),\n",
       " torch.Size([2, 8418480]),\n",
       " torch.Size([2, 108249]),\n",
       " torch.Size([108249]),\n",
       " torch.Size([108249]))"
      ]
     },
     "execution_count": 70,
     "metadata": {},
     "output_type": "execute_result"
    }
   ],
   "source": [
    "data.y.shape, data.edge_index.shape, data.track_edges.shape, data.pt.shape, data.nhits.shape"
   ]
  },
  {
   "cell_type": "code",
   "execution_count": 83,
   "metadata": {},
   "outputs": [
    {
     "data": {
      "text/plain": [
       "tensor([109251, 109254, 109256,  ..., 271532, 271533, 273373])"
      ]
     },
     "execution_count": 83,
     "metadata": {},
     "output_type": "execute_result"
    }
   ],
   "source": [
    "data.track_edges[0, data.track_edges[0] > 109249]"
   ]
  },
  {
   "cell_type": "code",
   "execution_count": 91,
   "metadata": {},
   "outputs": [
    {
     "data": {
      "text/plain": [
       "(torch.Size([275435]),\n",
       " torch.Size([108249]),\n",
       " torch.Size([275435]),\n",
       " torch.Size([108249]),\n",
       " torch.Size([108249]))"
      ]
     },
     "execution_count": 91,
     "metadata": {},
     "output_type": "execute_result"
    }
   ],
   "source": [
    "data.phi.shape, data.pt.shape, data.eta_angle_2.shape, data.particle_id.shape, data.pdgId.shape"
   ]
  },
  {
   "cell_type": "code",
   "execution_count": 93,
   "metadata": {},
   "outputs": [
    {
     "data": {
      "text/plain": [
       "torch.Size([108249])"
      ]
     },
     "execution_count": 93,
     "metadata": {},
     "output_type": "execute_result"
    }
   ],
   "source": [
    "data.truth_map.shape"
   ]
  },
  {
   "cell_type": "code",
   "execution_count": 79,
   "metadata": {},
   "outputs": [
    {
     "data": {
      "text/plain": [
       "(tensor(273373), tensor(275432))"
      ]
     },
     "execution_count": 79,
     "metadata": {},
     "output_type": "execute_result"
    }
   ],
   "source": [
    "max(data.track_edges[0]), max(data.track_edges[1])"
   ]
  },
  {
   "cell_type": "code",
   "execution_count": 78,
   "metadata": {},
   "outputs": [
    {
     "data": {
      "text/plain": [
       "tensor([     0,      3,      4,  ..., 271532, 271533, 273373])"
      ]
     },
     "execution_count": 78,
     "metadata": {},
     "output_type": "execute_result"
    }
   ],
   "source": [
    "data.track_edges[0]"
   ]
  },
  {
   "cell_type": "code",
   "execution_count": 71,
   "metadata": {},
   "outputs": [
    {
     "data": {
      "text/plain": [
       "tensor([1., 1., 1.,  ..., 1., 1., 0.], dtype=torch.float64)"
      ]
     },
     "execution_count": 71,
     "metadata": {},
     "output_type": "execute_result"
    }
   ],
   "source": [
    "data.primary"
   ]
  },
  {
   "cell_type": "markdown",
   "metadata": {},
   "source": [
    "## Compare different trained Embedding models"
   ]
  },
  {
   "cell_type": "code",
   "execution_count": 100,
   "metadata": {},
   "outputs": [],
   "source": [
    "version = 'v1'\n",
    "model_files = {\n",
    "    \"v1\": base_path + f\"/TrainedModels/{version}/graph_construction-MetricLearning-v1.pt\",\n",
    "    \"v2\": base_path + f\"/TrainedModels/{version}/graph_construction-MetricLearning-v2.pt\",\n",
    "    \"v3\": base_path + f\"/TrainedModels/{version}/graph_construction-MetricLearning-v3.pt\",\n",
    "    \"v4\": base_path + f\"/TrainedModels/{version}/graph_construction-MetricLearning-v4.pt\",\n",
    "    \"v5\": base_path + f\"/TrainedModels/{version}/graph_construction-MetricLearning-v5.pt\",\n",
    "}"
   ]
  },
  {
   "cell_type": "code",
   "execution_count": 101,
   "metadata": {},
   "outputs": [
    {
     "name": "stdout",
     "output_type": "stream",
     "text": [
      "Training: Total 1 events in directory: /global/homes/x/xju/m3443/usr/xju/ITk/For2023Paper/2023_uncorr_feature_store/trainset\n",
      "Validation: Total 1 events in directory: /global/homes/x/xju/m3443/usr/xju/ITk/For2023Paper/2023_uncorr_feature_store/valset\n",
      "Test: Total 1 events in directory: /global/homes/x/xju/m3443/usr/xju/ITk/For2023Paper/2023_uncorr_feature_store/testset\n",
      "Training: Total 1 events in directory: /global/homes/x/xju/m3443/usr/xju/ITk/For2023Paper/2023_uncorr_feature_store/trainset\n",
      "Validation: Total 1 events in directory: /global/homes/x/xju/m3443/usr/xju/ITk/For2023Paper/2023_uncorr_feature_store/valset\n",
      "Test: Total 1 events in directory: /global/homes/x/xju/m3443/usr/xju/ITk/For2023Paper/2023_uncorr_feature_store/testset\n",
      "Training: Total 1 events in directory: /global/homes/x/xju/m3443/usr/xju/ITk/For2023Paper/2023_uncorr_feature_store/trainset\n",
      "Validation: Total 1 events in directory: /global/homes/x/xju/m3443/usr/xju/ITk/For2023Paper/2023_uncorr_feature_store/valset\n",
      "Test: Total 1 events in directory: /global/homes/x/xju/m3443/usr/xju/ITk/For2023Paper/2023_uncorr_feature_store/testset\n",
      "Training: Total 1 events in directory: /global/homes/x/xju/m3443/usr/xju/ITk/For2023Paper/2023_uncorr_feature_store/trainset\n",
      "Validation: Total 1 events in directory: /global/homes/x/xju/m3443/usr/xju/ITk/For2023Paper/2023_uncorr_feature_store/valset\n",
      "Test: Total 1 events in directory: /global/homes/x/xju/m3443/usr/xju/ITk/For2023Paper/2023_uncorr_feature_store/testset\n",
      "Training: Total 1 events in directory: /global/homes/x/xju/m3443/usr/xju/ITk/For2023Paper/2023_uncorr_feature_store/trainset\n",
      "Validation: Total 1 events in directory: /global/homes/x/xju/m3443/usr/xju/ITk/For2023Paper/2023_uncorr_feature_store/valset\n",
      "Test: Total 1 events in directory: /global/homes/x/xju/m3443/usr/xju/ITk/For2023Paper/2023_uncorr_feature_store/testset\n"
     ]
    }
   ],
   "source": [
    "\n",
    "models = { k: TorchModelInference(config_file, \"trainset\", v, \".\", name=k) for k, v in model_files.items() }"
   ]
  },
  {
   "cell_type": "code",
   "execution_count": 103,
   "metadata": {},
   "outputs": [
    {
     "name": "stdout",
     "output_type": "stream",
     "text": [
      "Reading file: /global/homes/x/xju/m3443/usr/xju/ITk/For2023Paper/2023_uncorr_feature_store/trainset/event000001693-graph.pyg\n",
      "True Reco Edges 163,492, True Edges 216,498, Per-edge efficiency: 75.517%\n",
      "True Edges 216,498, Reco Edges 12,688,452, Per-edge purity: 1.706%\n",
      "Only 12.141452% of true edges are of interests (signal)\n",
      "True Reco Signal Edges 26,194, True Signal Edges 26,286, Per-edge signal efficiency: 99.650%\n",
      "Reading file: /global/homes/x/xju/m3443/usr/xju/ITk/For2023Paper/2023_uncorr_feature_store/trainset/event000001693-graph.pyg\n",
      "True Reco Edges 184,712, True Edges 216,498, Per-edge efficiency: 85.318%\n",
      "True Edges 216,498, Reco Edges 29,230,107, Per-edge purity: 0.741%\n",
      "Only 12.141452% of true edges are of interests (signal)\n",
      "True Reco Signal Edges 26,068, True Signal Edges 26,286, Per-edge signal efficiency: 99.171%\n",
      "Reading file: /global/homes/x/xju/m3443/usr/xju/ITk/For2023Paper/2023_uncorr_feature_store/trainset/event000001693-graph.pyg\n",
      "True Reco Edges 174,589, True Edges 216,498, Per-edge efficiency: 80.642%\n",
      "True Edges 216,498, Reco Edges 119,025,865, Per-edge purity: 0.182%\n",
      "Only 12.141452% of true edges are of interests (signal)\n",
      "True Reco Signal Edges 22,318, True Signal Edges 26,286, Per-edge signal efficiency: 84.905%\n",
      "Reading file: /global/homes/x/xju/m3443/usr/xju/ITk/For2023Paper/2023_uncorr_feature_store/trainset/event000001693-graph.pyg\n",
      "True Reco Edges 183,420, True Edges 216,498, Per-edge efficiency: 84.721%\n",
      "True Edges 216,498, Reco Edges 23,188,054, Per-edge purity: 0.934%\n",
      "Only 12.141452% of true edges are of interests (signal)\n",
      "True Reco Signal Edges 26,072, True Signal Edges 26,286, Per-edge signal efficiency: 99.186%\n",
      "Reading file: /global/homes/x/xju/m3443/usr/xju/ITk/For2023Paper/2023_uncorr_feature_store/trainset/event000001693-graph.pyg\n",
      "True Reco Edges 180,240, True Edges 216,498, Per-edge efficiency: 83.253%\n",
      "True Edges 216,498, Reco Edges 16,832,696, Per-edge purity: 1.286%\n",
      "Only 12.141452% of true edges are of interests (signal)\n",
      "True Reco Signal Edges 26,072, True Signal Edges 26,286, Per-edge signal efficiency: 99.186%\n"
     ]
    }
   ],
   "source": [
    "\n",
    "results = { k: m.inference(0, knn_backend=\"FRNN\") for k,m in models.items() }"
   ]
  },
  {
   "cell_type": "markdown",
   "metadata": {},
   "source": [
    "### How about validation dataset?"
   ]
  },
  {
   "cell_type": "code",
   "execution_count": 104,
   "metadata": {},
   "outputs": [
    {
     "name": "stdout",
     "output_type": "stream",
     "text": [
      "Loading model from /global/homes/x/xju/m3443/usr/xju/ITk/For2023Paper//TrainedModels/v1/graph_construction-MetricLearning-v1.pt\n",
      "valset: Total 1 events in directory: /global/homes/x/xju/m3443/usr/xju/ITk/For2023Paper/2023_uncorr_feature_store/valset\n",
      "Loading model from /global/homes/x/xju/m3443/usr/xju/ITk/For2023Paper//TrainedModels/v1/graph_construction-MetricLearning-v2.pt\n",
      "valset: Total 1 events in directory: /global/homes/x/xju/m3443/usr/xju/ITk/For2023Paper/2023_uncorr_feature_store/valset\n",
      "Loading model from /global/homes/x/xju/m3443/usr/xju/ITk/For2023Paper//TrainedModels/v1/graph_construction-MetricLearning-v3.pt\n",
      "valset: Total 1 events in directory: /global/homes/x/xju/m3443/usr/xju/ITk/For2023Paper/2023_uncorr_feature_store/valset\n",
      "Loading model from /global/homes/x/xju/m3443/usr/xju/ITk/For2023Paper//TrainedModels/v1/graph_construction-MetricLearning-v4.pt\n",
      "valset: Total 1 events in directory: /global/homes/x/xju/m3443/usr/xju/ITk/For2023Paper/2023_uncorr_feature_store/valset\n",
      "Loading model from /global/homes/x/xju/m3443/usr/xju/ITk/For2023Paper//TrainedModels/v1/graph_construction-MetricLearning-v5.pt\n",
      "valset: Total 1 events in directory: /global/homes/x/xju/m3443/usr/xju/ITk/For2023Paper/2023_uncorr_feature_store/valset\n",
      "Reading file: /global/homes/x/xju/m3443/usr/xju/ITk/For2023Paper/2023_uncorr_feature_store/valset/event000008899-graph.pyg\n",
      "True Reco Edges 179,952, True Edges 237,602, Per-edge efficiency: 75.737%\n",
      "True Edges 237,602, Reco Edges 16,495,470, Per-edge purity: 1.440%\n",
      "Only 13.104267% of true edges are of interests (signal)\n",
      "True Reco Signal Edges 31,010, True Signal Edges 31,136, Per-edge signal efficiency: 99.595%\n",
      "Reading file: /global/homes/x/xju/m3443/usr/xju/ITk/For2023Paper/2023_uncorr_feature_store/valset/event000008899-graph.pyg\n",
      "True Reco Edges 202,750, True Edges 237,602, Per-edge efficiency: 85.332%\n",
      "True Edges 237,602, Reco Edges 37,291,788, Per-edge purity: 0.637%\n",
      "Only 13.104267% of true edges are of interests (signal)\n",
      "True Reco Signal Edges 30,860, True Signal Edges 31,136, Per-edge signal efficiency: 99.114%\n",
      "Reading file: /global/homes/x/xju/m3443/usr/xju/ITk/For2023Paper/2023_uncorr_feature_store/valset/event000008899-graph.pyg\n",
      "True Reco Edges 189,150, True Edges 237,602, Per-edge efficiency: 79.608%\n",
      "True Edges 237,602, Reco Edges 141,466,071, Per-edge purity: 0.168%\n",
      "Only 13.104267% of true edges are of interests (signal)\n",
      "True Reco Signal Edges 26,063, True Signal Edges 31,136, Per-edge signal efficiency: 83.707%\n",
      "Reading file: /global/homes/x/xju/m3443/usr/xju/ITk/For2023Paper/2023_uncorr_feature_store/valset/event000008899-graph.pyg\n",
      "True Reco Edges 201,446, True Edges 237,602, Per-edge efficiency: 84.783%\n",
      "True Edges 237,602, Reco Edges 29,400,570, Per-edge purity: 0.808%\n",
      "Only 13.104267% of true edges are of interests (signal)\n",
      "True Reco Signal Edges 30,922, True Signal Edges 31,136, Per-edge signal efficiency: 99.313%\n",
      "Reading file: /global/homes/x/xju/m3443/usr/xju/ITk/For2023Paper/2023_uncorr_feature_store/valset/event000008899-graph.pyg\n",
      "True Reco Edges 198,264, True Edges 237,602, Per-edge efficiency: 83.444%\n",
      "True Edges 237,602, Reco Edges 21,419,900, Per-edge purity: 1.109%\n",
      "Only 13.104267% of true edges are of interests (signal)\n",
      "True Reco Signal Edges 30,892, True Signal Edges 31,136, Per-edge signal efficiency: 99.216%\n"
     ]
    }
   ],
   "source": [
    "\n",
    "models = { k: TorchModelInference(config_file, \"valset\", v, \".\", name=k) for k, v in model_files.items() }\n",
    "results = { k: m.inference(0, knn_backend=\"FRNN\") for k,m in models.items() }"
   ]
  },
  {
   "cell_type": "markdown",
   "metadata": {},
   "source": [
    "## Verify graph intersections"
   ]
  },
  {
   "cell_type": "code",
   "execution_count": 19,
   "metadata": {},
   "outputs": [],
   "source": [
    "edge_index = torch.tensor([[1, 3], [2, 3], [2, 4], [3, 4], [1, 4], [3, 1]], dtype=torch.long).T\n",
    "true_edges = torch.tensor([[1, 2], [2, 3], [3, 1]], dtype=torch.long).T"
   ]
  },
  {
   "cell_type": "code",
   "execution_count": 20,
   "metadata": {},
   "outputs": [
    {
     "data": {
      "text/plain": [
       "torch.Size([2, 6])"
      ]
     },
     "execution_count": 20,
     "metadata": {},
     "output_type": "execute_result"
    }
   ],
   "source": [
    "edge_index.shape"
   ]
  },
  {
   "cell_type": "code",
   "execution_count": 21,
   "metadata": {},
   "outputs": [],
   "source": [
    "unique_edges, inverse = torch.unique(torch.cat([edge_index, true_edges], dim=1), dim=1, sorted=False, return_inverse=True, return_counts=False)\n"
   ]
  },
  {
   "cell_type": "code",
   "execution_count": 23,
   "metadata": {},
   "outputs": [
    {
     "data": {
      "text/plain": [
       "(tensor([[1, 1, 1, 2, 2, 3, 3],\n",
       "         [2, 3, 4, 3, 4, 1, 4]]),\n",
       " tensor([1, 3, 4, 6, 2, 5, 0, 3, 5]))"
      ]
     },
     "execution_count": 23,
     "metadata": {},
     "output_type": "execute_result"
    }
   ],
   "source": [
    "unique_edges, inverse"
   ]
  },
  {
   "cell_type": "code",
   "execution_count": 24,
   "metadata": {},
   "outputs": [
    {
     "data": {
      "text/plain": [
       "tensor([-1, -1, -1, -1, -1, -1, -1])"
      ]
     },
     "execution_count": 24,
     "metadata": {},
     "output_type": "execute_result"
    }
   ],
   "source": [
    "inverse_pred_map = torch.ones_like(unique_edges[1]) * -1\n",
    "inverse_pred_map"
   ]
  },
  {
   "cell_type": "code",
   "execution_count": 25,
   "metadata": {},
   "outputs": [],
   "source": [
    "inverse_pred_map[inverse[:edge_index.shape[1]]] = torch.arange(edge_index.shape[1])"
   ]
  },
  {
   "cell_type": "code",
   "execution_count": 26,
   "metadata": {},
   "outputs": [
    {
     "data": {
      "text/plain": [
       "tensor([-1,  0,  4,  1,  2,  5,  3])"
      ]
     },
     "execution_count": 26,
     "metadata": {},
     "output_type": "execute_result"
    }
   ],
   "source": [
    "inverse_pred_map"
   ]
  },
  {
   "cell_type": "code",
   "execution_count": 27,
   "metadata": {},
   "outputs": [],
   "source": [
    "inverse_truth_map = torch.ones_like(unique_edges[1]) * -1\n",
    "inverse_truth_map[inverse[edge_index.shape[1]:]] = torch.arange(true_edges.shape[1])"
   ]
  },
  {
   "cell_type": "code",
   "execution_count": 28,
   "metadata": {},
   "outputs": [
    {
     "data": {
      "text/plain": [
       "tensor([ 0, -1, -1,  1, -1,  2, -1])"
      ]
     },
     "execution_count": 28,
     "metadata": {},
     "output_type": "execute_result"
    }
   ],
   "source": [
    "inverse_truth_map"
   ]
  },
  {
   "cell_type": "code",
   "execution_count": 34,
   "metadata": {},
   "outputs": [
    {
     "data": {
      "text/plain": [
       "tensor([-1,  1, -1, -1, -1,  2,  0,  1,  2])"
      ]
     },
     "execution_count": 34,
     "metadata": {},
     "output_type": "execute_result"
    }
   ],
   "source": [
    "inverse_truth_map[inverse]"
   ]
  },
  {
   "cell_type": "code",
   "execution_count": 35,
   "metadata": {},
   "outputs": [
    {
     "name": "stderr",
     "output_type": "stream",
     "text": [
      "WARNING:root:FRNN is available\n",
      "WARNING:root:FAISS is available\n"
     ]
    }
   ],
   "source": [
    "pred_to_truth = inverse_truth_map[inverse[:edge_index.shape[1]]]\n",
    "truth_to_pred = inverse_pred_map[inverse][edge_index.shape[1]:]"
   ]
  },
  {
   "cell_type": "code",
   "execution_count": 32,
   "metadata": {},
   "outputs": [
    {
     "name": "stderr",
     "output_type": "stream",
     "text": [
      "WARNING:root:FRNN is available\n",
      "WARNING:root:FAISS is available\n"
     ]
    },
    {
     "data": {
      "text/plain": [
       "(torch.Size([9]), torch.Size([7]))"
      ]
     },
     "execution_count": 32,
     "metadata": {},
     "output_type": "execute_result"
    }
   ],
   "source": [
    "inverse.shape, inverse_truth_map.shape"
   ]
  },
  {
   "cell_type": "code",
   "execution_count": 33,
   "metadata": {},
   "outputs": [
    {
     "data": {
      "text/plain": [
       "tensor([-1,  1, -1, -1, -1,  2])"
      ]
     },
     "execution_count": 33,
     "metadata": {},
     "output_type": "execute_result"
    }
   ],
   "source": [
    "pred_to_truth"
   ]
  },
  {
   "cell_type": "code",
   "execution_count": 36,
   "metadata": {},
   "outputs": [
    {
     "data": {
      "text/plain": [
       "tensor([-1,  1, -1, -1, -1,  2])"
      ]
     },
     "execution_count": 36,
     "metadata": {},
     "output_type": "execute_result"
    }
   ],
   "source": [
    "pred_to_truth"
   ]
  },
  {
   "cell_type": "code",
   "execution_count": 31,
   "metadata": {},
   "outputs": [
    {
     "data": {
      "text/plain": [
       "tensor([-1,  1,  5])"
      ]
     },
     "execution_count": 31,
     "metadata": {},
     "output_type": "execute_result"
    }
   ],
   "source": [
    "truth_to_pred"
   ]
  },
  {
   "cell_type": "code",
   "execution_count": null,
   "metadata": {},
   "outputs": [],
   "source": []
  }
 ],
 "metadata": {
  "kernelspec": {
   "display_name": "torch",
   "language": "python",
   "name": "python3"
  },
  "language_info": {
   "codemirror_mode": {
    "name": "ipython",
    "version": 3
   },
   "file_extension": ".py",
   "mimetype": "text/x-python",
   "name": "python",
   "nbconvert_exporter": "python",
   "pygments_lexer": "ipython3",
   "version": "3.9.16"
  },
  "orig_nbformat": 4
 },
 "nbformat": 4,
 "nbformat_minor": 2
}
