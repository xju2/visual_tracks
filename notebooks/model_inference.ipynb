{
 "cells": [
  {
   "cell_type": "code",
   "execution_count": 1,
   "metadata": {},
   "outputs": [],
   "source": [
    "%load_ext autoreload\n",
    "%autoreload 2\n",
    "import sys\n",
    "sys.path.append('../')"
   ]
  },
  {
   "cell_type": "code",
   "execution_count": 23,
   "metadata": {},
   "outputs": [],
   "source": [
    "import torch\n",
    "from acctrack.tools.model_inference import ModelLoader, TorchModelInference\n",
    "from acctrack.io.pyg_data_reader import TrackGraphDataReader\n",
    "from acctrack.tools.utils_graph import build_edges\n",
    "import faiss\n",
    "from pathlib import Path\n",
    "from acctrack.viewer.classification import plot_metrics\n",
    "import numpy as np"
   ]
  },
  {
   "cell_type": "markdown",
   "metadata": {},
   "source": [
    "## General Configurations"
   ]
  },
  {
   "cell_type": "code",
   "execution_count": 3,
   "metadata": {},
   "outputs": [],
   "source": [
    "base_path = \"/global/homes/x/xju/m3443/usr/xju/ITk/For2023Paper/\"\n",
    "model_path = base_path + \"/TrainedModels/v2/graph_construction-MetricLearning-v1.pt\"\n",
    "embedding_model_path = base_path + \"/TrainedModels/v1/graph_construction-MetricLearning-v1.pt\"\n",
    "filtering_model_path = base_path + \"/TrainedModels/v1/edge_classifier-PermutationInvariantFilter-v1.pt\"\n",
    "data_path = base_path + \"/2023_uncorr_feature_store\"\n",
    "data_type = \"trainset\"\n",
    "\n",
    "r_max, k_max = 0.1, 1000\n",
    "knn_backend = \"FAISS-CPU-Flatl2\"\n",
    "config_file = \"metric_learning-nonoise.yaml\"\n",
    "embedding_file_name = \"embedding.pt\""
   ]
  },
  {
   "cell_type": "markdown",
   "metadata": {},
   "source": [
    "## Compare Embedding"
   ]
  },
  {
   "cell_type": "code",
   "execution_count": 110,
   "metadata": {},
   "outputs": [
    {
     "name": "stdout",
     "output_type": "stream",
     "text": [
      "Loading model from /global/homes/x/xju/m3443/usr/xju/ITk/For2023Paper//TrainedModels/v2/graph_construction-MetricLearning-v1.pt\n",
      "trainset: Total 1 events in directory: /global/homes/x/xju/m3443/usr/xju/ITk/For2023Paper/2023_uncorr_feature_store/trainset\n",
      "Reading file: /global/homes/x/xju/m3443/usr/xju/ITk/For2023Paper/2023_uncorr_feature_store/trainset/event000001693-graph.pyg\n",
      "True Reco Edges 182,310, True Edges 216,498, Per-edge efficiency: 84.209%\n",
      "True Edges 216,498, Reco Edges 13,920,808, Per-edge purity: 1.555%\n",
      "Only 12.141% of true edges are of interests (signal)\n",
      "True Reco Signal Edges 26,028, True Signal Edges 26,286, Per-edge signal efficiency: 99.018%\n"
     ]
    }
   ],
   "source": [
    "model_path = base_path + \"/TrainedModels/v2/graph_construction-MetricLearning-v1.pt\"\n",
    "model_inference = TorchModelInference(config_file, data_type, model_path, \".\", name=\"v2\")\n",
    "results = model_inference.inference(0, knn_backend=\"FRNN\")"
   ]
  },
  {
   "cell_type": "code",
   "execution_count": 111,
   "metadata": {},
   "outputs": [
    {
     "name": "stdout",
     "output_type": "stream",
     "text": [
      "Loading model from /global/homes/x/xju/m3443/usr/xju/ITk/For2023Paper//TrainedModels/v2/graph_construction-MetricLearning-v1.pt\n",
      "trainset: Total 1 events in directory: /global/homes/x/xju/m3443/usr/xju/ITk/For2023Paper/2023_uncorr_feature_store/trainset\n",
      "Reading file: /global/homes/x/xju/m3443/usr/xju/ITk/For2023Paper/2023_uncorr_feature_store/trainset/event000001693-graph.pyg\n",
      "True Reco Edges 180,830, True Edges 216,498, Per-edge efficiency: 83.525%\n",
      "True Edges 216,498, Reco Edges 12,179,298, Per-edge purity: 1.778%\n",
      "Only 12.141% of true edges are of interests (signal)\n",
      "True Reco Signal Edges 26,010, True Signal Edges 26,286, Per-edge signal efficiency: 98.950%\n"
     ]
    }
   ],
   "source": [
    "model_path = base_path + \"/TrainedModels/v2/graph_construction-MetricLearning-v1.pt\"\n",
    "model_inference = TorchModelInference(config_file, data_type, model_path, \".\", name=\"v2\")\n",
    "results = model_inference.inference(0, knn_backend=\"FRNN\")"
   ]
  },
  {
   "cell_type": "code",
   "execution_count": 109,
   "metadata": {},
   "outputs": [
    {
     "name": "stdout",
     "output_type": "stream",
     "text": [
      "Loading model from /global/homes/x/xju/m3443/usr/xju/ITk/For2023Paper//TrainedModels/v2/graph_construction-MetricLearning-v1.pt\n",
      "valset: Total 1 events in directory: /global/homes/x/xju/m3443/usr/xju/ITk/For2023Paper/2023_uncorr_feature_store/valset\n",
      "Reading file: /global/homes/x/xju/m3443/usr/xju/ITk/For2023Paper/2023_uncorr_feature_store/valset/event000008899-graph.pyg\n",
      "True Reco Edges 199,642, True Edges 237,602, Per-edge efficiency: 84.024%\n",
      "True Edges 237,602, Reco Edges 17,408,606, Per-edge purity: 1.365%\n",
      "Only 13.104267% of true edges are of interests (signal)\n",
      "True Reco Signal Edges 30,738, True Signal Edges 31,136, Per-edge signal efficiency: 98.722%\n"
     ]
    }
   ],
   "source": [
    "model_path = base_path + \"/TrainedModels/v2/graph_construction-MetricLearning-v1.pt\"\n",
    "model_inference = TorchModelInference(config_file, \"valset\", model_path, \".\", name=\"v2\")\n",
    "results = model_inference.inference(0, knn_backend=\"FRNN\")"
   ]
  },
  {
   "cell_type": "code",
   "execution_count": 56,
   "metadata": {},
   "outputs": [
    {
     "name": "stdout",
     "output_type": "stream",
     "text": [
      "['norm_y_2', 'particle_id', 'charge_count_2', 'radius', 'event_id', 'charge_count_1', 'eta_angle_1', 'redundant_split_edges', 'glob_eta_2', 'phi', 'localDir2_2', 'localDir2_1', 'eta', 'count_2', 'region', 'localDir0_1', 'y', 'lengthDir1_2', 'norm_x_1', 'pdgId', 'hit_id', 'nhits', 'x', 'glob_eta_1', 'cluster_z_1', 'r', 'lengthDir2_1', 'count_1', 'lengthDir0_2', 'norm_z_1', 'z', 'cluster_x_2', 'pt', 'track_edges', 'loc_phi_1', 'cluster_y_1', 'norm_y_1', 'localDir1_1', 'lengthDir0_1', 'eta_angle_2', 'cluster_z_2', 'lengthDir1_1', 'glob_phi_2', 'norm_z_2', 'norm_x_2', 'lengthDir2_2', 'primary', 'config', 'phi_angle_2', 'localDir0_2', 'phi_angle_1', 'cluster_y_2', 'loc_phi_2', 'cluster_x_1', 'localDir1_2', 'loc_eta_1', 'loc_eta_2', 'glob_phi_1']\n"
     ]
    }
   ],
   "source": [
    "print(model_inference.data_reader_training.data.keys)"
   ]
  },
  {
   "cell_type": "code",
   "execution_count": 60,
   "metadata": {},
   "outputs": [
    {
     "data": {
      "text/plain": [
       "tensor([   7.8250,   -1.4750,   -7.8250,  ..., -106.8120, -145.1290,\n",
       "        -138.7780], dtype=torch.float64)"
      ]
     },
     "execution_count": 60,
     "metadata": {},
     "output_type": "execute_result"
    }
   ],
   "source": [
    "model_inference.data_reader_training.data['y']"
   ]
  },
  {
   "cell_type": "code",
   "execution_count": 97,
   "metadata": {},
   "outputs": [
    {
     "name": "stdout",
     "output_type": "stream",
     "text": [
      "Training: Total 1 events in directory: /global/homes/x/xju/m3443/usr/xju/ITk/For2023Paper/2023_uncorr_feature_store/trainset\n",
      "Validation: Total 1 events in directory: /global/homes/x/xju/m3443/usr/xju/ITk/For2023Paper/2023_uncorr_feature_store/valset\n",
      "Test: Total 1 events in directory: /global/homes/x/xju/m3443/usr/xju/ITk/For2023Paper/2023_uncorr_feature_store/testset\n",
      "Reading file: /global/homes/x/xju/m3443/usr/xju/ITk/For2023Paper/2023_uncorr_feature_store/trainset/event000001693-graph.pyg\n",
      "True Reco Edges 181,084, True Edges 216,498, Per-edge efficiency: 83.642%\n",
      "True Edges 216,498, Reco Edges 99,972,562, Per-edge purity: 0.217%\n",
      "Only 12.141452% of true edges are of interests (signal)\n",
      "True Reco Signal Edges 23,951, True Signal Edges 26,286, Per-edge signal efficiency: 91.117%\n"
     ]
    }
   ],
   "source": [
    "model_path = base_path + \"/TrainedModels/v1/graph_construction-MetricLearning-v5-pl.pt\"\n",
    "model_inference = TorchModelInference(config_file, model_path, \".\", name=\"v5-pl\")\n",
    "res_v5_pl = model_inference.inference(0, knn_backend=\"FRNN\")"
   ]
  },
  {
   "cell_type": "markdown",
   "metadata": {},
   "source": [
    "## Explore Data"
   ]
  },
  {
   "cell_type": "code",
   "execution_count": 4,
   "metadata": {},
   "outputs": [
    {
     "name": "stdout",
     "output_type": "stream",
     "text": [
      "Embedding: Total 1 events in directory: /global/homes/x/xju/m3443/usr/xju/ITk/For2023Paper/metric_learning_testing/trainset\n",
      "Reading file: /global/homes/x/xju/m3443/usr/xju/ITk/For2023Paper/metric_learning_testing/trainset/event000001693.pyg\n"
     ]
    }
   ],
   "source": [
    "data_path = base_path + \"/metric_learning_testing/trainset\"\n",
    "reader = TrackGraphDataReader(data_path, name=\"Embedding\")\n",
    "data = reader.read(0)"
   ]
  },
  {
   "cell_type": "code",
   "execution_count": 18,
   "metadata": {},
   "outputs": [
    {
     "data": {
      "text/plain": [
       "DataBatch(lengthDir1_1=[275435], localDir1_2=[275435], x=[275435], cluster_z_2=[275435], norm_z_1=[275435], lengthDir2_1=[275435], loc_phi_2=[275435], loc_eta_1=[275435], eta_angle_2=[275435], count_2=[275435], glob_phi_1=[275435], r=[275435], cluster_y_1=[275435], localDir1_1=[275435], norm_y_2=[275435], norm_x_2=[275435], localDir2_2=[275435], charge_count_2=[275435], hit_id=[275435], count_1=[275435], loc_eta_2=[275435], lengthDir0_2=[275435], cluster_x_2=[275435], lengthDir0_1=[275435], phi_angle_2=[275435], lengthDir1_2=[275435], glob_eta_2=[275435], phi=[275435], glob_eta_1=[275435], loc_phi_1=[275435], eta_angle_1=[275435], cluster_x_1=[275435], y=[8418480], localDir0_2=[275435], eta=[275435], norm_z_2=[275435], phi_angle_1=[275435], lengthDir2_2=[275435], cluster_z_1=[275435], cluster_y_2=[275435], norm_y_1=[275435], localDir0_1=[275435], region=[275435], localDir2_1=[275435], glob_phi_2=[275435], norm_x_1=[275435], charge_count_1=[275435], z=[275435], track_edges=[2, 108249], pt=[108249], particle_id=[108249], redundant_split_edges=[108249], primary=[108249], radius=[108249], nhits=[108249], pdgId=[108249], config=[2], event_id=[1], batch=[275435], ptr=[2], edge_index=[2, 8418480], truth_map=[108249])"
      ]
     },
     "execution_count": 18,
     "metadata": {},
     "output_type": "execute_result"
    }
   ],
   "source": [
    "data"
   ]
  },
  {
   "cell_type": "code",
   "execution_count": 17,
   "metadata": {},
   "outputs": [
    {
     "data": {
      "text/plain": [
       "(torch.Size([108249]), torch.Size([108249]), torch.Size([275435]))"
      ]
     },
     "execution_count": 17,
     "metadata": {},
     "output_type": "execute_result"
    }
   ],
   "source": [
    "data.particle_id.shape, data.truth_map.shape, data.x.shape, "
   ]
  },
  {
   "cell_type": "code",
   "execution_count": 12,
   "metadata": {},
   "outputs": [],
   "source": [
    "pidx = data.particle_id == 515\n",
    "hits = data.truth_map[pidx]"
   ]
  },
  {
   "cell_type": "code",
   "execution_count": 26,
   "metadata": {},
   "outputs": [
    {
     "data": {
      "text/plain": [
       "(275435,)"
      ]
     },
     "execution_count": 26,
     "metadata": {},
     "output_type": "execute_result"
    }
   ],
   "source": [
    "hit_idx = np.isin(data.hit_id.cpu().numpy(), hits)\n",
    "hit_idx.shape"
   ]
  },
  {
   "cell_type": "code",
   "execution_count": 29,
   "metadata": {},
   "outputs": [
    {
     "data": {
      "text/plain": [
       "tensor([     0,      1,      2,  ..., 275432, 275433, 275434])"
      ]
     },
     "execution_count": 29,
     "metadata": {},
     "output_type": "execute_result"
    }
   ],
   "source": [
    "data.hit_id"
   ]
  },
  {
   "cell_type": "code",
   "execution_count": 11,
   "metadata": {},
   "outputs": [
    {
     "data": {
      "text/plain": [
       "tensor([512, 515, 540, 543, 566, 579, 581, 582, 583, 587])"
      ]
     },
     "execution_count": 11,
     "metadata": {},
     "output_type": "execute_result"
    }
   ],
   "source": [
    "data.particle_id.unique()[0:10]"
   ]
  },
  {
   "cell_type": "code",
   "execution_count": 31,
   "metadata": {},
   "outputs": [
    {
     "name": "stdout",
     "output_type": "stream",
     "text": [
      "['to', 'president', 'the', 'federal', 'with', 'certification', '6th', 'proceeding”', 'charges—brought', 'and', 'Mr', 'by', 'Trump', 'America,', 'was', 'his', 'deprive', 'vote', '(the', 'independent', 'have', 'of', 'overturn', 'charged', 'their', 'obstruct', 'attack', 'counts', 'defraud', 'Smith,', 'related', 'dismissed', 'Jack', 'to', 'Trump', 'The', '“official', 'the', 'charges', 'efforts', 'election', 'Indictment', 'Donald', 'Fake', 'on', 'to', 'vote', 'an', 'counsel—accuse', 'and', 'a', 'counted.', '2020', 'four', 'and', 'presidential', 'the', 'their', 'right', 'the', 'vote)', 'of', 'the', 'the', 'people', 'as', 'January', 'an', 'of', 'to', 'former', 'conspiring', 'Capitol.', 'special', 'to', 'to']\n"
     ]
    }
   ],
   "source": [
    "sentences = 'Donald Trump was charged with four federal counts related to his efforts to overturn the 2020 presidential election and the January 6th attack on the Capitol. The charges—brought by Jack Smith, an independent special counsel—accuse the former president of conspiring to defraud America, to obstruct an “official proceeding” (the certification of the vote) and to deprive people of their right to vote and have their vote counted. Mr Trump dismissed the charges as a Fake Indictment'\n",
    "words = sentences.split()\n",
    "import random\n",
    "random_words = random.shuffle(words)\n",
    "print(words)"
   ]
  },
  {
   "cell_type": "markdown",
   "metadata": {},
   "source": [
    "## Inference Pipeline"
   ]
  },
  {
   "cell_type": "code",
   "execution_count": 20,
   "metadata": {},
   "outputs": [
    {
     "name": "stdout",
     "output_type": "stream",
     "text": [
      "Embedding: Total 1 events in directory: /global/homes/x/xju/m3443/usr/xju/ITk/For2023Paper/metric_learning_testing/trainset\n",
      "Reading file: /global/homes/x/xju/m3443/usr/xju/ITk/For2023Paper/metric_learning_testing/trainset/event000001693.pyg\n"
     ]
    }
   ],
   "source": [
    "data_path = base_path + \"/metric_learning_testing/trainset\"\n",
    "reader = TrackGraphDataReader(data_path, name=\"Embedding\")\n",
    "data = reader.read(0)"
   ]
  },
  {
   "cell_type": "code",
   "execution_count": 21,
   "metadata": {},
   "outputs": [],
   "source": [
    "import yaml\n",
    "with open(config_file, \"r\") as f:\n",
    "    config = yaml.load(f, Loader=yaml.FullLoader)"
   ]
  },
  {
   "cell_type": "code",
   "execution_count": 22,
   "metadata": {},
   "outputs": [],
   "source": []
  },
  {
   "cell_type": "code",
   "execution_count": 10,
   "metadata": {},
   "outputs": [],
   "source": [
    "import torch"
   ]
  },
  {
   "cell_type": "code",
   "execution_count": 24,
   "metadata": {},
   "outputs": [],
   "source": [
    "econfig = config[\"embedding\"]\n",
    "node_features = econfig[\"node_features\"]\n",
    "node_scales = econfig[\"node_scales\"]\n",
    "\n",
    "features = reader.get_node_features(node_features, node_scales)"
   ]
  },
  {
   "cell_type": "code",
   "execution_count": 25,
   "metadata": {},
   "outputs": [
    {
     "data": {
      "text/plain": [
       "RecursiveScriptModule(\n",
       "  original_name=MetricLearning\n",
       "  (network): RecursiveScriptModule(\n",
       "    original_name=Sequential\n",
       "    (0): RecursiveScriptModule(original_name=Linear)\n",
       "    (1): RecursiveScriptModule(original_name=LayerNorm)\n",
       "    (2): RecursiveScriptModule(original_name=ReLU)\n",
       "    (3): RecursiveScriptModule(original_name=Linear)\n",
       "    (4): RecursiveScriptModule(original_name=LayerNorm)\n",
       "    (5): RecursiveScriptModule(original_name=ReLU)\n",
       "    (6): RecursiveScriptModule(original_name=Linear)\n",
       "    (7): RecursiveScriptModule(original_name=LayerNorm)\n",
       "    (8): RecursiveScriptModule(original_name=ReLU)\n",
       "    (9): RecursiveScriptModule(original_name=Linear)\n",
       "    (10): RecursiveScriptModule(original_name=LayerNorm)\n",
       "    (11): RecursiveScriptModule(original_name=ReLU)\n",
       "    (12): RecursiveScriptModule(original_name=Linear)\n",
       "  )\n",
       ")"
      ]
     },
     "execution_count": 25,
     "metadata": {},
     "output_type": "execute_result"
    }
   ],
   "source": [
    "embedding_model_path = config['embedding'][\"model_path\"]\n",
    "embedding = torch.jit.load(embedding_model_path)\n",
    "embedding.eval()"
   ]
  },
  {
   "cell_type": "code",
   "execution_count": 27,
   "metadata": {},
   "outputs": [],
   "source": [
    "embedding.hprams = config['embedding']"
   ]
  },
  {
   "cell_type": "code",
   "execution_count": 16,
   "metadata": {},
   "outputs": [
    {
     "data": {
      "text/plain": [
       "{'model_path': '/global/homes/x/xju/m3443/usr/xju/ITk/For2023Paper/TrainedModels/v1/graph_construction-MetricLearning-v1.pt',\n",
       " 'node_features': ['r',\n",
       "  'phi',\n",
       "  'z',\n",
       "  'count_1',\n",
       "  'charge_count_1',\n",
       "  'loc_eta_1',\n",
       "  'loc_phi_1',\n",
       "  'localDir0_1',\n",
       "  'localDir1_1',\n",
       "  'localDir2_1',\n",
       "  'glob_eta_1',\n",
       "  'glob_phi_1',\n",
       "  'eta_angle_1',\n",
       "  'phi_angle_1'],\n",
       " 'node_scales': [1000, 3.14, 3000, 2, 12, 1, 3.14, 1, 1, 1, 1, 3.14, 3, 1],\n",
       " 'r_infer': 0.1,\n",
       " 'knn_infer': 1000}"
      ]
     },
     "execution_count": 16,
     "metadata": {},
     "output_type": "execute_result"
    }
   ],
   "source": [
    "embedding.hprams"
   ]
  },
  {
   "cell_type": "code",
   "execution_count": 28,
   "metadata": {},
   "outputs": [],
   "source": [
    "embedding_features = embedding.forward(features)"
   ]
  },
  {
   "cell_type": "code",
   "execution_count": 29,
   "metadata": {},
   "outputs": [],
   "source": [
    "edge_index = build_edges(embedding_features, r_max=r_max, k_max=k_max, backend=knn_backend)"
   ]
  },
  {
   "cell_type": "code",
   "execution_count": 11,
   "metadata": {},
   "outputs": [
    {
     "data": {
      "text/plain": [
       "device(type='cpu')"
      ]
     },
     "execution_count": 11,
     "metadata": {},
     "output_type": "execute_result"
    }
   ],
   "source": [
    "edge_index.device"
   ]
  },
  {
   "cell_type": "code",
   "execution_count": 30,
   "metadata": {},
   "outputs": [
    {
     "data": {
      "text/plain": [
       "RecursiveScriptModule(\n",
       "  original_name=PermutationInvariantFilter\n",
       "  (encoder): RecursiveScriptModule(\n",
       "    original_name=Sequential\n",
       "    (0): RecursiveScriptModule(original_name=Linear)\n",
       "    (1): RecursiveScriptModule(original_name=LayerNorm)\n",
       "    (2): RecursiveScriptModule(original_name=ReLU)\n",
       "    (3): RecursiveScriptModule(original_name=Linear)\n",
       "    (4): RecursiveScriptModule(original_name=LayerNorm)\n",
       "    (5): RecursiveScriptModule(original_name=ReLU)\n",
       "    (6): RecursiveScriptModule(original_name=Linear)\n",
       "    (7): RecursiveScriptModule(original_name=LayerNorm)\n",
       "    (8): RecursiveScriptModule(original_name=ReLU)\n",
       "    (9): RecursiveScriptModule(original_name=Linear)\n",
       "    (10): RecursiveScriptModule(original_name=LayerNorm)\n",
       "    (11): RecursiveScriptModule(original_name=ReLU)\n",
       "  )\n",
       "  (decoder): RecursiveScriptModule(\n",
       "    original_name=Sequential\n",
       "    (0): RecursiveScriptModule(original_name=Linear)\n",
       "    (1): RecursiveScriptModule(original_name=LayerNorm)\n",
       "    (2): RecursiveScriptModule(original_name=ReLU)\n",
       "    (3): RecursiveScriptModule(original_name=Linear)\n",
       "  )\n",
       ")"
      ]
     },
     "execution_count": 30,
     "metadata": {},
     "output_type": "execute_result"
    }
   ],
   "source": [
    "filtering_model = torch.jit.load(filtering_model_path, map_location=torch.device('cpu'))\n",
    "filtering_model.eval()"
   ]
  },
  {
   "cell_type": "code",
   "execution_count": 32,
   "metadata": {},
   "outputs": [],
   "source": [
    "fconfig = config['filtering']\n",
    "filter_node_features = fconfig[\"node_features\"]\n",
    "filter_node_scales = fconfig[\"node_scales\"]\n",
    "filter_data_features = reader.get_node_features(filter_node_features, filter_node_scales)"
   ]
  },
  {
   "cell_type": "code",
   "execution_count": 15,
   "metadata": {},
   "outputs": [
    {
     "data": {
      "text/plain": [
       "(torch.Size([275435, 25]),\n",
       " device(type='cpu'),\n",
       " torch.Size([2, 12688584]),\n",
       " device(type='cpu'))"
      ]
     },
     "execution_count": 15,
     "metadata": {},
     "output_type": "execute_result"
    }
   ],
   "source": [
    "filter_data_features.shape, filter_data_features.device, edge_index.shape, edge_index.device"
   ]
  },
  {
   "cell_type": "code",
   "execution_count": 33,
   "metadata": {},
   "outputs": [],
   "source": [
    "senders, receivers = filter_data_features[edge_index[0]], filter_data_features[edge_index[1]]"
   ]
  },
  {
   "cell_type": "code",
   "execution_count": 40,
   "metadata": {},
   "outputs": [],
   "source": [
    "with torch.no_grad():\n",
    "    batch_size = 1024\n",
    "    filtering_edge_scores = filtering_model.forward(senders[:batch_size], receivers[:batch_size])"
   ]
  },
  {
   "cell_type": "code",
   "execution_count": 41,
   "metadata": {},
   "outputs": [
    {
     "data": {
      "text/plain": [
       "tensor([ 2.9057, -0.6808,  1.4122,  ...,  1.7383, -1.4039,  1.5612],\n",
       "       grad_fn=<DifferentiableGraphBackward>)"
      ]
     },
     "execution_count": 41,
     "metadata": {},
     "output_type": "execute_result"
    }
   ],
   "source": [
    "filtering_edge_scores"
   ]
  },
  {
   "cell_type": "code",
   "execution_count": 42,
   "metadata": {},
   "outputs": [
    {
     "data": {
      "text/plain": [
       "tensor([ 2.9057, -0.6808,  1.4122,  ...,  1.7383, -1.4039,  1.5612],\n",
       "       grad_fn=<DifferentiableGraphBackward>)"
      ]
     },
     "execution_count": 42,
     "metadata": {},
     "output_type": "execute_result"
    }
   ],
   "source": [
    "batch_size = 1024\n",
    "filtering_edge_scores = filtering_model.forward(senders[:batch_size], receivers[:batch_size])\n",
    "filtering_edge_scores"
   ]
  },
  {
   "cell_type": "code",
   "execution_count": 39,
   "metadata": {},
   "outputs": [
    {
     "data": {
      "text/plain": [
       "tensor([ 2.9057, -0.6808,  1.4122,  ...,  1.7383, -1.4039,  1.5612],\n",
       "       grad_fn=<SqueezeBackward1>)"
      ]
     },
     "execution_count": 39,
     "metadata": {},
     "output_type": "execute_result"
    }
   ],
   "source": [
    "filtering_edge_scores"
   ]
  },
  {
   "cell_type": "code",
   "execution_count": 38,
   "metadata": {},
   "outputs": [
    {
     "data": {
      "text/plain": [
       "tensor([ 2.9057, -0.6808,  1.4122,  ...,  1.7383, -1.4039,  1.5612])"
      ]
     },
     "execution_count": 38,
     "metadata": {},
     "output_type": "execute_result"
    }
   ],
   "source": [
    "filtering_edge_scores.detach()"
   ]
  },
  {
   "cell_type": "code",
   "execution_count": 36,
   "metadata": {},
   "outputs": [
    {
     "data": {
      "text/plain": [
       "torch.Size([2048])"
      ]
     },
     "execution_count": 36,
     "metadata": {},
     "output_type": "execute_result"
    }
   ],
   "source": [
    "jj = torch.concat([filtering_edge_scores, filtering_edge_scores], dim=0)\n",
    "jj.shape"
   ]
  },
  {
   "cell_type": "code",
   "execution_count": 37,
   "metadata": {},
   "outputs": [
    {
     "data": {
      "text/plain": [
       "tensor([ 2.9057, -0.6808,  1.4122,  ...,  1.7383, -1.4039,  1.5612],\n",
       "       grad_fn=<CatBackward0>)"
      ]
     },
     "execution_count": 37,
     "metadata": {},
     "output_type": "execute_result"
    }
   ],
   "source": [
    "jj"
   ]
  },
  {
   "cell_type": "code",
   "execution_count": 70,
   "metadata": {},
   "outputs": [
    {
     "data": {
      "text/plain": [
       "(torch.Size([8418480]),\n",
       " torch.Size([2, 8418480]),\n",
       " torch.Size([2, 108249]),\n",
       " torch.Size([108249]),\n",
       " torch.Size([108249]))"
      ]
     },
     "execution_count": 70,
     "metadata": {},
     "output_type": "execute_result"
    }
   ],
   "source": [
    "data.y.shape, data.edge_index.shape, data.track_edges.shape, data.pt.shape, data.nhits.shape"
   ]
  },
  {
   "cell_type": "code",
   "execution_count": 83,
   "metadata": {},
   "outputs": [
    {
     "data": {
      "text/plain": [
       "tensor([109251, 109254, 109256,  ..., 271532, 271533, 273373])"
      ]
     },
     "execution_count": 83,
     "metadata": {},
     "output_type": "execute_result"
    }
   ],
   "source": [
    "data.track_edges[0, data.track_edges[0] > 109249]"
   ]
  },
  {
   "cell_type": "code",
   "execution_count": 91,
   "metadata": {},
   "outputs": [
    {
     "data": {
      "text/plain": [
       "(torch.Size([275435]),\n",
       " torch.Size([108249]),\n",
       " torch.Size([275435]),\n",
       " torch.Size([108249]),\n",
       " torch.Size([108249]))"
      ]
     },
     "execution_count": 91,
     "metadata": {},
     "output_type": "execute_result"
    }
   ],
   "source": [
    "data.phi.shape, data.pt.shape, data.eta_angle_2.shape, data.particle_id.shape, data.pdgId.shape"
   ]
  },
  {
   "cell_type": "code",
   "execution_count": 93,
   "metadata": {},
   "outputs": [
    {
     "data": {
      "text/plain": [
       "torch.Size([108249])"
      ]
     },
     "execution_count": 93,
     "metadata": {},
     "output_type": "execute_result"
    }
   ],
   "source": [
    "data.truth_map.shape"
   ]
  },
  {
   "cell_type": "code",
   "execution_count": 79,
   "metadata": {},
   "outputs": [
    {
     "data": {
      "text/plain": [
       "(tensor(273373), tensor(275432))"
      ]
     },
     "execution_count": 79,
     "metadata": {},
     "output_type": "execute_result"
    }
   ],
   "source": [
    "max(data.track_edges[0]), max(data.track_edges[1])"
   ]
  },
  {
   "cell_type": "code",
   "execution_count": 78,
   "metadata": {},
   "outputs": [
    {
     "data": {
      "text/plain": [
       "tensor([     0,      3,      4,  ..., 271532, 271533, 273373])"
      ]
     },
     "execution_count": 78,
     "metadata": {},
     "output_type": "execute_result"
    }
   ],
   "source": [
    "data.track_edges[0]"
   ]
  },
  {
   "cell_type": "code",
   "execution_count": 71,
   "metadata": {},
   "outputs": [
    {
     "data": {
      "text/plain": [
       "tensor([1., 1., 1.,  ..., 1., 1., 0.], dtype=torch.float64)"
      ]
     },
     "execution_count": 71,
     "metadata": {},
     "output_type": "execute_result"
    }
   ],
   "source": [
    "data.primary"
   ]
  },
  {
   "cell_type": "markdown",
   "metadata": {},
   "source": [
    "## Compare different trained Embedding models"
   ]
  },
  {
   "cell_type": "code",
   "execution_count": 100,
   "metadata": {},
   "outputs": [],
   "source": [
    "version = 'v1'\n",
    "model_files = {\n",
    "    \"v1\": base_path + f\"/TrainedModels/{version}/graph_construction-MetricLearning-v1.pt\",\n",
    "    \"v2\": base_path + f\"/TrainedModels/{version}/graph_construction-MetricLearning-v2.pt\",\n",
    "    \"v3\": base_path + f\"/TrainedModels/{version}/graph_construction-MetricLearning-v3.pt\",\n",
    "    \"v4\": base_path + f\"/TrainedModels/{version}/graph_construction-MetricLearning-v4.pt\",\n",
    "    \"v5\": base_path + f\"/TrainedModels/{version}/graph_construction-MetricLearning-v5.pt\",\n",
    "}"
   ]
  },
  {
   "cell_type": "code",
   "execution_count": 101,
   "metadata": {},
   "outputs": [
    {
     "name": "stdout",
     "output_type": "stream",
     "text": [
      "Training: Total 1 events in directory: /global/homes/x/xju/m3443/usr/xju/ITk/For2023Paper/2023_uncorr_feature_store/trainset\n",
      "Validation: Total 1 events in directory: /global/homes/x/xju/m3443/usr/xju/ITk/For2023Paper/2023_uncorr_feature_store/valset\n",
      "Test: Total 1 events in directory: /global/homes/x/xju/m3443/usr/xju/ITk/For2023Paper/2023_uncorr_feature_store/testset\n",
      "Training: Total 1 events in directory: /global/homes/x/xju/m3443/usr/xju/ITk/For2023Paper/2023_uncorr_feature_store/trainset\n",
      "Validation: Total 1 events in directory: /global/homes/x/xju/m3443/usr/xju/ITk/For2023Paper/2023_uncorr_feature_store/valset\n",
      "Test: Total 1 events in directory: /global/homes/x/xju/m3443/usr/xju/ITk/For2023Paper/2023_uncorr_feature_store/testset\n",
      "Training: Total 1 events in directory: /global/homes/x/xju/m3443/usr/xju/ITk/For2023Paper/2023_uncorr_feature_store/trainset\n",
      "Validation: Total 1 events in directory: /global/homes/x/xju/m3443/usr/xju/ITk/For2023Paper/2023_uncorr_feature_store/valset\n",
      "Test: Total 1 events in directory: /global/homes/x/xju/m3443/usr/xju/ITk/For2023Paper/2023_uncorr_feature_store/testset\n",
      "Training: Total 1 events in directory: /global/homes/x/xju/m3443/usr/xju/ITk/For2023Paper/2023_uncorr_feature_store/trainset\n",
      "Validation: Total 1 events in directory: /global/homes/x/xju/m3443/usr/xju/ITk/For2023Paper/2023_uncorr_feature_store/valset\n",
      "Test: Total 1 events in directory: /global/homes/x/xju/m3443/usr/xju/ITk/For2023Paper/2023_uncorr_feature_store/testset\n",
      "Training: Total 1 events in directory: /global/homes/x/xju/m3443/usr/xju/ITk/For2023Paper/2023_uncorr_feature_store/trainset\n",
      "Validation: Total 1 events in directory: /global/homes/x/xju/m3443/usr/xju/ITk/For2023Paper/2023_uncorr_feature_store/valset\n",
      "Test: Total 1 events in directory: /global/homes/x/xju/m3443/usr/xju/ITk/For2023Paper/2023_uncorr_feature_store/testset\n"
     ]
    }
   ],
   "source": [
    "\n",
    "models = { k: TorchModelInference(config_file, \"trainset\", v, \".\", name=k) for k, v in model_files.items() }"
   ]
  },
  {
   "cell_type": "code",
   "execution_count": 103,
   "metadata": {},
   "outputs": [
    {
     "name": "stdout",
     "output_type": "stream",
     "text": [
      "Reading file: /global/homes/x/xju/m3443/usr/xju/ITk/For2023Paper/2023_uncorr_feature_store/trainset/event000001693-graph.pyg\n",
      "True Reco Edges 163,492, True Edges 216,498, Per-edge efficiency: 75.517%\n",
      "True Edges 216,498, Reco Edges 12,688,452, Per-edge purity: 1.706%\n",
      "Only 12.141452% of true edges are of interests (signal)\n",
      "True Reco Signal Edges 26,194, True Signal Edges 26,286, Per-edge signal efficiency: 99.650%\n",
      "Reading file: /global/homes/x/xju/m3443/usr/xju/ITk/For2023Paper/2023_uncorr_feature_store/trainset/event000001693-graph.pyg\n",
      "True Reco Edges 184,712, True Edges 216,498, Per-edge efficiency: 85.318%\n",
      "True Edges 216,498, Reco Edges 29,230,107, Per-edge purity: 0.741%\n",
      "Only 12.141452% of true edges are of interests (signal)\n",
      "True Reco Signal Edges 26,068, True Signal Edges 26,286, Per-edge signal efficiency: 99.171%\n",
      "Reading file: /global/homes/x/xju/m3443/usr/xju/ITk/For2023Paper/2023_uncorr_feature_store/trainset/event000001693-graph.pyg\n",
      "True Reco Edges 174,589, True Edges 216,498, Per-edge efficiency: 80.642%\n",
      "True Edges 216,498, Reco Edges 119,025,865, Per-edge purity: 0.182%\n",
      "Only 12.141452% of true edges are of interests (signal)\n",
      "True Reco Signal Edges 22,318, True Signal Edges 26,286, Per-edge signal efficiency: 84.905%\n",
      "Reading file: /global/homes/x/xju/m3443/usr/xju/ITk/For2023Paper/2023_uncorr_feature_store/trainset/event000001693-graph.pyg\n",
      "True Reco Edges 183,420, True Edges 216,498, Per-edge efficiency: 84.721%\n",
      "True Edges 216,498, Reco Edges 23,188,054, Per-edge purity: 0.934%\n",
      "Only 12.141452% of true edges are of interests (signal)\n",
      "True Reco Signal Edges 26,072, True Signal Edges 26,286, Per-edge signal efficiency: 99.186%\n",
      "Reading file: /global/homes/x/xju/m3443/usr/xju/ITk/For2023Paper/2023_uncorr_feature_store/trainset/event000001693-graph.pyg\n",
      "True Reco Edges 180,240, True Edges 216,498, Per-edge efficiency: 83.253%\n",
      "True Edges 216,498, Reco Edges 16,832,696, Per-edge purity: 1.286%\n",
      "Only 12.141452% of true edges are of interests (signal)\n",
      "True Reco Signal Edges 26,072, True Signal Edges 26,286, Per-edge signal efficiency: 99.186%\n"
     ]
    }
   ],
   "source": [
    "\n",
    "results = { k: m.inference(0, knn_backend=\"FRNN\") for k,m in models.items() }"
   ]
  },
  {
   "cell_type": "markdown",
   "metadata": {},
   "source": [
    "### How about validation dataset?"
   ]
  },
  {
   "cell_type": "code",
   "execution_count": 104,
   "metadata": {},
   "outputs": [
    {
     "name": "stdout",
     "output_type": "stream",
     "text": [
      "Loading model from /global/homes/x/xju/m3443/usr/xju/ITk/For2023Paper//TrainedModels/v1/graph_construction-MetricLearning-v1.pt\n",
      "valset: Total 1 events in directory: /global/homes/x/xju/m3443/usr/xju/ITk/For2023Paper/2023_uncorr_feature_store/valset\n",
      "Loading model from /global/homes/x/xju/m3443/usr/xju/ITk/For2023Paper//TrainedModels/v1/graph_construction-MetricLearning-v2.pt\n",
      "valset: Total 1 events in directory: /global/homes/x/xju/m3443/usr/xju/ITk/For2023Paper/2023_uncorr_feature_store/valset\n",
      "Loading model from /global/homes/x/xju/m3443/usr/xju/ITk/For2023Paper//TrainedModels/v1/graph_construction-MetricLearning-v3.pt\n",
      "valset: Total 1 events in directory: /global/homes/x/xju/m3443/usr/xju/ITk/For2023Paper/2023_uncorr_feature_store/valset\n",
      "Loading model from /global/homes/x/xju/m3443/usr/xju/ITk/For2023Paper//TrainedModels/v1/graph_construction-MetricLearning-v4.pt\n",
      "valset: Total 1 events in directory: /global/homes/x/xju/m3443/usr/xju/ITk/For2023Paper/2023_uncorr_feature_store/valset\n",
      "Loading model from /global/homes/x/xju/m3443/usr/xju/ITk/For2023Paper//TrainedModels/v1/graph_construction-MetricLearning-v5.pt\n",
      "valset: Total 1 events in directory: /global/homes/x/xju/m3443/usr/xju/ITk/For2023Paper/2023_uncorr_feature_store/valset\n",
      "Reading file: /global/homes/x/xju/m3443/usr/xju/ITk/For2023Paper/2023_uncorr_feature_store/valset/event000008899-graph.pyg\n",
      "True Reco Edges 179,952, True Edges 237,602, Per-edge efficiency: 75.737%\n",
      "True Edges 237,602, Reco Edges 16,495,470, Per-edge purity: 1.440%\n",
      "Only 13.104267% of true edges are of interests (signal)\n",
      "True Reco Signal Edges 31,010, True Signal Edges 31,136, Per-edge signal efficiency: 99.595%\n",
      "Reading file: /global/homes/x/xju/m3443/usr/xju/ITk/For2023Paper/2023_uncorr_feature_store/valset/event000008899-graph.pyg\n",
      "True Reco Edges 202,750, True Edges 237,602, Per-edge efficiency: 85.332%\n",
      "True Edges 237,602, Reco Edges 37,291,788, Per-edge purity: 0.637%\n",
      "Only 13.104267% of true edges are of interests (signal)\n",
      "True Reco Signal Edges 30,860, True Signal Edges 31,136, Per-edge signal efficiency: 99.114%\n",
      "Reading file: /global/homes/x/xju/m3443/usr/xju/ITk/For2023Paper/2023_uncorr_feature_store/valset/event000008899-graph.pyg\n",
      "True Reco Edges 189,150, True Edges 237,602, Per-edge efficiency: 79.608%\n",
      "True Edges 237,602, Reco Edges 141,466,071, Per-edge purity: 0.168%\n",
      "Only 13.104267% of true edges are of interests (signal)\n",
      "True Reco Signal Edges 26,063, True Signal Edges 31,136, Per-edge signal efficiency: 83.707%\n",
      "Reading file: /global/homes/x/xju/m3443/usr/xju/ITk/For2023Paper/2023_uncorr_feature_store/valset/event000008899-graph.pyg\n",
      "True Reco Edges 201,446, True Edges 237,602, Per-edge efficiency: 84.783%\n",
      "True Edges 237,602, Reco Edges 29,400,570, Per-edge purity: 0.808%\n",
      "Only 13.104267% of true edges are of interests (signal)\n",
      "True Reco Signal Edges 30,922, True Signal Edges 31,136, Per-edge signal efficiency: 99.313%\n",
      "Reading file: /global/homes/x/xju/m3443/usr/xju/ITk/For2023Paper/2023_uncorr_feature_store/valset/event000008899-graph.pyg\n",
      "True Reco Edges 198,264, True Edges 237,602, Per-edge efficiency: 83.444%\n",
      "True Edges 237,602, Reco Edges 21,419,900, Per-edge purity: 1.109%\n",
      "Only 13.104267% of true edges are of interests (signal)\n",
      "True Reco Signal Edges 30,892, True Signal Edges 31,136, Per-edge signal efficiency: 99.216%\n"
     ]
    }
   ],
   "source": [
    "\n",
    "models = { k: TorchModelInference(config_file, \"valset\", v, \".\", name=k) for k, v in model_files.items() }\n",
    "results = { k: m.inference(0, knn_backend=\"FRNN\") for k,m in models.items() }"
   ]
  },
  {
   "cell_type": "markdown",
   "metadata": {},
   "source": [
    "## Verify graph intersections"
   ]
  },
  {
   "cell_type": "code",
   "execution_count": 19,
   "metadata": {},
   "outputs": [],
   "source": [
    "edge_index = torch.tensor([[1, 3], [2, 3], [2, 4], [3, 4], [1, 4], [3, 1]], dtype=torch.long).T\n",
    "true_edges = torch.tensor([[1, 2], [2, 3], [3, 1]], dtype=torch.long).T"
   ]
  },
  {
   "cell_type": "code",
   "execution_count": 20,
   "metadata": {},
   "outputs": [
    {
     "data": {
      "text/plain": [
       "torch.Size([2, 6])"
      ]
     },
     "execution_count": 20,
     "metadata": {},
     "output_type": "execute_result"
    }
   ],
   "source": [
    "edge_index.shape"
   ]
  },
  {
   "cell_type": "code",
   "execution_count": 21,
   "metadata": {},
   "outputs": [],
   "source": [
    "unique_edges, inverse = torch.unique(torch.cat([edge_index, true_edges], dim=1), dim=1, sorted=False, return_inverse=True, return_counts=False)\n"
   ]
  },
  {
   "cell_type": "code",
   "execution_count": 23,
   "metadata": {},
   "outputs": [
    {
     "data": {
      "text/plain": [
       "(tensor([[1, 1, 1, 2, 2, 3, 3],\n",
       "         [2, 3, 4, 3, 4, 1, 4]]),\n",
       " tensor([1, 3, 4, 6, 2, 5, 0, 3, 5]))"
      ]
     },
     "execution_count": 23,
     "metadata": {},
     "output_type": "execute_result"
    }
   ],
   "source": [
    "unique_edges, inverse"
   ]
  },
  {
   "cell_type": "code",
   "execution_count": 24,
   "metadata": {},
   "outputs": [
    {
     "data": {
      "text/plain": [
       "tensor([-1, -1, -1, -1, -1, -1, -1])"
      ]
     },
     "execution_count": 24,
     "metadata": {},
     "output_type": "execute_result"
    }
   ],
   "source": [
    "inverse_pred_map = torch.ones_like(unique_edges[1]) * -1\n",
    "inverse_pred_map"
   ]
  },
  {
   "cell_type": "code",
   "execution_count": 25,
   "metadata": {},
   "outputs": [],
   "source": [
    "inverse_pred_map[inverse[:edge_index.shape[1]]] = torch.arange(edge_index.shape[1])"
   ]
  },
  {
   "cell_type": "code",
   "execution_count": 26,
   "metadata": {},
   "outputs": [
    {
     "data": {
      "text/plain": [
       "tensor([-1,  0,  4,  1,  2,  5,  3])"
      ]
     },
     "execution_count": 26,
     "metadata": {},
     "output_type": "execute_result"
    }
   ],
   "source": [
    "inverse_pred_map"
   ]
  },
  {
   "cell_type": "code",
   "execution_count": 27,
   "metadata": {},
   "outputs": [],
   "source": [
    "inverse_truth_map = torch.ones_like(unique_edges[1]) * -1\n",
    "inverse_truth_map[inverse[edge_index.shape[1]:]] = torch.arange(true_edges.shape[1])"
   ]
  },
  {
   "cell_type": "code",
   "execution_count": 28,
   "metadata": {},
   "outputs": [
    {
     "data": {
      "text/plain": [
       "tensor([ 0, -1, -1,  1, -1,  2, -1])"
      ]
     },
     "execution_count": 28,
     "metadata": {},
     "output_type": "execute_result"
    }
   ],
   "source": [
    "inverse_truth_map"
   ]
  },
  {
   "cell_type": "code",
   "execution_count": 34,
   "metadata": {},
   "outputs": [
    {
     "data": {
      "text/plain": [
       "tensor([-1,  1, -1, -1, -1,  2,  0,  1,  2])"
      ]
     },
     "execution_count": 34,
     "metadata": {},
     "output_type": "execute_result"
    }
   ],
   "source": [
    "inverse_truth_map[inverse]"
   ]
  },
  {
   "cell_type": "code",
   "execution_count": 35,
   "metadata": {},
   "outputs": [
    {
     "name": "stderr",
     "output_type": "stream",
     "text": [
      "WARNING:root:FRNN is available\n",
      "WARNING:root:FAISS is available\n"
     ]
    }
   ],
   "source": [
    "pred_to_truth = inverse_truth_map[inverse[:edge_index.shape[1]]]\n",
    "truth_to_pred = inverse_pred_map[inverse][edge_index.shape[1]:]"
   ]
  },
  {
   "cell_type": "code",
   "execution_count": 32,
   "metadata": {},
   "outputs": [
    {
     "name": "stderr",
     "output_type": "stream",
     "text": [
      "WARNING:root:FRNN is available\n",
      "WARNING:root:FAISS is available\n"
     ]
    },
    {
     "data": {
      "text/plain": [
       "(torch.Size([9]), torch.Size([7]))"
      ]
     },
     "execution_count": 32,
     "metadata": {},
     "output_type": "execute_result"
    }
   ],
   "source": [
    "inverse.shape, inverse_truth_map.shape"
   ]
  },
  {
   "cell_type": "code",
   "execution_count": 33,
   "metadata": {},
   "outputs": [
    {
     "data": {
      "text/plain": [
       "tensor([-1,  1, -1, -1, -1,  2])"
      ]
     },
     "execution_count": 33,
     "metadata": {},
     "output_type": "execute_result"
    }
   ],
   "source": [
    "pred_to_truth"
   ]
  },
  {
   "cell_type": "code",
   "execution_count": 36,
   "metadata": {},
   "outputs": [
    {
     "data": {
      "text/plain": [
       "tensor([-1,  1, -1, -1, -1,  2])"
      ]
     },
     "execution_count": 36,
     "metadata": {},
     "output_type": "execute_result"
    }
   ],
   "source": [
    "pred_to_truth"
   ]
  },
  {
   "cell_type": "code",
   "execution_count": 31,
   "metadata": {},
   "outputs": [
    {
     "data": {
      "text/plain": [
       "tensor([-1,  1,  5])"
      ]
     },
     "execution_count": 31,
     "metadata": {},
     "output_type": "execute_result"
    }
   ],
   "source": [
    "truth_to_pred"
   ]
  },
  {
   "cell_type": "code",
   "execution_count": null,
   "metadata": {},
   "outputs": [],
   "source": []
  }
 ],
 "metadata": {
  "kernelspec": {
   "display_name": "torch",
   "language": "python",
   "name": "python3"
  },
  "language_info": {
   "codemirror_mode": {
    "name": "ipython",
    "version": 3
   },
   "file_extension": ".py",
   "mimetype": "text/x-python",
   "name": "python",
   "nbconvert_exporter": "python",
   "pygments_lexer": "ipython3",
   "version": "3.9.16"
  },
  "orig_nbformat": 4
 },
 "nbformat": 4,
 "nbformat_minor": 2
}
