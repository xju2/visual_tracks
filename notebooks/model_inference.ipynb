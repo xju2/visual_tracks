{
 "cells": [
  {
   "cell_type": "code",
   "execution_count": 1,
   "metadata": {},
   "outputs": [],
   "source": [
    "%load_ext autoreload\n",
    "%autoreload 2\n",
    "import sys\n",
    "sys.path.append('../')"
   ]
  },
  {
   "cell_type": "code",
   "execution_count": 2,
   "metadata": {},
   "outputs": [
    {
     "name": "stderr",
     "output_type": "stream",
     "text": [
      "/media/DataOcean/miniconda3/envs/gnn4itk/lib/python3.9/site-packages/tqdm/auto.py:22: TqdmWarning: IProgress not found. Please update jupyter and ipywidgets. See https://ipywidgets.readthedocs.io/en/stable/user_install.html\n",
      "  from .autonotebook import tqdm as notebook_tqdm\n"
     ]
    },
    {
     "name": "stdout",
     "output_type": "stream",
     "text": [
      "uproot is not installed. AthenaRawRootReader will not be available.\n"
     ]
    },
    {
     "name": "stderr",
     "output_type": "stream",
     "text": [
      "WARNING:root:FRNN is not available, install it at https://github.com/murnanedaniel/FRNN. Using PyG radius instead.\n",
      "WARNING:root:FAISS is available\n"
     ]
    }
   ],
   "source": [
    "import torch\n",
    "from acctrack.tools.model_inference import ModelLoader, TorchModelInference\n",
    "from acctrack.io.pyg_data_reader import TrackGraphDataReader\n",
    "from acctrack.tools.utils_graph import build_edges\n",
    "import faiss"
   ]
  },
  {
   "cell_type": "code",
   "execution_count": 10,
   "metadata": {},
   "outputs": [],
   "source": [
    "model_path = \"/media/DataOcean/projects/tracking/itk/For2023Paper/TrainedModels/graph_construction-MetricLearning-v1.pt\"\n",
    "data_path = \"/home/xju/projects/tracking/itk/For2023Paper/2023_uncorr_feature_store\"\n",
    "\n",
    "r_max, k_max = 0.1, 1000"
   ]
  },
  {
   "cell_type": "code",
   "execution_count": 4,
   "metadata": {},
   "outputs": [
    {
     "name": "stdout",
     "output_type": "stream",
     "text": [
      "Training: Total 1 events in directory: /home/xju/projects/tracking/itk/For2023Paper/2023_uncorr_feature_store/trainset\n",
      "Validation: Total 1 events in directory: /home/xju/projects/tracking/itk/For2023Paper/2023_uncorr_feature_store/valset\n",
      "Test: Total 1 events in directory: /home/xju/projects/tracking/itk/For2023Paper/2023_uncorr_feature_store/testset\n"
     ]
    }
   ],
   "source": [
    "model_infer = TorchModelInference(\"metric_learning-nonoise.yaml\", model_path, \".\")"
   ]
  },
  {
   "cell_type": "markdown",
   "metadata": {},
   "source": [
    "## Embedding"
   ]
  },
  {
   "cell_type": "code",
   "execution_count": 5,
   "metadata": {},
   "outputs": [
    {
     "name": "stdout",
     "output_type": "stream",
     "text": [
      "Reading file: /home/xju/projects/tracking/itk/For2023Paper/2023_uncorr_feature_store/trainset/event000005367-graph.pyg\n"
     ]
    }
   ],
   "source": [
    "data = model_infer.data_reader_training.read(0)"
   ]
  },
  {
   "cell_type": "code",
   "execution_count": 6,
   "metadata": {},
   "outputs": [],
   "source": [
    "node_features = model_infer.config[\"node_features\"]\n",
    "node_scales = torch.Tensor(model_infer.config[\"node_scales\"])\n",
    "input_data = torch.stack([data[x] for x in node_features], dim=-1).float()\n",
    "features = input_data / node_scales"
   ]
  },
  {
   "cell_type": "code",
   "execution_count": 7,
   "metadata": {},
   "outputs": [
    {
     "data": {
      "text/plain": [
       "tensor([ 0.0342,  0.9269, -0.0883,  1.0000,  0.5000, -1.1036,  0.1477,  0.1000,\n",
       "         0.0500,  0.1500,  1.1036, -0.6479,  0.4164,  0.9828])"
      ]
     },
     "execution_count": 7,
     "metadata": {},
     "output_type": "execute_result"
    }
   ],
   "source": [
    "features[0]"
   ]
  },
  {
   "cell_type": "code",
   "execution_count": 8,
   "metadata": {},
   "outputs": [],
   "source": [
    "embedding = model_infer.model_reader.predict(features)"
   ]
  },
  {
   "cell_type": "code",
   "execution_count": 5,
   "metadata": {},
   "outputs": [
    {
     "name": "stdout",
     "output_type": "stream",
     "text": [
      "Reading file: /home/xju/projects/tracking/itk/For2023Paper/2023_uncorr_feature_store/trainset/event000005367-graph.pyg\n"
     ]
    }
   ],
   "source": [
    "embedding = model_infer.inference(0)"
   ]
  },
  {
   "cell_type": "code",
   "execution_count": 6,
   "metadata": {},
   "outputs": [
    {
     "data": {
      "text/plain": [
       "tensor([-0.0908, -0.0284, -0.2994, -0.1605, -0.1913,  0.0260,  0.1929, -0.0615,\n",
       "        -0.0207, -0.0559,  0.2816,  0.2985,  0.0521, -0.2373,  0.0643, -0.0638,\n",
       "        -0.1706,  0.4789,  0.0141, -0.1035, -0.0988,  0.2270,  0.0684,  0.0094,\n",
       "         0.2849,  0.0885, -0.1747, -0.0492,  0.0630, -0.0150,  0.0177, -0.3104],\n",
       "       grad_fn=<SelectBackward0>)"
      ]
     },
     "execution_count": 6,
     "metadata": {},
     "output_type": "execute_result"
    }
   ],
   "source": [
    "embedding[0], embedding.shape"
   ]
  },
  {
   "cell_type": "code",
   "execution_count": 16,
   "metadata": {},
   "outputs": [],
   "source": []
  },
  {
   "cell_type": "code",
   "execution_count": 17,
   "metadata": {},
   "outputs": [],
   "source": [
    "edge_index = build_edges(embedding, embedding, r_max=r_max, k_max=k_max, backend=None)"
   ]
  },
  {
   "cell_type": "code",
   "execution_count": 19,
   "metadata": {},
   "outputs": [
    {
     "name": "stderr",
     "output_type": "stream",
     "text": [
      "WARNING:root:FRNN is not available, install it at https://github.com/murnanedaniel/FRNN. Using PyG radius instead.\n",
      "WARNING:root:FAISS is available\n"
     ]
    },
    {
     "name": "stdout",
     "output_type": "stream",
     "text": [
      "torch.Size([2, 20651722])\n"
     ]
    }
   ],
   "source": [
    "print(edge_index.shape)"
   ]
  },
  {
   "cell_type": "code",
   "execution_count": 11,
   "metadata": {},
   "outputs": [
    {
     "ename": "",
     "evalue": "",
     "output_type": "error",
     "traceback": [
      "\u001b[1;31mCannot execute code, session has been disposed. Please try restarting the Kernel."
     ]
    },
    {
     "ename": "",
     "evalue": "",
     "output_type": "error",
     "traceback": [
      "\u001b[1;31mThe Kernel crashed while executing code in the the current cell or a previous cell. Please review the code in the cell(s) to identify a possible cause of the failure. Click <a href='https://aka.ms/vscodeJupyterKernelCrash'>here</a> for more info. View Jupyter <a href='command:jupyter.viewOutput'>log</a> for further details."
     ]
    }
   ],
   "source": [
    "edge_index = build_edges(embedding, embedding, r_max=r_max, k_max=k_max, backend=\"FAISS-CPU\")"
   ]
  },
  {
   "cell_type": "code",
   "execution_count": null,
   "metadata": {},
   "outputs": [
    {
     "name": "stdout",
     "output_type": "stream",
     "text": [
      "Help on function knn in module faiss.extra_wrappers:\n",
      "\n",
      "knn(xq, xb, k, metric=1)\n",
      "    Compute the k nearest neighbors of a vector without constructing an index\n",
      "    \n",
      "    \n",
      "    Parameters\n",
      "    ----------\n",
      "    xq : array_like\n",
      "        Query vectors, shape (nq, d) where d is appropriate for the index.\n",
      "        `dtype` must be float32.\n",
      "    xb : array_like\n",
      "        Database vectors, shape (nb, d) where d is appropriate for the index.\n",
      "        `dtype` must be float32.\n",
      "    k : int\n",
      "        Number of nearest neighbors.\n",
      "    distance_type : MetricType, optional\n",
      "        distance measure to use (either METRIC_L2 or METRIC_INNER_PRODUCT)\n",
      "    \n",
      "    Returns\n",
      "    -------\n",
      "    D : array_like\n",
      "        Distances of the nearest neighbors, shape (nq, k)\n",
      "    I : array_like\n",
      "        Labels of the nearest neighbors, shape (nq, k)\n",
      "\n"
     ]
    }
   ],
   "source": [
    "print(edge_index.shape)"
   ]
  },
  {
   "cell_type": "code",
   "execution_count": 18,
   "metadata": {},
   "outputs": [
    {
     "name": "stdout",
     "output_type": "stream",
     "text": [
      "Reading file: /home/xju/projects/tracking/itk/For2023Paper/2023_uncorr_feature_store/trainset/event000005367-graph.pyg\n"
     ]
    }
   ],
   "source": [
    "data = model_infer.data_reader_training.read(0)"
   ]
  },
  {
   "cell_type": "code",
   "execution_count": 4,
   "metadata": {},
   "outputs": [],
   "source": [
    "model_loader = ModelLoader(model_path)"
   ]
  },
  {
   "cell_type": "code",
   "execution_count": 5,
   "metadata": {},
   "outputs": [],
   "source": [
    "model_loader.load()"
   ]
  },
  {
   "cell_type": "code",
   "execution_count": 6,
   "metadata": {},
   "outputs": [
    {
     "data": {
      "text/plain": [
       "RecursiveScriptModule(\n",
       "  original_name=MetricLearning\n",
       "  (network): RecursiveScriptModule(\n",
       "    original_name=Sequential\n",
       "    (0): RecursiveScriptModule(original_name=Linear)\n",
       "    (1): RecursiveScriptModule(original_name=LayerNorm)\n",
       "    (2): RecursiveScriptModule(original_name=ReLU)\n",
       "    (3): RecursiveScriptModule(original_name=Linear)\n",
       "    (4): RecursiveScriptModule(original_name=LayerNorm)\n",
       "    (5): RecursiveScriptModule(original_name=ReLU)\n",
       "    (6): RecursiveScriptModule(original_name=Linear)\n",
       "    (7): RecursiveScriptModule(original_name=LayerNorm)\n",
       "    (8): RecursiveScriptModule(original_name=ReLU)\n",
       "    (9): RecursiveScriptModule(original_name=Linear)\n",
       "    (10): RecursiveScriptModule(original_name=LayerNorm)\n",
       "    (11): RecursiveScriptModule(original_name=ReLU)\n",
       "    (12): RecursiveScriptModule(original_name=Linear)\n",
       "  )\n",
       ")"
      ]
     },
     "execution_count": 6,
     "metadata": {},
     "output_type": "execute_result"
    }
   ],
   "source": [
    "model_loader.model"
   ]
  },
  {
   "cell_type": "code",
   "execution_count": 8,
   "metadata": {},
   "outputs": [],
   "source": []
  },
  {
   "cell_type": "code",
   "execution_count": 10,
   "metadata": {},
   "outputs": [
    {
     "name": "stdout",
     "output_type": "stream",
     "text": [
      "BaseTrackDataReader: Total 1 events in directory: /home/xju/projects/tracking/itk/For2023Paper/2023_uncorr_feature_store/trainset\n"
     ]
    }
   ],
   "source": [
    "data_path = \"/home/xju/projects/tracking/itk/For2023Paper/2023_uncorr_feature_store\"\n",
    "data_path_train = data_path + \"/trainset/\"\n",
    "data_reader = TrackGraphDataReader(data_path_train)\n"
   ]
  },
  {
   "cell_type": "code",
   "execution_count": 11,
   "metadata": {},
   "outputs": [
    {
     "name": "stdout",
     "output_type": "stream",
     "text": [
      "Reading file: /home/xju/projects/tracking/itk/For2023Paper/2023_uncorr_feature_store/trainset/event000005367-graph.pyg\n"
     ]
    }
   ],
   "source": [
    "data = data_reader.read(0)"
   ]
  },
  {
   "cell_type": "code",
   "execution_count": 12,
   "metadata": {},
   "outputs": [
    {
     "data": {
      "text/plain": [
       "Data(lengthDir1_1=[349243], localDir1_2=[349243], x=[349243], cluster_z_2=[349243], norm_z_1=[349243], lengthDir2_1=[349243], loc_phi_2=[349243], loc_eta_1=[349243], eta_angle_2=[349243], count_2=[349243], glob_phi_1=[349243], r=[349243], cluster_y_1=[349243], localDir1_1=[349243], norm_y_2=[349243], norm_x_2=[349243], localDir2_2=[349243], charge_count_2=[349243], hit_id=[349243], count_1=[349243], loc_eta_2=[349243], lengthDir0_2=[349243], cluster_x_2=[349243], lengthDir0_1=[349243], phi_angle_2=[349243], lengthDir1_2=[349243], glob_eta_2=[349243], phi=[349243], glob_eta_1=[349243], loc_phi_1=[349243], eta_angle_1=[349243], cluster_x_1=[349243], y=[349243], localDir0_2=[349243], eta=[349243], norm_z_2=[349243], phi_angle_1=[349243], lengthDir2_2=[349243], cluster_z_1=[349243], cluster_y_2=[349243], norm_y_1=[349243], localDir0_1=[349243], region=[349243], localDir2_1=[349243], glob_phi_2=[349243], norm_x_1=[349243], charge_count_1=[349243], z=[349243], track_edges=[2, 136240], pt=[136240], particle_id=[136240], redundant_split_edges=[136240], primary=[136240], radius=[136240], nhits=[136240], pdgId=[136240], config=[1], event_id='000005367')"
      ]
     },
     "execution_count": 12,
     "metadata": {},
     "output_type": "execute_result"
    }
   ],
   "source": [
    "data"
   ]
  },
  {
   "cell_type": "code",
   "execution_count": 13,
   "metadata": {},
   "outputs": [
    {
     "data": {
      "text/plain": [
       "torch.Size([349243])"
      ]
     },
     "execution_count": 13,
     "metadata": {},
     "output_type": "execute_result"
    }
   ],
   "source": [
    "data['y'].shape"
   ]
  },
  {
   "cell_type": "code",
   "execution_count": 14,
   "metadata": {},
   "outputs": [
    {
     "data": {
      "text/plain": [
       "torch.Size([2, 136240])"
      ]
     },
     "execution_count": 14,
     "metadata": {},
     "output_type": "execute_result"
    }
   ],
   "source": [
    "data['track_edges'].shape"
   ]
  },
  {
   "cell_type": "code",
   "execution_count": null,
   "metadata": {},
   "outputs": [],
   "source": []
  }
 ],
 "metadata": {
  "kernelspec": {
   "display_name": "torch",
   "language": "python",
   "name": "python3"
  },
  "language_info": {
   "codemirror_mode": {
    "name": "ipython",
    "version": 3
   },
   "file_extension": ".py",
   "mimetype": "text/x-python",
   "name": "python",
   "nbconvert_exporter": "python",
   "pygments_lexer": "ipython3",
   "version": "3.9.15"
  },
  "orig_nbformat": 4
 },
 "nbformat": 4,
 "nbformat_minor": 2
}
