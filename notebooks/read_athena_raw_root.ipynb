{
 "cells": [
  {
   "cell_type": "code",
   "execution_count": 2,
   "metadata": {},
   "outputs": [],
   "source": [
    "%load_ext autoreload\n",
    "%autoreload 2\n",
    "import sys\n",
    "sys.path.append('../')"
   ]
  },
  {
   "cell_type": "code",
   "execution_count": 10,
   "metadata": {},
   "outputs": [],
   "source": [
    "from typing import Dict\n",
    "from acctrack.io.athena_raw_root import AthenaRawRootReader\n",
    "\n",
    "import awkward as ak\n",
    "import numpy as np"
   ]
  },
  {
   "cell_type": "code",
   "execution_count": 4,
   "metadata": {},
   "outputs": [
    {
     "name": "stdout",
     "output_type": "stream",
     "text": [
      "Total number of files: 1 in /media/DataOcean/data/ITk/BugFixedSamples\n"
     ]
    }
   ],
   "source": [
    "input_dir = \"/media/DataOcean/data/ITk/BugFixedSamples\"\n",
    "reader = AthenaRawRootReader(input_dir)"
   ]
  },
  {
   "cell_type": "code",
   "execution_count": 5,
   "metadata": {},
   "outputs": [
    {
     "name": "stdout",
     "output_type": "stream",
     "text": [
      "Number of entries in GNN4ITk: 200\n"
     ]
    }
   ],
   "source": [
    "tree = reader.read()"
   ]
  },
  {
   "cell_type": "code",
   "execution_count": 6,
   "metadata": {},
   "outputs": [],
   "source": [
    "particle_branch_prefix = \"Part_\"\n",
    "# \"vParentID\", \"vParentBarcode\" are not used.\n",
    "particle_columns = [\n",
    "    \"event_number\", \"barcode\", \n",
    "    \"px\", \"py\", \"pz\", \"pt\", \"eta\", \n",
    "    \"vx\", \"vy\", \"vz\",\n",
    "    \"radius\", \"status\", \"charge\", \"pdg_id\",\n",
    "    \"passed\", \"vProdNin\", \"vProdNout\", \"vProdStatus\", \n",
    "    \"vProdBarcode\"\n",
    "]\n",
    "\n",
    "particle_branch_names = [particle_branch_prefix + col for col in particle_columns]"
   ]
  },
  {
   "cell_type": "code",
   "execution_count": 7,
   "metadata": {},
   "outputs": [],
   "source": [
    "particles = tree.arrays(particle_branch_names, library=\"np\")"
   ]
  },
  {
   "cell_type": "code",
   "execution_count": 9,
   "metadata": {},
   "outputs": [
    {
     "data": {
      "text/plain": [
       "dict"
      ]
     },
     "execution_count": 9,
     "metadata": {},
     "output_type": "execute_result"
    }
   ],
   "source": [
    "type(particles)"
   ]
  },
  {
   "cell_type": "code",
   "execution_count": 15,
   "metadata": {},
   "outputs": [
    {
     "data": {
      "text/plain": [
       "array([   0,    0,    0, ..., 3270, 3270, 3270], dtype=int32)"
      ]
     },
     "execution_count": 15,
     "metadata": {},
     "output_type": "execute_result"
    }
   ],
   "source": [
    "particles[\"Part_event_number\"][0]"
   ]
  },
  {
   "cell_type": "code",
   "execution_count": 16,
   "metadata": {},
   "outputs": [],
   "source": [
    "def create_arrays(branch_arrays: Dict[str, np.ndarray]):\n",
    "    variables = list(branch_arrays.keys())\n",
    "    num_evts = len(branch_arrays[variables[0]])\n",
    "    all_arrays = []\n",
    "    print(\"num_evts:\", num_evts)\n",
    "    for i in range(num_evts):\n",
    "        inputs = [branch_arrays[x][i] for x in variables]\n",
    "        array = np.stack(inputs, axis=1)\n",
    "        all_arrays.append(array)\n",
    "\n",
    "    return all_arrays"
   ]
  },
  {
   "cell_type": "code",
   "execution_count": 21,
   "metadata": {},
   "outputs": [
    {
     "data": {
      "text/plain": [
       "200"
      ]
     },
     "execution_count": 21,
     "metadata": {},
     "output_type": "execute_result"
    }
   ],
   "source": [
    "len(particles[list(particles.keys())[0]])"
   ]
  },
  {
   "cell_type": "code",
   "execution_count": 17,
   "metadata": {},
   "outputs": [],
   "source": [
    "par_array = create_arrays(particles, 0)"
   ]
  },
  {
   "cell_type": "code",
   "execution_count": 18,
   "metadata": {},
   "outputs": [
    {
     "data": {
      "text/plain": [
       "(185528, 19)"
      ]
     },
     "execution_count": 18,
     "metadata": {},
     "output_type": "execute_result"
    }
   ],
   "source": [
    "par_array.shape"
   ]
  },
  {
   "cell_type": "code",
   "execution_count": 14,
   "metadata": {},
   "outputs": [],
   "source": [
    "particle_pt = particles[particle_branch_prefix + \"pt\"]"
   ]
  },
  {
   "cell_type": "code",
   "execution_count": 15,
   "metadata": {},
   "outputs": [
    {
     "data": {
      "text/plain": [
       "(awkward.highlevel.Array, 185528)"
      ]
     },
     "execution_count": 15,
     "metadata": {},
     "output_type": "execute_result"
    }
   ],
   "source": [
    "type(particle_pt), len(particle_pt[0])"
   ]
  },
  {
   "cell_type": "code",
   "execution_count": 25,
   "metadata": {},
   "outputs": [],
   "source": [
    "df = ak.to_dataframe(particle_pt[0])"
   ]
  },
  {
   "cell_type": "code",
   "execution_count": 26,
   "metadata": {},
   "outputs": [
    {
     "data": {
      "text/html": [
       "<div>\n",
       "<style scoped>\n",
       "    .dataframe tbody tr th:only-of-type {\n",
       "        vertical-align: middle;\n",
       "    }\n",
       "\n",
       "    .dataframe tbody tr th {\n",
       "        vertical-align: top;\n",
       "    }\n",
       "\n",
       "    .dataframe thead th {\n",
       "        text-align: right;\n",
       "    }\n",
       "</style>\n",
       "<table border=\"1\" class=\"dataframe\">\n",
       "  <thead>\n",
       "    <tr style=\"text-align: right;\">\n",
       "      <th></th>\n",
       "      <th>values</th>\n",
       "    </tr>\n",
       "    <tr>\n",
       "      <th>entry</th>\n",
       "      <th></th>\n",
       "    </tr>\n",
       "  </thead>\n",
       "  <tbody>\n",
       "    <tr>\n",
       "      <th>0</th>\n",
       "      <td>0.000000</td>\n",
       "    </tr>\n",
       "    <tr>\n",
       "      <th>1</th>\n",
       "      <td>0.000000</td>\n",
       "    </tr>\n",
       "    <tr>\n",
       "      <th>2</th>\n",
       "      <td>0.000000</td>\n",
       "    </tr>\n",
       "    <tr>\n",
       "      <th>3</th>\n",
       "      <td>0.000000</td>\n",
       "    </tr>\n",
       "    <tr>\n",
       "      <th>4</th>\n",
       "      <td>190916.156250</td>\n",
       "    </tr>\n",
       "    <tr>\n",
       "      <th>...</th>\n",
       "      <td>...</td>\n",
       "    </tr>\n",
       "    <tr>\n",
       "      <th>185523</th>\n",
       "      <td>368.097168</td>\n",
       "    </tr>\n",
       "    <tr>\n",
       "      <th>185524</th>\n",
       "      <td>359.283356</td>\n",
       "    </tr>\n",
       "    <tr>\n",
       "      <th>185525</th>\n",
       "      <td>371.639557</td>\n",
       "    </tr>\n",
       "    <tr>\n",
       "      <th>185526</th>\n",
       "      <td>403.309540</td>\n",
       "    </tr>\n",
       "    <tr>\n",
       "      <th>185527</th>\n",
       "      <td>656.103394</td>\n",
       "    </tr>\n",
       "  </tbody>\n",
       "</table>\n",
       "<p>185528 rows × 1 columns</p>\n",
       "</div>"
      ],
      "text/plain": [
       "               values\n",
       "entry                \n",
       "0            0.000000\n",
       "1            0.000000\n",
       "2            0.000000\n",
       "3            0.000000\n",
       "4       190916.156250\n",
       "...               ...\n",
       "185523     368.097168\n",
       "185524     359.283356\n",
       "185525     371.639557\n",
       "185526     403.309540\n",
       "185527     656.103394\n",
       "\n",
       "[185528 rows x 1 columns]"
      ]
     },
     "execution_count": 26,
     "metadata": {},
     "output_type": "execute_result"
    }
   ],
   "source": [
    "df"
   ]
  },
  {
   "cell_type": "code",
   "execution_count": 24,
   "metadata": {},
   "outputs": [
    {
     "data": {
      "text/plain": [
       "values    0.0\n",
       "Name: (0, 0), dtype: float32"
      ]
     },
     "execution_count": 24,
     "metadata": {},
     "output_type": "execute_result"
    }
   ],
   "source": [
    "df.loc[(0, 0)]"
   ]
  },
  {
   "cell_type": "code",
   "execution_count": null,
   "metadata": {},
   "outputs": [],
   "source": []
  }
 ],
 "metadata": {
  "kernelspec": {
   "display_name": "torch",
   "language": "python",
   "name": "python3"
  },
  "language_info": {
   "codemirror_mode": {
    "name": "ipython",
    "version": 3
   },
   "file_extension": ".py",
   "mimetype": "text/x-python",
   "name": "python",
   "nbconvert_exporter": "python",
   "pygments_lexer": "ipython3",
   "version": "3.9.10"
  },
  "orig_nbformat": 4
 },
 "nbformat": 4,
 "nbformat_minor": 2
}
